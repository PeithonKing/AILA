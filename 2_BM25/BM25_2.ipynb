{
 "cells": [
  {
   "cell_type": "markdown",
   "metadata": {},
   "source": [
    "# Imports and Custom Functions writen for convenience"
   ]
  },
  {
   "cell_type": "markdown",
   "metadata": {},
   "source": [
    "## Importing Libraries"
   ]
  },
  {
   "cell_type": "code",
   "execution_count": 1,
   "metadata": {},
   "outputs": [],
   "source": [
    "from BM25_2 import BM25\n",
    "from metrices import *\n",
    "import json\n",
    "import numpy as np\n",
    "import pandas as pd\n",
    "import matplotlib.pyplot as plt\n",
    "import time\n",
    "from tqdm import tqdm"
   ]
  },
  {
   "cell_type": "markdown",
   "metadata": {},
   "source": [
    "## Custom Functions and Location of data folder"
   ]
  },
  {
   "cell_type": "code",
   "execution_count": 2,
   "metadata": {},
   "outputs": [],
   "source": [
    "loc = \"../refining_seriously/\"\n",
    "def namestr(obj, namespace = globals()):\n",
    "    return [name for name in namespace if namespace[name] is obj][0]\n",
    "\n",
    "\n",
    "def print_json(query, n = 3, m = 5, k=6):\n",
    "    n = 3\n",
    "    print(f\"{namestr(query)} = \"+\"{\\n\", end=\"\")  # start of the json\n",
    "    l = sorted(list(query.keys()),\n",
    "            key=lambda x: int(x[k:]))\n",
    "    for QID in l[:n]:\n",
    "        print('\\t\"'+QID+'\":', query[QID][:m], \"\\b\\b, ......],\")\n",
    "    for i in range(2):\n",
    "        print(\"\\t...\")\n",
    "    for QID in l[-n:]:\n",
    "        print('\\t\"'+QID+'\":', query[QID][:m], \"\\b\\b, ......],\")\n",
    "    print(\"}\")  # end of the json"
   ]
  },
  {
   "cell_type": "markdown",
   "metadata": {},
   "source": [
    "## Importing Data"
   ]
  },
  {
   "cell_type": "code",
   "execution_count": 3,
   "metadata": {},
   "outputs": [
    {
     "name": "stdout",
     "output_type": "stream",
     "text": [
      "prior_cases = {\n",
      "\t\"C1\": ['masud', 'khan', 'v', 'state', 'uttar', ......],\n",
      "\t\"C2\": ['indian', 'oil', 'corpor', 'v', 'nepc', ......],\n",
      "\t\"C3\": ['gurpal', 'singh', 'v', 'state', 'punjab', ......],\n",
      "\t...\n",
      "\t...\n",
      "\t\"C2912\": ['dharangadhara', 'chemic', 'work', 'limit', 'v', ......],\n",
      "\t\"C2913\": ['central', 'bank', 'india', 'v', 'sethumadhavan', ......],\n",
      "\t\"C2914\": ['som', 'raj', 'soma', 'v', 'state', ......],\n",
      "}\n"
     ]
    }
   ],
   "source": [
    "# \"cases.json\" has the query and the doc_id of the relevant documents\n",
    "with open(loc+\"cases.json\") as f:\n",
    "    prior_cases = json.load(f)\n",
    "print_json(prior_cases, k=1)"
   ]
  },
  {
   "cell_type": "code",
   "execution_count": 4,
   "metadata": {},
   "outputs": [
    {
     "name": "stdout",
     "output_type": "stream",
     "text": [
      "query = {\n",
      "\t\"AILA_Q1\": ['appel', 'februari', 'appoint', 'offic', 'grade', ......],\n",
      "\t\"AILA_Q2\": ['appel', 'us', 'examin', 'prime', 'wit', ......],\n",
      "\t\"AILA_Q3\": ['appeal', 'aris', 'judgment', 'learn', 'singl', ......],\n",
      "\t...\n",
      "\t...\n",
      "\t\"AILA_Q48\": ['whether', 'sanction', 'requir', 'initi', 'crimin', ......],\n",
      "\t\"AILA_Q49\": ['appel', 'patwari', 'work', 'villag', 'v1', ......],\n",
      "\t\"AILA_Q50\": ['peculiar', 'featur', 'appeal', 'special', 'leav', ......],\n",
      "}\n"
     ]
    }
   ],
   "source": [
    "# \"Query_doc.json\" has all the queries (X)\n",
    "with open(loc+\"Query_doc.json\") as f:\n",
    "    query = json.load(f)\n",
    "print_json(query)"
   ]
  },
  {
   "cell_type": "code",
   "execution_count": 5,
   "metadata": {},
   "outputs": [
    {
     "name": "stdout",
     "output_type": "stream",
     "text": [
      "answers = {\n",
      "\t\"AILA_Q1\": ['C14', ......],\n",
      "\t\"AILA_Q2\": ['C27', ......],\n",
      "\t\"AILA_Q3\": ['C1', ......],\n",
      "\t...\n",
      "\t...\n",
      "\t\"AILA_Q48\": ['C82', ......],\n",
      "\t\"AILA_Q49\": ['C174', ......],\n",
      "\t\"AILA_Q50\": ['C27', ......],\n",
      "}\n"
     ]
    }
   ],
   "source": [
    "# \"answers.json\" has the relevant documents (Y)\n",
    "with open(loc+\"answers.json\") as f:\n",
    "    answers = json.load(f)\n",
    "print_json(answers, 3, 1)"
   ]
  },
  {
   "cell_type": "markdown",
   "metadata": {},
   "source": [
    "# Main Part"
   ]
  },
  {
   "cell_type": "code",
   "execution_count": 6,
   "metadata": {},
   "outputs": [
    {
     "name": "stdout",
     "output_type": "stream",
     "text": [
      "Loading from cache...\n"
     ]
    }
   ],
   "source": [
    "model = BM25(prior_cases, query)"
   ]
  },
  {
   "cell_type": "code",
   "execution_count": 7,
   "metadata": {},
   "outputs": [
    {
     "data": {
      "text/plain": [
       "15.123029463779126"
      ]
     },
     "execution_count": 7,
     "metadata": {},
     "output_type": "execute_result"
    }
   ],
   "source": [
    "MAP(model.get_scores(), answers)*100"
   ]
  },
  {
   "cell_type": "code",
   "execution_count": 8,
   "metadata": {},
   "outputs": [
    {
     "data": {
      "text/plain": [
       "17.468313981069432"
      ]
     },
     "execution_count": 8,
     "metadata": {},
     "output_type": "execute_result"
    }
   ],
   "source": [
    "MAP(model.get_scores(k1=1.1, k2=2, b=0.515), answers)*100"
   ]
  },
  {
   "cell_type": "markdown",
   "metadata": {},
   "source": [
    "# Best till now:\n",
    "### k1=1.1, k2=2, b=0.515"
   ]
  },
  {
   "cell_type": "code",
   "execution_count": 18,
   "metadata": {},
   "outputs": [
    {
     "name": "stderr",
     "output_type": "stream",
     "text": [
      "  4%|▍         | 18/400 [00:15<05:29,  1.16it/s]\n"
     ]
    },
    {
     "ename": "KeyboardInterrupt",
     "evalue": "",
     "output_type": "error",
     "traceback": [
      "\u001b[1;31m---------------------------------------------------------------------------\u001b[0m",
      "\u001b[1;31mKeyboardInterrupt\u001b[0m                         Traceback (most recent call last)",
      "\u001b[1;32mc:\\Users\\amukh\\Desktop\\inter\\working\\2_BM25\\BM25_2.ipynb Cell 15'\u001b[0m in \u001b[0;36m<module>\u001b[1;34m\u001b[0m\n\u001b[0;32m      <a href='vscode-notebook-cell:/c%3A/Users/amukh/Desktop/inter/working/2_BM25/BM25_2.ipynb#ch0000014?line=3'>4</a>\u001b[0m i \u001b[39m=\u001b[39m \u001b[39m1\u001b[39m\n\u001b[0;32m      <a href='vscode-notebook-cell:/c%3A/Users/amukh/Desktop/inter/working/2_BM25/BM25_2.ipynb#ch0000014?line=4'>5</a>\u001b[0m \u001b[39mfor\u001b[39;00m var \u001b[39min\u001b[39;00m tqdm(X\u001b[39m.\u001b[39mkeys()):\n\u001b[0;32m      <a href='vscode-notebook-cell:/c%3A/Users/amukh/Desktop/inter/working/2_BM25/BM25_2.ipynb#ch0000014?line=5'>6</a>\u001b[0m     \u001b[39m# t0 = time.time()    ######\u001b[39;00m\n\u001b[0;32m      <a href='vscode-notebook-cell:/c%3A/Users/amukh/Desktop/inter/working/2_BM25/BM25_2.ipynb#ch0000014?line=6'>7</a>\u001b[0m     \u001b[39m#\u001b[39;00m\n\u001b[0;32m      <a href='vscode-notebook-cell:/c%3A/Users/amukh/Desktop/inter/working/2_BM25/BM25_2.ipynb#ch0000014?line=7'>8</a>\u001b[0m     \u001b[39m# print(\"k2 =\", var, end=\" \")\u001b[39;00m\n\u001b[0;32m      <a href='vscode-notebook-cell:/c%3A/Users/amukh/Desktop/inter/working/2_BM25/BM25_2.ipynb#ch0000014?line=8'>9</a>\u001b[0m     \u001b[39m#\u001b[39;00m\n\u001b[1;32m---> <a href='vscode-notebook-cell:/c%3A/Users/amukh/Desktop/inter/working/2_BM25/BM25_2.ipynb#ch0000014?line=9'>10</a>\u001b[0m     scores \u001b[39m=\u001b[39m model\u001b[39m.\u001b[39;49mget_scores(k1\u001b[39m=\u001b[39;49mvar, k2\u001b[39m=\u001b[39;49m\u001b[39m2\u001b[39;49m, b\u001b[39m=\u001b[39;49m\u001b[39m0.515\u001b[39;49m)  \u001b[39m# k1=0.25, k2=1.2, b=0.75\u001b[39;00m\n\u001b[0;32m     <a href='vscode-notebook-cell:/c%3A/Users/amukh/Desktop/inter/working/2_BM25/BM25_2.ipynb#ch0000014?line=10'>11</a>\u001b[0m     \u001b[39m#\u001b[39;00m\n\u001b[0;32m     <a href='vscode-notebook-cell:/c%3A/Users/amukh/Desktop/inter/working/2_BM25/BM25_2.ipynb#ch0000014?line=11'>12</a>\u001b[0m     MeanAP \u001b[39m=\u001b[39m MAP(scores, answers)\n",
      "File \u001b[1;32mc:\\Users\\amukh\\Desktop\\inter\\working\\2_BM25\\BM25_2.py:157\u001b[0m, in \u001b[0;36mBM25.get_scores\u001b[1;34m(self, k1, k2, b)\u001b[0m\n\u001b[0;32m    <a href='file:///c%3A/Users/amukh/Desktop/inter/working/2_BM25/BM25_2.py?line=154'>155</a>\u001b[0m \u001b[39mdef\u001b[39;00m \u001b[39mget_scores\u001b[39m(\u001b[39mself\u001b[39m, k1\u001b[39m=\u001b[39m\u001b[39m0.25\u001b[39m, k2\u001b[39m=\u001b[39m\u001b[39m1.2\u001b[39m, b\u001b[39m=\u001b[39m\u001b[39m0.75\u001b[39m):\n\u001b[0;32m    <a href='file:///c%3A/Users/amukh/Desktop/inter/working/2_BM25/BM25_2.py?line=155'>156</a>\u001b[0m     \u001b[39m\"\"\"Returns a 2D list of scores for each query.\"\"\"\u001b[39;00m\n\u001b[1;32m--> <a href='file:///c%3A/Users/amukh/Desktop/inter/working/2_BM25/BM25_2.py?line=156'>157</a>\u001b[0m     p1 \u001b[39m=\u001b[39m \u001b[39mself\u001b[39m\u001b[39m.\u001b[39mdoc_part(k1, b)\u001b[39m*\u001b[39m\u001b[39mself\u001b[39;49m\u001b[39m.\u001b[39;49midf()\n\u001b[0;32m    <a href='file:///c%3A/Users/amukh/Desktop/inter/working/2_BM25/BM25_2.py?line=157'>158</a>\u001b[0m     \u001b[39m# print(\"p1 = \", p1)\u001b[39;00m\n\u001b[0;32m    <a href='file:///c%3A/Users/amukh/Desktop/inter/working/2_BM25/BM25_2.py?line=158'>159</a>\u001b[0m     p2 \u001b[39m=\u001b[39m \u001b[39mself\u001b[39m\u001b[39m.\u001b[39mquery_part(k2)\u001b[39m.\u001b[39mT\n",
      "File \u001b[1;32mc:\\Users\\amukh\\Desktop\\inter\\working\\2_BM25\\BM25_2.py:144\u001b[0m, in \u001b[0;36mBM25.idf\u001b[1;34m(self)\u001b[0m\n\u001b[0;32m    <a href='file:///c%3A/Users/amukh/Desktop/inter/working/2_BM25/BM25_2.py?line=141'>142</a>\u001b[0m \u001b[39mdef\u001b[39;00m \u001b[39midf\u001b[39m(\u001b[39mself\u001b[39m):\n\u001b[0;32m    <a href='file:///c%3A/Users/amukh/Desktop/inter/working/2_BM25/BM25_2.py?line=142'>143</a>\u001b[0m     \u001b[39m\"\"\"BM25 Part 3: This is the last part of the BM25 formula that is almost independent of the document or the query.\"\"\"\u001b[39;00m\n\u001b[1;32m--> <a href='file:///c%3A/Users/amukh/Desktop/inter/working/2_BM25/BM25_2.py?line=143'>144</a>\u001b[0m     fi \u001b[39m=\u001b[39m \u001b[39mself\u001b[39;49m\u001b[39m.\u001b[39;49mD\u001b[39m.\u001b[39;49mloc[:, \u001b[39mlist\u001b[39;49m(\u001b[39mself\u001b[39;49m\u001b[39m.\u001b[39;49mD\u001b[39m.\u001b[39;49mkeys())[\u001b[39m1\u001b[39;49m]:]\u001b[39m.\u001b[39;49mto_numpy(dtype\u001b[39m=\u001b[39;49mnp\u001b[39m.\u001b[39;49mint32)\n\u001b[0;32m    <a href='file:///c%3A/Users/amukh/Desktop/inter/working/2_BM25/BM25_2.py?line=144'>145</a>\u001b[0m     \u001b[39m# print(\"fi = \", fi)\u001b[39;00m\n\u001b[0;32m    <a href='file:///c%3A/Users/amukh/Desktop/inter/working/2_BM25/BM25_2.py?line=145'>146</a>\u001b[0m     k \u001b[39m=\u001b[39m np\u001b[39m.\u001b[39mcount_nonzero(fi, axis \u001b[39m=\u001b[39m \u001b[39m0\u001b[39m)\u001b[39m.\u001b[39mreshape((\u001b[39m1\u001b[39m, \u001b[39mlen\u001b[39m(\u001b[39mself\u001b[39m\u001b[39m.\u001b[39mIs)))\n",
      "File \u001b[1;32m~\\AppData\\Local\\Packages\\PythonSoftwareFoundation.Python.3.9_qbz5n2kfra8p0\\LocalCache\\local-packages\\Python39\\site-packages\\pandas\\core\\frame.py:1656\u001b[0m, in \u001b[0;36mDataFrame.to_numpy\u001b[1;34m(self, dtype, copy, na_value)\u001b[0m\n\u001b[0;32m   <a href='file:///c%3A/Users/amukh/AppData/Local/Packages/PythonSoftwareFoundation.Python.3.9_qbz5n2kfra8p0/LocalCache/local-packages/Python39/site-packages/pandas/core/frame.py?line=1600'>1601</a>\u001b[0m \u001b[39m\"\"\"\u001b[39;00m\n\u001b[0;32m   <a href='file:///c%3A/Users/amukh/AppData/Local/Packages/PythonSoftwareFoundation.Python.3.9_qbz5n2kfra8p0/LocalCache/local-packages/Python39/site-packages/pandas/core/frame.py?line=1601'>1602</a>\u001b[0m \u001b[39mConvert the DataFrame to a NumPy array.\u001b[39;00m\n\u001b[0;32m   <a href='file:///c%3A/Users/amukh/AppData/Local/Packages/PythonSoftwareFoundation.Python.3.9_qbz5n2kfra8p0/LocalCache/local-packages/Python39/site-packages/pandas/core/frame.py?line=1602'>1603</a>\u001b[0m \n\u001b[1;32m   (...)\u001b[0m\n\u001b[0;32m   <a href='file:///c%3A/Users/amukh/AppData/Local/Packages/PythonSoftwareFoundation.Python.3.9_qbz5n2kfra8p0/LocalCache/local-packages/Python39/site-packages/pandas/core/frame.py?line=1652'>1653</a>\u001b[0m \u001b[39m       [2, 4.5, Timestamp('2000-01-02 00:00:00')]], dtype=object)\u001b[39;00m\n\u001b[0;32m   <a href='file:///c%3A/Users/amukh/AppData/Local/Packages/PythonSoftwareFoundation.Python.3.9_qbz5n2kfra8p0/LocalCache/local-packages/Python39/site-packages/pandas/core/frame.py?line=1653'>1654</a>\u001b[0m \u001b[39m\"\"\"\u001b[39;00m\n\u001b[0;32m   <a href='file:///c%3A/Users/amukh/AppData/Local/Packages/PythonSoftwareFoundation.Python.3.9_qbz5n2kfra8p0/LocalCache/local-packages/Python39/site-packages/pandas/core/frame.py?line=1654'>1655</a>\u001b[0m \u001b[39mself\u001b[39m\u001b[39m.\u001b[39m_consolidate_inplace()\n\u001b[1;32m-> <a href='file:///c%3A/Users/amukh/AppData/Local/Packages/PythonSoftwareFoundation.Python.3.9_qbz5n2kfra8p0/LocalCache/local-packages/Python39/site-packages/pandas/core/frame.py?line=1655'>1656</a>\u001b[0m result \u001b[39m=\u001b[39m \u001b[39mself\u001b[39;49m\u001b[39m.\u001b[39;49m_mgr\u001b[39m.\u001b[39;49mas_array(\n\u001b[0;32m   <a href='file:///c%3A/Users/amukh/AppData/Local/Packages/PythonSoftwareFoundation.Python.3.9_qbz5n2kfra8p0/LocalCache/local-packages/Python39/site-packages/pandas/core/frame.py?line=1656'>1657</a>\u001b[0m     transpose\u001b[39m=\u001b[39;49m\u001b[39mself\u001b[39;49m\u001b[39m.\u001b[39;49m_AXIS_REVERSED, dtype\u001b[39m=\u001b[39;49mdtype, copy\u001b[39m=\u001b[39;49mcopy, na_value\u001b[39m=\u001b[39;49mna_value\n\u001b[0;32m   <a href='file:///c%3A/Users/amukh/AppData/Local/Packages/PythonSoftwareFoundation.Python.3.9_qbz5n2kfra8p0/LocalCache/local-packages/Python39/site-packages/pandas/core/frame.py?line=1657'>1658</a>\u001b[0m )\n\u001b[0;32m   <a href='file:///c%3A/Users/amukh/AppData/Local/Packages/PythonSoftwareFoundation.Python.3.9_qbz5n2kfra8p0/LocalCache/local-packages/Python39/site-packages/pandas/core/frame.py?line=1658'>1659</a>\u001b[0m \u001b[39mif\u001b[39;00m result\u001b[39m.\u001b[39mdtype \u001b[39mis\u001b[39;00m \u001b[39mnot\u001b[39;00m dtype:\n\u001b[0;32m   <a href='file:///c%3A/Users/amukh/AppData/Local/Packages/PythonSoftwareFoundation.Python.3.9_qbz5n2kfra8p0/LocalCache/local-packages/Python39/site-packages/pandas/core/frame.py?line=1659'>1660</a>\u001b[0m     result \u001b[39m=\u001b[39m np\u001b[39m.\u001b[39marray(result, dtype\u001b[39m=\u001b[39mdtype, copy\u001b[39m=\u001b[39m\u001b[39mFalse\u001b[39;00m)\n",
      "File \u001b[1;32m~\\AppData\\Local\\Packages\\PythonSoftwareFoundation.Python.3.9_qbz5n2kfra8p0\\LocalCache\\local-packages\\Python39\\site-packages\\pandas\\core\\internals\\managers.py:1464\u001b[0m, in \u001b[0;36mBlockManager.as_array\u001b[1;34m(self, transpose, dtype, copy, na_value)\u001b[0m\n\u001b[0;32m   <a href='file:///c%3A/Users/amukh/AppData/Local/Packages/PythonSoftwareFoundation.Python.3.9_qbz5n2kfra8p0/LocalCache/local-packages/Python39/site-packages/pandas/core/internals/managers.py?line=1456'>1457</a>\u001b[0m         arr \u001b[39m=\u001b[39m np\u001b[39m.\u001b[39masarray(blk\u001b[39m.\u001b[39mget_values())\n\u001b[0;32m   <a href='file:///c%3A/Users/amukh/AppData/Local/Packages/PythonSoftwareFoundation.Python.3.9_qbz5n2kfra8p0/LocalCache/local-packages/Python39/site-packages/pandas/core/internals/managers.py?line=1457'>1458</a>\u001b[0m         \u001b[39mif\u001b[39;00m dtype:\n\u001b[0;32m   <a href='file:///c%3A/Users/amukh/AppData/Local/Packages/PythonSoftwareFoundation.Python.3.9_qbz5n2kfra8p0/LocalCache/local-packages/Python39/site-packages/pandas/core/internals/managers.py?line=1458'>1459</a>\u001b[0m             \u001b[39m# error: Argument 1 to \"astype\" of \"_ArrayOrScalarCommon\" has\u001b[39;00m\n\u001b[0;32m   <a href='file:///c%3A/Users/amukh/AppData/Local/Packages/PythonSoftwareFoundation.Python.3.9_qbz5n2kfra8p0/LocalCache/local-packages/Python39/site-packages/pandas/core/internals/managers.py?line=1459'>1460</a>\u001b[0m             \u001b[39m# incompatible type \"Union[ExtensionDtype, str, dtype[Any],\u001b[39;00m\n\u001b[0;32m   <a href='file:///c%3A/Users/amukh/AppData/Local/Packages/PythonSoftwareFoundation.Python.3.9_qbz5n2kfra8p0/LocalCache/local-packages/Python39/site-packages/pandas/core/internals/managers.py?line=1460'>1461</a>\u001b[0m             \u001b[39m# Type[object]]\"; expected \"Union[dtype[Any], None, type,\u001b[39;00m\n\u001b[0;32m   <a href='file:///c%3A/Users/amukh/AppData/Local/Packages/PythonSoftwareFoundation.Python.3.9_qbz5n2kfra8p0/LocalCache/local-packages/Python39/site-packages/pandas/core/internals/managers.py?line=1461'>1462</a>\u001b[0m             \u001b[39m# _SupportsDType, str, Union[Tuple[Any, int], Tuple[Any, Union[int,\u001b[39;00m\n\u001b[0;32m   <a href='file:///c%3A/Users/amukh/AppData/Local/Packages/PythonSoftwareFoundation.Python.3.9_qbz5n2kfra8p0/LocalCache/local-packages/Python39/site-packages/pandas/core/internals/managers.py?line=1462'>1463</a>\u001b[0m             \u001b[39m# Sequence[int]]], List[Any], _DTypeDict, Tuple[Any, Any]]]\"\u001b[39;00m\n\u001b[1;32m-> <a href='file:///c%3A/Users/amukh/AppData/Local/Packages/PythonSoftwareFoundation.Python.3.9_qbz5n2kfra8p0/LocalCache/local-packages/Python39/site-packages/pandas/core/internals/managers.py?line=1463'>1464</a>\u001b[0m             arr \u001b[39m=\u001b[39m arr\u001b[39m.\u001b[39;49mastype(dtype, copy\u001b[39m=\u001b[39;49m\u001b[39mFalse\u001b[39;49;00m)  \u001b[39m# type: ignore[arg-type]\u001b[39;00m\n\u001b[0;32m   <a href='file:///c%3A/Users/amukh/AppData/Local/Packages/PythonSoftwareFoundation.Python.3.9_qbz5n2kfra8p0/LocalCache/local-packages/Python39/site-packages/pandas/core/internals/managers.py?line=1464'>1465</a>\u001b[0m \u001b[39melse\u001b[39;00m:\n\u001b[0;32m   <a href='file:///c%3A/Users/amukh/AppData/Local/Packages/PythonSoftwareFoundation.Python.3.9_qbz5n2kfra8p0/LocalCache/local-packages/Python39/site-packages/pandas/core/internals/managers.py?line=1465'>1466</a>\u001b[0m     arr \u001b[39m=\u001b[39m \u001b[39mself\u001b[39m\u001b[39m.\u001b[39m_interleave(dtype\u001b[39m=\u001b[39mdtype, na_value\u001b[39m=\u001b[39mna_value)\n",
      "\u001b[1;31mKeyboardInterrupt\u001b[0m: "
     ]
    }
   ],
   "source": [
    "X = {x:None for x in np.arange(0.8, 1.2, 0.001)}\n",
    "t00 = time.time()    ######\n",
    "# pbar = tqdm(enumerate(X))\n",
    "i = 1\n",
    "for var in tqdm(X.keys()):\n",
    "    # t0 = time.time()    ######\n",
    "    #\n",
    "    # print(\"k2 =\", var, end=\" \")\n",
    "    #\n",
    "    scores = model.get_scores(k1=var, k2=2, b=0.515)  # k1=0.25, k2=1.2, b=0.75\n",
    "    #\n",
    "    MeanAP = MAP(scores, answers)\n",
    "    X[var] = MeanAP\n",
    "    i+=1\n",
    "    # print(\"-> MeanAP =\", MeanAP)\n",
    "    #\n",
    "    # show results \n",
    "    # t1 = time.time() ######\n",
    "    # pbar.set_description(f\"var = {var}\")\n",
    "    # print(f\"took {(t1-t0)} seconds\") ######\n",
    "    # print(f\"average time taken per file = {((t1-t00)/i)} seconds\") ######\n",
    "    # print(f\"percentage done = {(i/len(X)*100)}%\") ######\n",
    "    # print(f\"estimated time remaining = {((t1-t00)*(len(X)-i)/i)} sec = {((t1-t00)*(len(X)-i)/(60*i))} min\\n\") ######\n",
    "    # print(f\"total elapsed time = {(t1-t00)} seconds\\n\") ######"
   ]
  },
  {
   "cell_type": "code",
   "execution_count": 16,
   "metadata": {},
   "outputs": [
    {
     "name": "stdout",
     "output_type": "stream",
     "text": [
      "best BM25(b = 1.1000000000000003) = 17.468313981069432%\n"
     ]
    }
   ],
   "source": [
    "a = list(X.keys())\n",
    "m = max(X.values())\n",
    "print(f\"best BM25(b = {a[list(X.values()).index(m)]}) = {m*100}%\")"
   ]
  },
  {
   "cell_type": "code",
   "execution_count": 17,
   "metadata": {},
   "outputs": [
    {
     "data": {
      "text/plain": [
       "[<matplotlib.lines.Line2D at 0x17d45749a60>]"
      ]
     },
     "execution_count": 17,
     "metadata": {},
     "output_type": "execute_result"
    },
    {
     "data": {
      "image/png": "[encoded data removed]",
      "text/plain": [
       "<Figure size 432x288 with 1 Axes>"
      ]
     },
     "metadata": {
      "needs_background": "light"
     },
     "output_type": "display_data"
    }
   ],
   "source": [
    "plt.plot(list(X.keys())[:], list(X.values())[:])\n",
    "# plt.title(\"δMAP/δb\\nbest BM25(b=0.96, k1=1.2, ε=0.25) = 18.21%\")\n",
    "# plt.xlabel(\"b\")\n",
    "# plt.ylabel(\"MAP\")"
   ]
  }
 ],
 "metadata": {
  "interpreter": {
   "hash": "95b59b4b0e72d3e94105c3ab4f1a1e6e746e4c2a7c235241251baf92fb36381f"
  },
  "kernelspec": {
   "display_name": "Python 3 (ipykernel)",
   "language": "python",
   "name": "python3"
  },
  "language_info": {
   "codemirror_mode": {
    "name": "ipython",
    "version": 3
   },
   "file_extension": ".py",
   "mimetype": "text/x-python",
   "name": "python",
   "nbconvert_exporter": "python",
   "pygments_lexer": "ipython3",
   "version": "3.9.13"
  }
 },
 "nbformat": 4,
 "nbformat_minor": 2
}
