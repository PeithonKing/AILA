{
 "cells": [
  {
   "cell_type": "code",
   "execution_count": 1,
   "metadata": {},
   "outputs": [],
   "source": [
    "from rank_bm25 import BM25Okapi\n",
    "from BM25_3 import BM25\n",
    "# import numpy as np\n",
    "# import pandas as pd"
   ]
  },
  {
   "cell_type": "code",
   "execution_count": 2,
   "metadata": {},
   "outputs": [],
   "source": [
    "docs = {\n",
    "\t    \"D1\": list(\"abcbd\"),\n",
    "\t    \"D2\": list(\"befb\"),\n",
    "\t    \"D3\": list(\"bgcd\"),\n",
    "\t    \"D4\": list(\"bde\"),\n",
    "\t    \"D5\": list(\"abeg\"),\n",
    "\t    \"D6\": list(\"bghh\")\n",
    "}\n",
    "    \n",
    "query = {\"Q1\": list(\"aaacch\")}"
   ]
  },
  {
   "cell_type": "markdown",
   "metadata": {},
   "source": [
    "# Their BM25"
   ]
  },
  {
   "cell_type": "code",
   "execution_count": 3,
   "metadata": {},
   "outputs": [
    {
     "name": "stdout",
     "output_type": "stream",
     "text": [
      "self.corpus_size = 6\n",
      "word = a, freq = 2, idf = 0.5877866649021191\n",
      "word = b, freq = 6, idf = -2.5649493574615367\n",
      "word = c, freq = 2, idf = 0.5877866649021191\n",
      "word = d, freq = 3, idf = 0.0\n",
      "word = e, freq = 3, idf = 0.0\n",
      "word = f, freq = 1, idf = 1.2992829841302609\n",
      "word = g, freq = 3, idf = 0.0\n",
      "word = h, freq = 1, idf = 1.2992829841302609\n"
     ]
    }
   ],
   "source": [
    "bm25 = BM25Okapi(docs.values(), k1=1.2, b=0.75, epsilon=1)"
   ]
  },
  {
   "cell_type": "code",
   "execution_count": 4,
   "metadata": {},
   "outputs": [
    {
     "name": "stdout",
     "output_type": "stream",
     "text": [
      "self.doc_freqs = [{'a': 1, 'b': 2, 'c': 1, 'd': 1}, {'b': 2, 'e': 1, 'f': 1}, {'b': 1, 'g': 1, 'c': 1, 'd': 1}, {'b': 1, 'd': 1, 'e': 1}, {'a': 1, 'b': 1, 'e': 1, 'g': 1}, {'b': 1, 'g': 1, 'h': 2}]\n",
      "self.idf = {'a': 0.5877866649021191, 'b': -2.5649493574615367, 'c': 0.5877866649021191, 'd': 0.0, 'e': 0.0, 'f': 1.2992829841302609, 'g': 0.0, 'h': 1.2992829841302609}\n",
      "q = a\n",
      "q_freq = [1 0 0 0 1 0]\n",
      "q = a\n",
      "q_freq = [1 0 0 0 1 0]\n",
      "q = a\n",
      "q_freq = [1 0 0 0 1 0]\n",
      "q = c\n",
      "q_freq = [1 0 1 0 0 0]\n",
      "q = c\n",
      "q_freq = [1 0 1 0 0 0]\n",
      "q = h\n",
      "q_freq = [0 0 0 0 0 2]\n"
     ]
    },
    {
     "data": {
      "text/plain": [
       "array([2.66624879, 0.        , 1.17557333, 0.        , 1.76335999,\n",
       "       1.7865141 ])"
      ]
     },
     "execution_count": 4,
     "metadata": {},
     "output_type": "execute_result"
    }
   ],
   "source": [
    "doc_scores = bm25.get_scores(query[\"Q1\"])\n",
    "doc_scores"
   ]
  },
  {
   "cell_type": "markdown",
   "metadata": {},
   "source": [
    "# My BM25"
   ]
  },
  {
   "cell_type": "code",
   "execution_count": 5,
   "metadata": {},
   "outputs": [
    {
     "name": "stdout",
     "output_type": "stream",
     "text": [
      "Previous file not found...\n",
      "Catching vectorised fis and qfis for faster calculations (takes ~2 mins)\n",
      "Starting docs... done\n",
      "    dl  h  a  c\n",
      "D1   5  0  1  1\n",
      "D2   4  0  0  0\n",
      "D3   4  0  0  1\n",
      "D4   3  0  0  0\n",
      "D5   4  0  1  0\n",
      "D6   4  2  0  0\n",
      "Starting queries... done\n",
      "    a  c  h\n",
      "Q1  3  2  1\n",
      "self.Is =\n",
      " ['h', 'a', 'c']\n",
      "self.D =\n",
      "     dl  h  a  c\n",
      "D1   5  0  1  1\n",
      "D2   4  0  0  0\n",
      "D3   4  0  0  1\n",
      "D4   3  0  0  0\n",
      "D5   4  0  1  0\n",
      "D6   4  2  0  0\n",
      "self.Q =\n",
      "     h  a  c\n",
      "Q1  1  3  2\n"
     ]
    }
   ],
   "source": [
    "bm25 = BM25(docs, query, load=False)"
   ]
  },
  {
   "cell_type": "code",
   "execution_count": 6,
   "metadata": {},
   "outputs": [
    {
     "name": "stdout",
     "output_type": "stream",
     "text": [
      "doc_part:\n",
      "[[0.         0.96385542 0.96385542]\n",
      " [0.         0.         0.        ]\n",
      " [0.         0.         1.        ]\n",
      " [0.         0.         0.        ]\n",
      " [0.         1.         0.        ]\n",
      " [1.11111111 0.         0.        ]]\n",
      "\n",
      "k =  [[1 2 2]]\n",
      "idf =\n",
      "[[1.29928298 0.58778666 0.58778666]\n",
      " [1.29928298 0.58778666 0.58778666]\n",
      " [1.29928298 0.58778666 0.58778666]\n",
      " [1.29928298 0.58778666 0.58778666]\n",
      " [1.29928298 0.58778666 0.58778666]\n",
      " [1.29928298 0.58778666 0.58778666]]\n",
      "\n",
      "query_part:\n",
      "[[1.         1.57142857 1.375     ]]\n",
      "\n"
     ]
    },
    {
     "data": {
      "text/plain": [
       "array([[1.66927366, 0.        , 0.80820666, 0.        , 0.92366476,\n",
       "        1.44364776]])"
      ]
     },
     "execution_count": 6,
     "metadata": {},
     "output_type": "execute_result"
    }
   ],
   "source": [
    "doc_scores = bm25.get_scores()\n",
    "doc_scores"
   ]
  }
 ],
 "metadata": {
  "interpreter": {
   "hash": "95b59b4b0e72d3e94105c3ab4f1a1e6e746e4c2a7c235241251baf92fb36381f"
  },
  "kernelspec": {
   "display_name": "Python 3.9.13 64-bit (windows store)",
   "language": "python",
   "name": "python3"
  },
  "language_info": {
   "codemirror_mode": {
    "name": "ipython",
    "version": 3
   },
   "file_extension": ".py",
   "mimetype": "text/x-python",
   "name": "python",
   "nbconvert_exporter": "python",
   "pygments_lexer": "ipython3",
   "version": "3.9.13"
  },
  "orig_nbformat": 4
 },
 "nbformat": 4,
 "nbformat_minor": 2
}
