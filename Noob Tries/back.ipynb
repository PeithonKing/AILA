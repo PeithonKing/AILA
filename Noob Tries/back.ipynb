{
 "cells": [
  {
   "cell_type": "code",
   "execution_count": 18,
   "metadata": {},
   "outputs": [],
   "source": [
    "import json\n",
    "import shutil"
   ]
  },
  {
   "cell_type": "code",
   "execution_count": 5,
   "metadata": {},
   "outputs": [],
   "source": [
    "with open(\"data.json\") as f: a = json.load(f)"
   ]
  },
  {
   "cell_type": "code",
   "execution_count": 10,
   "metadata": {},
   "outputs": [],
   "source": [
    "al = []\n",
    "for val in a.values(): al += val\n",
    "al = sorted(list(set(al)))"
   ]
  },
  {
   "cell_type": "code",
   "execution_count": 15,
   "metadata": {},
   "outputs": [
    {
     "name": "stdout",
     "output_type": "stream",
     "text": [
      "['C1', 'C10', 'C100', 'C101', 'C102', 'C103', 'C1033', 'C104', 'C105', 'C106', 'C107', 'C108', 'C109', 'C11', 'C110', 'C111', 'C112', 'C113', 'C114', 'C115', 'C116', 'C117', 'C118', 'C119', 'C12', 'C120', 'C121', 'C122', 'C1225', 'C123', 'C124', 'C125', 'C126', 'C127', 'C128', 'C129', 'C13', 'C130', 'C131', 'C132', 'C1326', 'C133', 'C134', 'C135', 'C136', 'C137', 'C1377', 'C138', 'C139', 'C1399', 'C14', 'C140', 'C1409', 'C141', 'C142', 'C143', 'C144', 'C1441', 'C145', 'C1457', 'C146', 'C147', 'C148', 'C149', 'C15', 'C150', 'C151', 'C152', 'C153', 'C154', 'C155', 'C156', 'C157', 'C158', 'C159', 'C16', 'C160', 'C161', 'C162', 'C163', 'C1631', 'C164', 'C165', 'C166', 'C167', 'C168', 'C169', 'C17', 'C170', 'C1700', 'C171', 'C172', 'C173', 'C1733', 'C174', 'C175', 'C176', 'C177', 'C1770', 'C178', 'C179', 'C18', 'C180', 'C181', 'C182', 'C183', 'C184', 'C185', 'C1855', 'C186', 'C1868', 'C187', 'C188', 'C1893', 'C1897', 'C19', 'C1965', 'C2', 'C20', 'C2046', 'C2099', 'C21', 'C2117', 'C22', 'C2231', 'C23', 'C2304', 'C24', 'C25', 'C2507', 'C2520', 'C2585', 'C26', 'C262', 'C2642', 'C2675', 'C27', 'C2733', 'C2784', 'C2797', 'C28', 'C2800', 'C29', 'C3', 'C31', 'C32', 'C33', 'C34', 'C35', 'C36', 'C364', 'C369', 'C37', 'C38', 'C383', 'C39', 'C4', 'C40', 'C404', 'C41', 'C42', 'C43', 'C438', 'C44', 'C45', 'C46', 'C47', 'C48', 'C49', 'C5', 'C50', 'C52', 'C53', 'C54', 'C55', 'C56', 'C57', 'C58', 'C59', 'C6', 'C60', 'C61', 'C62', 'C63', 'C64', 'C65', 'C66', 'C67', 'C68', 'C69', 'C694', 'C696', 'C7', 'C70', 'C71', 'C713', 'C72', 'C73', 'C74', 'C75', 'C76', 'C77', 'C78', 'C79', 'C8', 'C80', 'C802', 'C81', 'C82', 'C83', 'C84', 'C85', 'C855', 'C86', 'C87', 'C88', 'C881', 'C887', 'C89', 'C9', 'C90', 'C91', 'C92', 'C93', 'C94', 'C95', 'C96', 'C97', 'C973', 'C98', 'C99', 'C993']\n"
     ]
    }
   ],
   "source": [
    "print(al)"
   ]
  },
  {
   "cell_type": "code",
   "execution_count": 13,
   "metadata": {},
   "outputs": [
    {
     "name": "stdout",
     "output_type": "stream",
     "text": [
      "232\n"
     ]
    }
   ],
   "source": [
    "print(len(al))"
   ]
  },
  {
   "cell_type": "code",
   "execution_count": 19,
   "metadata": {},
   "outputs": [],
   "source": [
    "for c in al: shutil.copyfile(f\"Object_casedocs\\{c}.txt\", f\"relevant\\{c}.txt\")"
   ]
  }
 ],
 "metadata": {
  "interpreter": {
   "hash": "69eb92836b941e979072a76c7fcfffe5419cca933cedd02cfafbdfca1a93358c"
  },
  "kernelspec": {
   "display_name": "Python 3.9.10 64-bit",
   "language": "python",
   "name": "python3"
  },
  "language_info": {
   "codemirror_mode": {
    "name": "ipython",
    "version": 3
   },
   "file_extension": ".py",
   "mimetype": "text/x-python",
   "name": "python",
   "nbconvert_exporter": "python",
   "pygments_lexer": "ipython3",
   "version": "3.9.10"
  },
  "orig_nbformat": 4
 },
 "nbformat": 4,
 "nbformat_minor": 2
}
