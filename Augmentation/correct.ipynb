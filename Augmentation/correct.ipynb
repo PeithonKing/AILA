{
 "cells": [
  {
   "cell_type": "code",
   "execution_count": 1,
   "metadata": {},
   "outputs": [],
   "source": [
    "import os\n",
    "from textblob import TextBlob\n",
    "import time\n",
    "loc = \"Object_casedocs/\"\n",
    "l = os.listdir(loc)"
   ]
  },
  {
   "cell_type": "code",
   "execution_count": 2,
   "metadata": {},
   "outputs": [
    {
     "name": "stdout",
     "output_type": "stream",
     "text": [
      "total size to be done = 54.10769176483154 MB\n",
      "Doing: C57.txt\n",
      "took 79.79830384254456 seconds\n",
      "average time taken per file = 79.79830384254456 seconds\n",
      "average time taken kb = 2.246974182884167 seconds\n",
      "percentage done = 0.0640968392094145%\n",
      "estimated time remaining = 2074.941209446925 mins = 34.582353490782076 hours\n",
      "total elapsed time = 1.329971730709076 mins\n",
      "\n",
      "Doing: C58.txt\n",
      "took 30.673771619796753 seconds\n",
      "average time taken per file = 55.2365380525589 seconds\n",
      "average time taken kb = 2.295311553852909 seconds\n",
      "percentage done = 0.08686720344376599%\n",
      "estimated time remaining = 2119.577771692881 mins = 35.32629619488135 hours\n",
      "total elapsed time = 1.8412179350852966 mins\n",
      "\n",
      "Doing: C59.txt\n",
      "took 111.16532135009766 seconds\n",
      "average time taken per file = 73.8804657459259 seconds\n",
      "average time taken kb = 2.646927410012063 seconds\n",
      "percentage done = 0.1511297222133654%\n",
      "estimated time remaining = 2444.273193383537 mins = 40.73788655639228 hours\n",
      "total elapsed time = 3.6940232872962953 mins\n",
      "\n",
      "Doing: C60.txt\n"
     ]
    }
   ],
   "source": [
    "with open(\"till.txt\") as till:\n",
    "    n = int(till.read())\n",
    "l = sorted(l, key = lambda x: int(x[1:-4]))[n:]\n",
    "doneKB = 1  # should have been 0\n",
    "todo = sum([os.path.getsize(loc+x) for x in l])\n",
    "print(\"total size to be done =\", todo/(1024**2), \"MB\")\n",
    "t00 = time.time()\n",
    "for i, file in enumerate(l):\n",
    "    fn = loc + file\n",
    "    print(f\"Doing: {file}\")\n",
    "    t0 = time.time()\n",
    "    doneKB += os.path.getsize(fn)\n",
    "    with open(fn) as f:\n",
    "        t = TextBlob(f.read())\n",
    "    s = str(t.correct())\n",
    "    with open(fn, \"w\") as f:\n",
    "        f.write(s)\n",
    "    \n",
    "    t1 = time.time()\n",
    "    i+=1\n",
    "    print(f\"took {(t1-t0)} seconds\") ######\n",
    "    print(f\"average time taken per file = {((t1-t00)/i)} seconds\") ######\n",
    "    print(f\"average time taken kb = {((t1-t00)/(doneKB/1024))} seconds\") ######\n",
    "    print(f\"percentage done = {doneKB*100/todo}%\") ######\n",
    "    print(f\"estimated time remaining = {todo*(t1-t00)/(doneKB*60)} mins = {todo*(t1-t00)/(doneKB*3600)} hours\") ######\n",
    "    print(f\"total elapsed time = {(t1-t00)/60} mins\\n\") ######\n",
    "    with open(\"till.txt\", \"w\") as till:\n",
    "        till.write(file[1:-4])"
   ]
  }
 ],
 "metadata": {
  "interpreter": {
   "hash": "95b59b4b0e72d3e94105c3ab4f1a1e6e746e4c2a7c235241251baf92fb36381f"
  },
  "kernelspec": {
   "display_name": "Python 3.9.13 64-bit (windows store)",
   "language": "python",
   "name": "python3"
  },
  "language_info": {
   "codemirror_mode": {
    "name": "ipython",
    "version": 3
   },
   "file_extension": ".py",
   "mimetype": "text/x-python",
   "name": "python",
   "nbconvert_exporter": "python",
   "pygments_lexer": "ipython3",
   "version": "3.9.13"
  },
  "orig_nbformat": 4
 },
 "nbformat": 4,
 "nbformat_minor": 2
}
