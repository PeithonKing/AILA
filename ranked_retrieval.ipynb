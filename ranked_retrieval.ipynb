{
 "cells": [
  {
   "cell_type": "code",
   "execution_count": 1,
   "metadata": {},
   "outputs": [],
   "source": [
    "import nltk\n",
    "import os\n",
    "import json\n",
    "from nltk.corpus import stopwords\n",
    "from nltk.stem import PorterStemmer\n",
    "ps = PorterStemmer()\n",
    "stop_words = set(stopwords.words('english'))"
   ]
  },
  {
   "cell_type": "markdown",
   "metadata": {},
   "source": [
    "## Intersection and Union functions"
   ]
  },
  {
   "cell_type": "code",
   "execution_count": 2,
   "metadata": {},
   "outputs": [],
   "source": [
    "def intersection_of_two(a, b):\n",
    "    d = {i:min(a.count(i), b.count(i)) for i in set(a).union(set(b))}\n",
    "    r = []\n",
    "    for key, value in d.items():\n",
    "        r += [key]*value\n",
    "    return r\n",
    "\n",
    "def intersection(*a):\n",
    "    a = list(a)\n",
    "    while True:\n",
    "        if len(a)>1:\n",
    "            a.append(intersection_of_two(a.pop(), a.pop()))\n",
    "        else: return sorted(a[0])"
   ]
  },
  {
   "cell_type": "code",
   "execution_count": 3,
   "metadata": {},
   "outputs": [],
   "source": [
    "def union_of_two(a, b):\n",
    "    d = {i:max(a.count(i), b.count(i)) for i in set(a).union(set(b))}\n",
    "    r = []\n",
    "    for key, value in d.items():\n",
    "        r += [key]*value\n",
    "    return r\n",
    "\n",
    "def union(*a):\n",
    "    a = list(a)\n",
    "    while True:\n",
    "        if len(a)>1:\n",
    "            a.append(union_of_two(a.pop(), a.pop()))\n",
    "        else:\n",
    "            return sorted(a[0])"
   ]
  },
  {
   "cell_type": "code",
   "execution_count": 4,
   "metadata": {},
   "outputs": [],
   "source": [
    "def Jaccard_Coefficient(a, b):\n",
    "\treturn 100*len(intersection(a, b))/len(union(a, b))"
   ]
  },
  {
   "cell_type": "code",
   "execution_count": 5,
   "metadata": {},
   "outputs": [],
   "source": [
    "a = [1, 1, 1, 3]\n",
    "b = [1, 1, 3, 4]\n",
    "c = [3, 4, 1, 2]\n",
    "# ans = [1, 1, 1, 3, 4]"
   ]
  },
  {
   "cell_type": "code",
   "execution_count": 6,
   "metadata": {},
   "outputs": [
    {
     "name": "stdout",
     "output_type": "stream",
     "text": [
      "[1, 3]\n"
     ]
    }
   ],
   "source": [
    "print(intersection(a, b, c))"
   ]
  },
  {
   "cell_type": "code",
   "execution_count": 7,
   "metadata": {},
   "outputs": [
    {
     "name": "stdout",
     "output_type": "stream",
     "text": [
      "[1, 1, 1, 2, 3, 4]\n"
     ]
    }
   ],
   "source": [
    "print(union(a, b, c))"
   ]
  },
  {
   "cell_type": "code",
   "execution_count": null,
   "metadata": {},
   "outputs": [],
   "source": []
  },
  {
   "cell_type": "markdown",
   "metadata": {},
   "source": [
    "## Trying Ranked Retrieval"
   ]
  },
  {
   "cell_type": "code",
   "execution_count": 8,
   "metadata": {},
   "outputs": [],
   "source": [
    "tokenizer = nltk.RegexpTokenizer(r\"\\w+\")\n",
    "data = {}\n",
    "for file in os.listdir(\"relevant\"):\n",
    "    with open(f\"relevant\\{file}\") as f:\n",
    "        f = f.read().lower()\n",
    "    f = tokenizer.tokenize(f)\n",
    "    data[file[:-4]] = [ps.stem(w) for w in f if not w.lower() in stop_words]\n",
    "# data"
   ]
  },
  {
   "cell_type": "code",
   "execution_count": 9,
   "metadata": {},
   "outputs": [],
   "source": [
    "with open(\"Query_doc.json\") as f: f = json.load(f)\n",
    "n = 5\n",
    "test = {key: f[key] for key in list(f.keys())[:n]}\n",
    "vald = {key: f[key] for key in list(f.keys())[n:]}"
   ]
  },
  {
   "cell_type": "markdown",
   "metadata": {},
   "source": [
    "### **\"data\"** stores training data set\n",
    "### **\"vald\"** stores validation set\n",
    "### **\"test\"** stores test set"
   ]
  },
  {
   "cell_type": "code",
   "execution_count": 10,
   "metadata": {},
   "outputs": [
    {
     "data": {
      "text/plain": [
       "{'AILA_Q1': {},\n",
       " 'AILA_Q2': {},\n",
       " 'AILA_Q3': {'C102': 1.7241379310344827,\n",
       "  'C103': 1.7241379310344827,\n",
       "  'C1033': 1.7094017094017093,\n",
       "  'C112': 1.7241379310344827,\n",
       "  'C113': 1.7241379310344827,\n",
       "  'C12': 1.7391304347826086,\n",
       "  'C120': 1.7241379310344827,\n",
       "  'C121': 1.7241379310344827,\n",
       "  'C122': 1.7241379310344827,\n",
       "  'C1225': 1.7094017094017093,\n",
       "  'C123': 2.608695652173913,\n",
       "  'C124': 1.7241379310344827,\n",
       "  'C125': 1.7241379310344827,\n",
       "  'C126': 1.7241379310344827,\n",
       "  'C127': 1.7241379310344827,\n",
       "  'C128': 1.7241379310344827,\n",
       "  'C129': 1.7241379310344827,\n",
       "  'C13': 1.7391304347826086,\n",
       "  'C130': 1.7241379310344827,\n",
       "  'C131': 1.7241379310344827,\n",
       "  'C132': 2.608695652173913,\n",
       "  'C1326': 2.586206896551724,\n",
       "  'C133': 1.7241379310344827,\n",
       "  'C134': 1.7241379310344827,\n",
       "  'C135': 1.7241379310344827,\n",
       "  'C136': 1.7241379310344827,\n",
       "  'C137': 1.7241379310344827,\n",
       "  'C1377': 1.7094017094017093,\n",
       "  'C138': 1.7241379310344827,\n",
       "  'C139': 1.7241379310344827,\n",
       "  'C1399': 1.7094017094017093,\n",
       "  'C142': 1.7241379310344827,\n",
       "  'C143': 1.7241379310344827,\n",
       "  'C152': 1.7241379310344827,\n",
       "  'C153': 1.7241379310344827,\n",
       "  'C162': 1.7241379310344827,\n",
       "  'C163': 1.7241379310344827,\n",
       "  'C1631': 1.7094017094017093,\n",
       "  'C172': 1.7241379310344827,\n",
       "  'C173': 1.7241379310344827,\n",
       "  'C1733': 1.7094017094017093,\n",
       "  'C182': 1.7241379310344827,\n",
       "  'C183': 1.7241379310344827,\n",
       "  'C1893': 1.7094017094017093,\n",
       "  'C21': 1.7391304347826086,\n",
       "  'C2117': 1.7094017094017093,\n",
       "  'C2231': 2.586206896551724,\n",
       "  'C23': 1.7391304347826086,\n",
       "  'C2304': 1.7094017094017093,\n",
       "  'C2733': 1.7094017094017093,\n",
       "  'C31': 1.7391304347826086,\n",
       "  'C32': 1.7391304347826086,\n",
       "  'C713': 1.7241379310344827},\n",
       " 'AILA_Q4': {'C122': 1.8957345971563981,\n",
       "  'C1225': 2.843601895734597,\n",
       "  'C123': 1.8957345971563981,\n",
       "  'C124': 1.8957345971563981,\n",
       "  'C125': 2.3696682464454977,\n",
       "  'C145': 1.8957345971563981,\n",
       "  'C1457': 1.8867924528301887,\n",
       "  'C2231': 1.8957345971563981,\n",
       "  'C2507': 1.8779342723004695,\n",
       "  'C2520': 1.8867924528301887},\n",
       " 'AILA_Q5': {}}"
      ]
     },
     "execution_count": 10,
     "metadata": {},
     "output_type": "execute_result"
    }
   ],
   "source": [
    "score = {}\n",
    "for case in test.keys():\n",
    "    score[case] = {PriorCase:Jaccard_Coefficient(PriorCase, test[case]) for PriorCase in data if Jaccard_Coefficient(PriorCase, test[case])>1.5}\n",
    "score"
   ]
  },
  {
   "cell_type": "code",
   "execution_count": 11,
   "metadata": {},
   "outputs": [],
   "source": [
    "Query = \"ides of march\".split()\n",
    "D1 = \"caesar died in march\".split()\n",
    "D2 = \"the long march\".split()"
   ]
  },
  {
   "cell_type": "code",
   "execution_count": 12,
   "metadata": {},
   "outputs": [
    {
     "name": "stdout",
     "output_type": "stream",
     "text": [
      "D1 = 16.666666666666668\n",
      "D2 = 20.0\n"
     ]
    }
   ],
   "source": [
    "print(f\"D1 = {Jaccard_Coefficient(Query, D1)}\")\n",
    "print(f\"D2 = {Jaccard_Coefficient(Query, D2)}\")"
   ]
  }
 ],
 "metadata": {
  "interpreter": {
   "hash": "be9cdc504d98ab96ad8866acde1c88b8018494c09f03a4368ac294b997c715e8"
  },
  "kernelspec": {
   "display_name": "Python 3.9.10 64-bit (windows store)",
   "language": "python",
   "name": "python3"
  },
  "language_info": {
   "codemirror_mode": {
    "name": "ipython",
    "version": 3
   },
   "file_extension": ".py",
   "mimetype": "text/x-python",
   "name": "python",
   "nbconvert_exporter": "python",
   "pygments_lexer": "ipython3",
   "version": "3.9.10"
  },
  "orig_nbformat": 4
 },
 "nbformat": 4,
 "nbformat_minor": 2
}
