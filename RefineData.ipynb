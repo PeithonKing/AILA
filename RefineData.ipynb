{
 "cells": [
  {
   "cell_type": "code",
   "execution_count": 1,
   "metadata": {},
   "outputs": [],
   "source": [
    "import json\n",
    "import nltk"
   ]
  },
  {
   "cell_type": "code",
   "execution_count": 2,
   "metadata": {},
   "outputs": [
    {
     "name": "stdout",
     "output_type": "stream",
     "text": [
      "{4, 6, 7, 8, 9}\n",
      "232\n",
      "notFound = []\n",
      "attension = {}\n"
     ]
    }
   ],
   "source": [
    "log = []\n",
    "notFound=[]\n",
    "attension = {}\n",
    "\n",
    "log2 = []\n",
    "\n",
    "compare = [\"1.\"]\n",
    "\n",
    "for i in range(1, 2915):\n",
    "    try:\n",
    "        with open(f\"relevant\\C{i}.txt\") as f:\n",
    "            f = f.read().split(\"\\n\")\n",
    "        for j in range(len(f)):\n",
    "            if any([phrase.lower() in f[j].lower() for phrase in compare]):\n",
    "                end = j\n",
    "                log.append(j)\n",
    "                break\n",
    "            if j == len(f)-1:\n",
    "                notFound.append(i)\n",
    "    except FileNotFoundError: pass\n",
    "\n",
    "print(set(log))\n",
    "print(len(log))\n",
    "\n",
    "print(f\"notFound = {notFound}\")\n",
    "print(f\"attension = {attension}\")"
   ]
  },
  {
   "cell_type": "code",
   "execution_count": null,
   "metadata": {},
   "outputs": [],
   "source": []
  }
 ],
 "metadata": {
  "interpreter": {
   "hash": "69eb92836b941e979072a76c7fcfffe5419cca933cedd02cfafbdfca1a93358c"
  },
  "kernelspec": {
   "display_name": "Python 3.9.10 64-bit",
   "language": "python",
   "name": "python3"
  },
  "language_info": {
   "codemirror_mode": {
    "name": "ipython",
    "version": 3
   },
   "file_extension": ".py",
   "mimetype": "text/x-python",
   "name": "python",
   "nbconvert_exporter": "python",
   "pygments_lexer": "ipython3",
   "version": "3.9.10"
  },
  "orig_nbformat": 4
 },
 "nbformat": 4,
 "nbformat_minor": 2
}
