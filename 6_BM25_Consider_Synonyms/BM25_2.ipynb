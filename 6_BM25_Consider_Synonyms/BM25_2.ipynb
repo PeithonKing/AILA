{
 "cells": [
  {
   "cell_type": "markdown",
   "metadata": {},
   "source": [
    "# Imports and Custom Functions writen for convenience"
   ]
  },
  {
   "cell_type": "markdown",
   "metadata": {},
   "source": [
    "## Importing Libraries"
   ]
  },
  {
   "cell_type": "code",
   "execution_count": 1,
   "metadata": {},
   "outputs": [],
   "source": [
    "from BM25_2 import BM25\n",
    "from metrices import *\n",
    "import json\n",
    "import numpy as np\n",
    "import pandas as pd\n",
    "import matplotlib.pyplot as plt\n",
    "import time\n",
    "from tqdm import tqdm"
   ]
  },
  {
   "cell_type": "markdown",
   "metadata": {},
   "source": [
    "## Custom Functions and Location of data folder"
   ]
  },
  {
   "cell_type": "code",
   "execution_count": 2,
   "metadata": {},
   "outputs": [],
   "source": [
    "loc = \"../refining_seriously/\"\n",
    "def namestr(obj, namespace = globals()):\n",
    "    return [name for name in namespace if namespace[name] is obj][0]\n",
    "\n",
    "\n",
    "def print_json(query, n = 3, m = 5, k=6):\n",
    "    n = 3\n",
    "    print(f\"{namestr(query)} = \"+\"{\\n\", end=\"\")  # start of the json\n",
    "    l = sorted(list(query.keys()),\n",
    "            key=lambda x: int(x[k:]))\n",
    "    for QID in l[:n]:\n",
    "        print('\\t\"'+QID+'\":', query[QID][:m], \"\\b\\b, ......],\")\n",
    "    for i in range(2):\n",
    "        print(\"\\t...\")\n",
    "    for QID in l[-n:]:\n",
    "        print('\\t\"'+QID+'\":', query[QID][:m], \"\\b\\b, ......],\")\n",
    "    print(\"}\")  # end of the json"
   ]
  },
  {
   "cell_type": "markdown",
   "metadata": {},
   "source": [
    "## Importing Data"
   ]
  },
  {
   "cell_type": "code",
   "execution_count": 3,
   "metadata": {},
   "outputs": [
    {
     "name": "stdout",
     "output_type": "stream",
     "text": [
      "prior_cases = {\n",
      "\t\"C1\": ['masud', 'khan', 'v', 'state', 'uttar', ......],\n",
      "\t\"C2\": ['indian', 'oil', 'corpor', 'v', 'nepc', ......],\n",
      "\t\"C3\": ['gurpal', 'singh', 'v', 'state', 'punjab', ......],\n",
      "\t...\n",
      "\t...\n",
      "\t\"C2912\": ['dharangadhara', 'chemic', 'work', 'limit', 'v', ......],\n",
      "\t\"C2913\": ['central', 'bank', 'india', 'v', 'sethumadhavan', ......],\n",
      "\t\"C2914\": ['som', 'raj', 'soma', 'v', 'state', ......],\n",
      "}\n"
     ]
    }
   ],
   "source": [
    "# \"cases.json\" has the query and the doc_id of the relevant documents\n",
    "with open(loc+\"cases.json\") as f:\n",
    "    prior_cases = json.load(f)\n",
    "print_json(prior_cases, k=1)"
   ]
  },
  {
   "cell_type": "code",
   "execution_count": 4,
   "metadata": {},
   "outputs": [
    {
     "name": "stdout",
     "output_type": "stream",
     "text": [
      "query = {\n",
      "\t\"AILA_Q1\": ['appel', 'februari', 'appoint', 'offic', 'grade', ......],\n",
      "\t\"AILA_Q2\": ['appel', 'us', 'examin', 'prime', 'wit', ......],\n",
      "\t\"AILA_Q3\": ['appeal', 'aris', 'judgment', 'learn', 'singl', ......],\n",
      "\t...\n",
      "\t...\n",
      "\t\"AILA_Q48\": ['whether', 'sanction', 'requir', 'initi', 'crimin', ......],\n",
      "\t\"AILA_Q49\": ['appel', 'patwari', 'work', 'villag', 'v1', ......],\n",
      "\t\"AILA_Q50\": ['peculiar', 'featur', 'appeal', 'special', 'leav', ......],\n",
      "}\n"
     ]
    }
   ],
   "source": [
    "# \"Query_doc.json\" has all the queries (X)\n",
    "with open(loc+\"Query_doc.json\") as f:\n",
    "    query = json.load(f)\n",
    "print_json(query)"
   ]
  },
  {
   "cell_type": "code",
   "execution_count": 5,
   "metadata": {},
   "outputs": [
    {
     "name": "stdout",
     "output_type": "stream",
     "text": [
      "answers = {\n",
      "\t\"AILA_Q1\": ['C14', ......],\n",
      "\t\"AILA_Q2\": ['C27', ......],\n",
      "\t\"AILA_Q3\": ['C1', ......],\n",
      "\t...\n",
      "\t...\n",
      "\t\"AILA_Q48\": ['C82', ......],\n",
      "\t\"AILA_Q49\": ['C174', ......],\n",
      "\t\"AILA_Q50\": ['C27', ......],\n",
      "}\n"
     ]
    }
   ],
   "source": [
    "# \"answers.json\" has the relevant documents (Y)\n",
    "with open(loc+\"answers.json\") as f:\n",
    "    answers = json.load(f)\n",
    "print_json(answers, 3, 1)"
   ]
  },
  {
   "cell_type": "markdown",
   "metadata": {},
   "source": [
    "# Main Part"
   ]
  },
  {
   "cell_type": "code",
   "execution_count": 6,
   "metadata": {},
   "outputs": [
    {
     "name": "stdout",
     "output_type": "stream",
     "text": [
      "Previous file not found...\n",
      "Catching vectorised fis and qfis for faster calculations\n",
      "Starting docs... done\n",
      "         dl  10th  12th  13th  17th  18th  1957annexur  19th  1st  20th  ...  \\\n",
      "C1      702     0     0     0     0     0            0     0    0     0  ...   \n",
      "C2     3767     0     0     0     0     0            0     0   12     0  ...   \n",
      "C3     1267     0     0     0     0     0            0     0    0     0  ...   \n",
      "C4     4169     0     0     1     0     0            0     0    7     0  ...   \n",
      "C5     1138     0     2     0     0     0            0     0    3     0  ...   \n",
      "...     ...   ...   ...   ...   ...   ...          ...   ...  ...   ...  ...   \n",
      "C2910  1780     1     0     0     1     2            0     1    1     0  ...   \n",
      "C2911  1311     0     0     0     0     0            0     0    1     0  ...   \n",
      "C2912  2202     0     0     0     0     0            0     0    1     0  ...   \n",
      "C2913   564     0     0     0     0     0            0     0    0     0  ...   \n",
      "C2914  3639     0     0     0     0     0            0     0   10     0  ...   \n",
      "\n",
      "       ws   x  xxvi  xyz  yadav  yd  year  yervada  yet  young  \n",
      "C1      1   2     0    0      0   0     1        0    4      0  \n",
      "C2      0   0     0    0      0   0     5        0   10      1  \n",
      "C3      1   1     0    0      0   0     5        0    6      0  \n",
      "C4     88  19     0    0      0   0     1        0   15      1  \n",
      "C5      7   1     0    0      0   0    10        0    4      1  \n",
      "...    ..  ..   ...  ...    ...  ..   ...      ...  ...    ...  \n",
      "C2910   1   5     0    0      0   0     7        0    9      0  \n",
      "C2911   0  15     0    0      0   0     3        0    0      0  \n",
      "C2912   3   2     0    0      0   0     2        0    4      0  \n",
      "C2913   0   0     0    0      0   0     4        0    1      0  \n",
      "C2914   0   2     0    0      0   0     3        0    8      1  \n",
      "\n",
      "[2914 rows x 2058 columns]\n",
      "Starting queries... done\n",
      "          10th  12th  13th  17th  18th  1957annexur  19th  1st  20th  21st  \\\n",
      "AILA_Q1      0     0     0     0     0            0     0    1     0     1   \n",
      "AILA_Q2      0     0     0     0     0            0     0   13     0     0   \n",
      "AILA_Q3      0     0     0     0     0            0     0    0     0     0   \n",
      "AILA_Q4      0     0     0     0     0            0     1    0     0     0   \n",
      "AILA_Q5      0     0     0     0     0            0     0    1     0     0   \n",
      "AILA_Q6      0     0     0     0     0            0     0    0     0     0   \n",
      "AILA_Q7      0     0     0     0     0            0     0    0     0     0   \n",
      "AILA_Q8      0     0     0     0     0            0     0    0     0     0   \n",
      "AILA_Q9      0     0     2     0     0            0     1    0     0     0   \n",
      "AILA_Q10     0     1     0     0     0            0     0    0     0     0   \n",
      "AILA_Q11     0     0     0     0     0            0     0    1     0     0   \n",
      "AILA_Q12     0     0     0     0     0            0     0    0     0     0   \n",
      "AILA_Q13     0     0     0     0     0            1     0    0     0     0   \n",
      "AILA_Q14     0     0     0     0     0            0     0    1     0     0   \n",
      "AILA_Q15     0     0     0     0     0            0     0    2     0     0   \n",
      "AILA_Q16     0     0     0     1     0            0     0    3     0     0   \n",
      "AILA_Q17     0     0     0     0     0            0     0    2     0     0   \n",
      "AILA_Q18     0     0     0     0     0            0     0    1     0     0   \n",
      "AILA_Q19     0     0     0     0     0            0     0    0     0     0   \n",
      "AILA_Q20     0     0     0     0     0            0     0    1     1     0   \n",
      "AILA_Q21     0     0     0     0     0            0     0    0     0     0   \n",
      "AILA_Q22     0     0     0     0     0            0     0    1     0     0   \n",
      "AILA_Q23     0     0     0     0     0            0     0    0     0     0   \n",
      "AILA_Q24     0     0     0     0     0            0     0    2     0     0   \n",
      "AILA_Q25     1     0     0     0     0            0     0    0     0     0   \n",
      "AILA_Q26     0     0     0     0     1            0     0    0     0     0   \n",
      "AILA_Q27     0     0     0     0     0            0     0    0     0     0   \n",
      "AILA_Q28     0     0     2     0     0            0     0    0     0     0   \n",
      "AILA_Q29     0     0     0     0     0            0     0    0     0     0   \n",
      "AILA_Q30     0     0     0     0     0            0     0    0     0     0   \n",
      "AILA_Q31     0     1     1     1     0            0     0    0     0     1   \n",
      "AILA_Q32     0     0     0     0     0            0     0    0     0     0   \n",
      "AILA_Q33     0     0     0     0     0            0     0    0     0     0   \n",
      "AILA_Q34     0     0     0     0     0            0     0    1     0     0   \n",
      "AILA_Q35     0     0     0     0     0            0     0   11     0     0   \n",
      "AILA_Q36     0     0     0     0     0            0     1    1     1     0   \n",
      "AILA_Q37     0     0     0     0     0            0     0    0     0     0   \n",
      "AILA_Q38     0     0     0     0     0            0     0    0     0     0   \n",
      "AILA_Q39     0     0     0     0     0            0     0    5     0     0   \n",
      "AILA_Q40     0     0     0     0     0            0     0    0     0     0   \n",
      "AILA_Q41     0     0     0     0     0            0     0    2     0     0   \n",
      "AILA_Q42     0     0     0     0     0            0     0    0     0     0   \n",
      "AILA_Q43     0     0     0     0     0            0     0    0     0     0   \n",
      "AILA_Q44     0     0     0     0     0            0     0    0     0     0   \n",
      "AILA_Q45     0     0     0     0     0            0     0    1     0     0   \n",
      "AILA_Q46     0     0     0     0     0            0     0    1     0     0   \n",
      "AILA_Q47     0     0     0     0     0            0     0    1     0     0   \n",
      "AILA_Q48     0     0     0     0     0            0     0    0     0     0   \n",
      "AILA_Q49     0     0     0     0     0            0     0    0     0     0   \n",
      "AILA_Q50     0     0     0     0     0            0     0   13     0     0   \n",
      "\n",
      "          ...  ws   x  xxvi  xyz  yadav  yd  year  yervada  yet  young  \n",
      "AILA_Q1   ...   0   0     0    0      0   0     0        0    0      0  \n",
      "AILA_Q2   ...   3   0     0    0      0   0     1        0    0      0  \n",
      "AILA_Q3   ...   0   0     0    0      0   0     0        0    0      0  \n",
      "AILA_Q4   ...   0   0     0    0      0   0     0        0    0      0  \n",
      "AILA_Q5   ...   0   0     0    0      0   0     4        0    0      0  \n",
      "AILA_Q6   ...   0   0     0    0      0   0     0        0    0      0  \n",
      "AILA_Q7   ...   0   1     0    0      0   0     3        0    1      0  \n",
      "AILA_Q8   ...   0   0     0    0      0   0     3        0    2      0  \n",
      "AILA_Q9   ...   0   1     0    0      0   0     0        0    0      0  \n",
      "AILA_Q10  ...   0   0     0    1      0   0     0        0    0      0  \n",
      "AILA_Q11  ...   0   0     0    0      0   0     0        1    6      0  \n",
      "AILA_Q12  ...   0   0     0    0      0   0     0        0    0      0  \n",
      "AILA_Q13  ...   0   3     0    0      0   0     0        0    2      0  \n",
      "AILA_Q14  ...   0   1     0    0      0   0     0        0    0      0  \n",
      "AILA_Q15  ...   0   0     0    0      0   0     0        0    3      0  \n",
      "AILA_Q16  ...   5   0     0    0      0   0     1        0    0      0  \n",
      "AILA_Q17  ...   0   0     0    0      0   0     0        0    0      0  \n",
      "AILA_Q18  ...   0   0     0    0      0   0     0        0    0      0  \n",
      "AILA_Q19  ...   0   1     0    0      0   0     0        0    0      0  \n",
      "AILA_Q20  ...   0   0     0    0      0   0     3        0    0      0  \n",
      "AILA_Q21  ...   0   1     0    0      0   0     1        0    0      0  \n",
      "AILA_Q22  ...   0   0     0    0      0   0     2        0    0      0  \n",
      "AILA_Q23  ...   1   0     0    0      0   0     1        0    0      0  \n",
      "AILA_Q24  ...   0   6     0    0      0   0     0        0    0      0  \n",
      "AILA_Q25  ...   0   0     0    0      0   0     1        0    0      0  \n",
      "AILA_Q26  ...   0   1     0    0      0   1     1        0    0      0  \n",
      "AILA_Q27  ...   0   0     0    0      0   0     0        0    0      0  \n",
      "AILA_Q28  ...   0   0     0    0      0   0     0        0    0      0  \n",
      "AILA_Q29  ...   0   0     0    0      0   0     1        0    0      1  \n",
      "AILA_Q30  ...   0   2     0    0      0   0     1        0    0      0  \n",
      "AILA_Q31  ...   0   0     0    0      0   0     0        0    0      0  \n",
      "AILA_Q32  ...   0   0     0    0      0   0     0        0    0      0  \n",
      "AILA_Q33  ...   0   0     0    0      0   0     2        0    0      0  \n",
      "AILA_Q34  ...   0   0     0    0      0   0     0        0    1      1  \n",
      "AILA_Q35  ...   0   1     0    0      0   0     2        0    1      0  \n",
      "AILA_Q36  ...   0   1     0    0      0   0     1        0    0      1  \n",
      "AILA_Q37  ...   0   0     0    0      0   0     2        0    0      0  \n",
      "AILA_Q38  ...   0   0     0    0      0   0     0        0    0      0  \n",
      "AILA_Q39  ...  23   5     0    0      0   0     1        0    0      0  \n",
      "AILA_Q40  ...   0   0     0    0      0   0     0        0    0      0  \n",
      "AILA_Q41  ...   2   1     0    0      0   0     0        0    0      0  \n",
      "AILA_Q42  ...   0   0     0    0      0   0     0        0    0      0  \n",
      "AILA_Q43  ...   0   0     0    0      0   0     0        0    0      1  \n",
      "AILA_Q44  ...   0   0     0    0      0   0     0        0    1      0  \n",
      "AILA_Q45  ...   0   1     0    0      0   0     1        0    0      0  \n",
      "AILA_Q46  ...   0   0     0    0      2   0     2        0    0      0  \n",
      "AILA_Q47  ...   0  13     0    0      0   0     1        0    0      0  \n",
      "AILA_Q48  ...   0   0     0    0      0   0     0        0    0      0  \n",
      "AILA_Q49  ...   0   0     0    0      0   0     2        0    0      0  \n",
      "AILA_Q50  ...   4   0     1    0      0   0     1        0    0      0  \n",
      "\n",
      "[50 rows x 2057 columns]\n",
      "self.D =\n",
      "          dl  10th  12th  13th  17th  18th  1957annexur  19th  1st  20th  ...  \\\n",
      "C1      702     0     0     0     0     0            0     0    0     0  ...   \n",
      "C2     3767     0     0     0     0     0            0     0   12     0  ...   \n",
      "C3     1267     0     0     0     0     0            0     0    0     0  ...   \n",
      "C4     4169     0     0     1     0     0            0     0    7     0  ...   \n",
      "C5     1138     0     2     0     0     0            0     0    3     0  ...   \n",
      "...     ...   ...   ...   ...   ...   ...          ...   ...  ...   ...  ...   \n",
      "C2910  1780     1     0     0     1     2            0     1    1     0  ...   \n",
      "C2911  1311     0     0     0     0     0            0     0    1     0  ...   \n",
      "C2912  2202     0     0     0     0     0            0     0    1     0  ...   \n",
      "C2913   564     0     0     0     0     0            0     0    0     0  ...   \n",
      "C2914  3639     0     0     0     0     0            0     0   10     0  ...   \n",
      "\n",
      "       ws   x  xxvi  xyz  yadav  yd  year  yervada  yet  young  \n",
      "C1      1   2     0    0      0   0     1        0    4      0  \n",
      "C2      0   0     0    0      0   0     5        0   10      1  \n",
      "C3      1   1     0    0      0   0     5        0    6      0  \n",
      "C4     88  19     0    0      0   0     1        0   15      1  \n",
      "C5      7   1     0    0      0   0    10        0    4      1  \n",
      "...    ..  ..   ...  ...    ...  ..   ...      ...  ...    ...  \n",
      "C2910   1   5     0    0      0   0     7        0    9      0  \n",
      "C2911   0  15     0    0      0   0     3        0    0      0  \n",
      "C2912   3   2     0    0      0   0     2        0    4      0  \n",
      "C2913   0   0     0    0      0   0     4        0    1      0  \n",
      "C2914   0   2     0    0      0   0     3        0    8      1  \n",
      "\n",
      "[2914 rows x 2058 columns]\n",
      "self.Q =\n",
      "           10th  12th  13th  17th  18th  1957annexur  19th  1st  20th  21st  \\\n",
      "AILA_Q1      0     0     0     0     0            0     0    1     0     1   \n",
      "AILA_Q2      0     0     0     0     0            0     0   13     0     0   \n",
      "AILA_Q3      0     0     0     0     0            0     0    0     0     0   \n",
      "AILA_Q4      0     0     0     0     0            0     1    0     0     0   \n",
      "AILA_Q5      0     0     0     0     0            0     0    1     0     0   \n",
      "AILA_Q6      0     0     0     0     0            0     0    0     0     0   \n",
      "AILA_Q7      0     0     0     0     0            0     0    0     0     0   \n",
      "AILA_Q8      0     0     0     0     0            0     0    0     0     0   \n",
      "AILA_Q9      0     0     2     0     0            0     1    0     0     0   \n",
      "AILA_Q10     0     1     0     0     0            0     0    0     0     0   \n",
      "AILA_Q11     0     0     0     0     0            0     0    1     0     0   \n",
      "AILA_Q12     0     0     0     0     0            0     0    0     0     0   \n",
      "AILA_Q13     0     0     0     0     0            1     0    0     0     0   \n",
      "AILA_Q14     0     0     0     0     0            0     0    1     0     0   \n",
      "AILA_Q15     0     0     0     0     0            0     0    2     0     0   \n",
      "AILA_Q16     0     0     0     1     0            0     0    3     0     0   \n",
      "AILA_Q17     0     0     0     0     0            0     0    2     0     0   \n",
      "AILA_Q18     0     0     0     0     0            0     0    1     0     0   \n",
      "AILA_Q19     0     0     0     0     0            0     0    0     0     0   \n",
      "AILA_Q20     0     0     0     0     0            0     0    1     1     0   \n",
      "AILA_Q21     0     0     0     0     0            0     0    0     0     0   \n",
      "AILA_Q22     0     0     0     0     0            0     0    1     0     0   \n",
      "AILA_Q23     0     0     0     0     0            0     0    0     0     0   \n",
      "AILA_Q24     0     0     0     0     0            0     0    2     0     0   \n",
      "AILA_Q25     1     0     0     0     0            0     0    0     0     0   \n",
      "AILA_Q26     0     0     0     0     1            0     0    0     0     0   \n",
      "AILA_Q27     0     0     0     0     0            0     0    0     0     0   \n",
      "AILA_Q28     0     0     2     0     0            0     0    0     0     0   \n",
      "AILA_Q29     0     0     0     0     0            0     0    0     0     0   \n",
      "AILA_Q30     0     0     0     0     0            0     0    0     0     0   \n",
      "AILA_Q31     0     1     1     1     0            0     0    0     0     1   \n",
      "AILA_Q32     0     0     0     0     0            0     0    0     0     0   \n",
      "AILA_Q33     0     0     0     0     0            0     0    0     0     0   \n",
      "AILA_Q34     0     0     0     0     0            0     0    1     0     0   \n",
      "AILA_Q35     0     0     0     0     0            0     0   11     0     0   \n",
      "AILA_Q36     0     0     0     0     0            0     1    1     1     0   \n",
      "AILA_Q37     0     0     0     0     0            0     0    0     0     0   \n",
      "AILA_Q38     0     0     0     0     0            0     0    0     0     0   \n",
      "AILA_Q39     0     0     0     0     0            0     0    5     0     0   \n",
      "AILA_Q40     0     0     0     0     0            0     0    0     0     0   \n",
      "AILA_Q41     0     0     0     0     0            0     0    2     0     0   \n",
      "AILA_Q42     0     0     0     0     0            0     0    0     0     0   \n",
      "AILA_Q43     0     0     0     0     0            0     0    0     0     0   \n",
      "AILA_Q44     0     0     0     0     0            0     0    0     0     0   \n",
      "AILA_Q45     0     0     0     0     0            0     0    1     0     0   \n",
      "AILA_Q46     0     0     0     0     0            0     0    1     0     0   \n",
      "AILA_Q47     0     0     0     0     0            0     0    1     0     0   \n",
      "AILA_Q48     0     0     0     0     0            0     0    0     0     0   \n",
      "AILA_Q49     0     0     0     0     0            0     0    0     0     0   \n",
      "AILA_Q50     0     0     0     0     0            0     0   13     0     0   \n",
      "\n",
      "          ...  ws   x  xxvi  xyz  yadav  yd  year  yervada  yet  young  \n",
      "AILA_Q1   ...   0   0     0    0      0   0     0        0    0      0  \n",
      "AILA_Q2   ...   3   0     0    0      0   0     1        0    0      0  \n",
      "AILA_Q3   ...   0   0     0    0      0   0     0        0    0      0  \n",
      "AILA_Q4   ...   0   0     0    0      0   0     0        0    0      0  \n",
      "AILA_Q5   ...   0   0     0    0      0   0     4        0    0      0  \n",
      "AILA_Q6   ...   0   0     0    0      0   0     0        0    0      0  \n",
      "AILA_Q7   ...   0   1     0    0      0   0     3        0    1      0  \n",
      "AILA_Q8   ...   0   0     0    0      0   0     3        0    2      0  \n",
      "AILA_Q9   ...   0   1     0    0      0   0     0        0    0      0  \n",
      "AILA_Q10  ...   0   0     0    1      0   0     0        0    0      0  \n",
      "AILA_Q11  ...   0   0     0    0      0   0     0        1    6      0  \n",
      "AILA_Q12  ...   0   0     0    0      0   0     0        0    0      0  \n",
      "AILA_Q13  ...   0   3     0    0      0   0     0        0    2      0  \n",
      "AILA_Q14  ...   0   1     0    0      0   0     0        0    0      0  \n",
      "AILA_Q15  ...   0   0     0    0      0   0     0        0    3      0  \n",
      "AILA_Q16  ...   5   0     0    0      0   0     1        0    0      0  \n",
      "AILA_Q17  ...   0   0     0    0      0   0     0        0    0      0  \n",
      "AILA_Q18  ...   0   0     0    0      0   0     0        0    0      0  \n",
      "AILA_Q19  ...   0   1     0    0      0   0     0        0    0      0  \n",
      "AILA_Q20  ...   0   0     0    0      0   0     3        0    0      0  \n",
      "AILA_Q21  ...   0   1     0    0      0   0     1        0    0      0  \n",
      "AILA_Q22  ...   0   0     0    0      0   0     2        0    0      0  \n",
      "AILA_Q23  ...   1   0     0    0      0   0     1        0    0      0  \n",
      "AILA_Q24  ...   0   6     0    0      0   0     0        0    0      0  \n",
      "AILA_Q25  ...   0   0     0    0      0   0     1        0    0      0  \n",
      "AILA_Q26  ...   0   1     0    0      0   1     1        0    0      0  \n",
      "AILA_Q27  ...   0   0     0    0      0   0     0        0    0      0  \n",
      "AILA_Q28  ...   0   0     0    0      0   0     0        0    0      0  \n",
      "AILA_Q29  ...   0   0     0    0      0   0     1        0    0      1  \n",
      "AILA_Q30  ...   0   2     0    0      0   0     1        0    0      0  \n",
      "AILA_Q31  ...   0   0     0    0      0   0     0        0    0      0  \n",
      "AILA_Q32  ...   0   0     0    0      0   0     0        0    0      0  \n",
      "AILA_Q33  ...   0   0     0    0      0   0     2        0    0      0  \n",
      "AILA_Q34  ...   0   0     0    0      0   0     0        0    1      1  \n",
      "AILA_Q35  ...   0   1     0    0      0   0     2        0    1      0  \n",
      "AILA_Q36  ...   0   1     0    0      0   0     1        0    0      1  \n",
      "AILA_Q37  ...   0   0     0    0      0   0     2        0    0      0  \n",
      "AILA_Q38  ...   0   0     0    0      0   0     0        0    0      0  \n",
      "AILA_Q39  ...  23   5     0    0      0   0     1        0    0      0  \n",
      "AILA_Q40  ...   0   0     0    0      0   0     0        0    0      0  \n",
      "AILA_Q41  ...   2   1     0    0      0   0     0        0    0      0  \n",
      "AILA_Q42  ...   0   0     0    0      0   0     0        0    0      0  \n",
      "AILA_Q43  ...   0   0     0    0      0   0     0        0    0      1  \n",
      "AILA_Q44  ...   0   0     0    0      0   0     0        0    1      0  \n",
      "AILA_Q45  ...   0   1     0    0      0   0     1        0    0      0  \n",
      "AILA_Q46  ...   0   0     0    0      2   0     2        0    0      0  \n",
      "AILA_Q47  ...   0  13     0    0      0   0     1        0    0      0  \n",
      "AILA_Q48  ...   0   0     0    0      0   0     0        0    0      0  \n",
      "AILA_Q49  ...   0   0     0    0      0   0     2        0    0      0  \n",
      "AILA_Q50  ...   4   0     1    0      0   0     1        0    0      0  \n",
      "\n",
      "[50 rows x 2057 columns]\n"
     ]
    }
   ],
   "source": [
    "model = BM25(prior_cases, query)"
   ]
  },
  {
   "cell_type": "code",
   "execution_count": 7,
   "metadata": {},
   "outputs": [
    {
     "data": {
      "text/plain": [
       "0.9117569978760213"
      ]
     },
     "execution_count": 7,
     "metadata": {},
     "output_type": "execute_result"
    }
   ],
   "source": [
    "MAP(model.get_scores(), answers)*100"
   ]
  },
  {
   "cell_type": "code",
   "execution_count": 8,
   "metadata": {},
   "outputs": [
    {
     "data": {
      "text/plain": [
       "1.0990157103838605"
      ]
     },
     "execution_count": 8,
     "metadata": {},
     "output_type": "execute_result"
    }
   ],
   "source": [
    "MAP(model.get_scores(k1=1.1, k2=2, b=0.515), answers)*100"
   ]
  },
  {
   "cell_type": "markdown",
   "metadata": {},
   "source": [
    "# Best till now:\n",
    "### k1=1.1, k2=2, b=0.515"
   ]
  },
  {
   "cell_type": "code",
   "execution_count": 10,
   "metadata": {},
   "outputs": [
    {
     "name": "stderr",
     "output_type": "stream",
     "text": [
      "100%|██████████| 40/40 [00:43<00:00,  1.10s/it]\n"
     ]
    }
   ],
   "source": [
    "X = {x:None for x in np.arange(0.8, 1.2, 0.01)}\n",
    "t00 = time.time()    ######\n",
    "# pbar = tqdm(enumerate(X))\n",
    "i = 1\n",
    "for var in tqdm(X.keys()):\n",
    "    # t0 = time.time()    ######\n",
    "    #\n",
    "    # print(\"k2 =\", var, end=\" \")\n",
    "    #\n",
    "    scores = model.get_scores(k1=var, k2=2, b=0.515)  # k1=0.25, k2=1.2, b=0.75\n",
    "    #\n",
    "    MeanAP = MAP(scores, answers)\n",
    "    X[var] = MeanAP\n",
    "    i+=1\n",
    "    # print(\"-> MeanAP =\", MeanAP)\n",
    "    #\n",
    "    # show results \n",
    "    # t1 = time.time() ######\n",
    "    # pbar.set_description(f\"var = {var}\")\n",
    "    # print(f\"took {(t1-t0)} seconds\") ######\n",
    "    # print(f\"average time taken per file = {((t1-t00)/i)} seconds\") ######\n",
    "    # print(f\"percentage done = {(i/len(X)*100)}%\") ######\n",
    "    # print(f\"estimated time remaining = {((t1-t00)*(len(X)-i)/i)} sec = {((t1-t00)*(len(X)-i)/(60*i))} min\\n\") ######\n",
    "    # print(f\"total elapsed time = {(t1-t00)} seconds\\n\") ######"
   ]
  },
  {
   "cell_type": "code",
   "execution_count": 11,
   "metadata": {},
   "outputs": [
    {
     "name": "stdout",
     "output_type": "stream",
     "text": [
      "best BM25(b = 0.8900000000000001) = 1.1059381467958063%\n"
     ]
    }
   ],
   "source": [
    "a = list(X.keys())\n",
    "m = max(X.values())\n",
    "print(f\"best BM25(b = {a[list(X.values()).index(m)]}) = {m*100}%\")"
   ]
  },
  {
   "cell_type": "code",
   "execution_count": 12,
   "metadata": {},
   "outputs": [
    {
     "data": {
      "text/plain": [
       "[<matplotlib.lines.Line2D at 0x1fdf0e435e0>]"
      ]
     },
     "execution_count": 12,
     "metadata": {},
     "output_type": "execute_result"
    },
    {
     "data": {
      "image/png": "[encoded data removed]",
      "text/plain": [
       "<Figure size 432x288 with 1 Axes>"
      ]
     },
     "metadata": {
      "needs_background": "light"
     },
     "output_type": "display_data"
    }
   ],
   "source": [
    "plt.plot(list(X.keys())[:], list(X.values())[:])\n",
    "# plt.title(\"δMAP/δb\\nbest BM25(b=0.96, k1=1.2, ε=0.25) = 18.21%\")\n",
    "# plt.xlabel(\"b\")\n",
    "# plt.ylabel(\"MAP\")"
   ]
  }
 ],
 "metadata": {
  "interpreter": {
   "hash": "95b59b4b0e72d3e94105c3ab4f1a1e6e746e4c2a7c235241251baf92fb36381f"
  },
  "kernelspec": {
   "display_name": "Python 3 (ipykernel)",
   "language": "python",
   "name": "python3"
  },
  "language_info": {
   "codemirror_mode": {
    "name": "ipython",
    "version": 3
   },
   "file_extension": ".py",
   "mimetype": "text/x-python",
   "name": "python",
   "nbconvert_exporter": "python",
   "pygments_lexer": "ipython3",
   "version": "3.9.13"
  }
 },
 "nbformat": 4,
 "nbformat_minor": 2
}
