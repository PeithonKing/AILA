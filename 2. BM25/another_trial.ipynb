{
 "cells": [
  {
   "cell_type": "code",
   "execution_count": 5,
   "metadata": {},
   "outputs": [],
   "source": [
    "from BM25_2 import BM25\n",
    "from newap import *\n",
    "import json, os, time\n",
    "import numpy as np\n",
    "import pandas as pd"
   ]
  },
  {
   "cell_type": "code",
   "execution_count": 7,
   "metadata": {},
   "outputs": [],
   "source": [
    "loc = \"../refining_seriously/\"\n",
    "    \n",
    "# IMPORTING THE DATA:\n",
    "#   \"cases.json\" has the query and the doc_id of the relevant documents\n",
    "with open(loc+\"cases.json\") as f:\n",
    "\tdocs = json.load(f)\n",
    "# print_json(prior_cases, k=1)\n",
    "\n",
    "#   \"Query_doc.json\" has all the queries (X)\n",
    "with open(loc+\"Query_doc.json\") as f:\n",
    "\tqueries = json.load(f)\n",
    "# print_json(query)\n",
    "\n",
    "#   \"answers.json\" has the relevant documents (Y)\n",
    "with open(loc+\"answers.json\") as f:\n",
    "\tanswers = json.load(f)\n",
    "# print_json(answers, 3, 1)"
   ]
  },
  {
   "cell_type": "code",
   "execution_count": 9,
   "metadata": {},
   "outputs": [],
   "source": [
    "a = []\n",
    "for i in queries.values():\n",
    "\ta += i\n",
    "Is = sorted(list(set(a)))"
   ]
  },
  {
   "cell_type": "code",
   "execution_count": 12,
   "metadata": {},
   "outputs": [
    {
     "name": "stdout",
     "output_type": "stream",
     "text": [
      "Starting docs... Done\n"
     ]
    }
   ],
   "source": [
    "print(\"Starting docs... \", end = \"\")\n",
    "docX = {}\n",
    "for name, cont in docs.items():\n",
    "\tdocX[name] = {\"dl\": len(cont)}\n",
    "\tfor i in Is:\n",
    "\t\tdocX[name][i] = cont.count(i)\n",
    "print(\"Done\")"
   ]
  },
  {
   "cell_type": "code",
   "execution_count": 15,
   "metadata": {},
   "outputs": [
    {
     "name": "stdout",
     "output_type": "stream",
     "text": [
      "         dl  10th  12th  13th  17th  18th  1957annexur  19th  1st  20th  ...  \\\n",
      "C1      702     0     0     0     0     0            0     0    0     0  ...   \n",
      "C2     3767     0     0     0     0     0            0     0    0     0  ...   \n",
      "C3     1267     0     0     0     0     0            0     0    0     0  ...   \n",
      "C4     4169     0     0     1     0     0            0     0    1     0  ...   \n",
      "C5     1138     0     2     0     0     0            0     0    0     0  ...   \n",
      "...     ...   ...   ...   ...   ...   ...          ...   ...  ...   ...  ...   \n",
      "C2910  1780     1     0     0     1     2            0     1    0     0  ...   \n",
      "C2911  1311     0     0     0     0     0            0     0    0     0  ...   \n",
      "C2912  2202     0     0     0     0     0            0     0    0     0  ...   \n",
      "C2913   564     0     0     0     0     0            0     0    0     0  ...   \n",
      "C2914  3639     0     0     0     0     0            0     0    0     0  ...   \n",
      "\n",
      "       ws   x  xxvi  xyz  yadav  yd  year  yervada  yet  young  \n",
      "C1      0   0     0    0      0   0     1        0    0      0  \n",
      "C2      0   0     0    0      0   0     1        0    0      0  \n",
      "C3      0   0     0    0      0   0     4        0    2      0  \n",
      "C4      4  16     0    0      0   0     1        0    2      1  \n",
      "C5      2   0     0    0      0   0     9        0    0      1  \n",
      "...    ..  ..   ...  ...    ...  ..   ...      ...  ...    ...  \n",
      "C2910   0   0     0    0      0   0     7        0    0      0  \n",
      "C2911   0   8     0    0      0   0     3        0    0      0  \n",
      "C2912   0   0     0    0      0   0     2        0    0      0  \n",
      "C2913   0   0     0    0      0   0     4        0    0      0  \n",
      "C2914   0   2     0    0      0   0     3        0    0      1  \n",
      "\n",
      "[2914 rows x 2058 columns]\n"
     ]
    }
   ],
   "source": [
    "doc = pd.DataFrame(docX).T\n",
    "doc = doc.reindex([f\"C{i+1}\" for i in range(2914)])\n",
    "print(doc)"
   ]
  }
 ],
 "metadata": {
  "interpreter": {
   "hash": "95b59b4b0e72d3e94105c3ab4f1a1e6e746e4c2a7c235241251baf92fb36381f"
  },
  "kernelspec": {
   "display_name": "Python 3.9.12 64-bit (windows store)",
   "language": "python",
   "name": "python3"
  },
  "language_info": {
   "codemirror_mode": {
    "name": "ipython",
    "version": 3
   },
   "file_extension": ".py",
   "mimetype": "text/x-python",
   "name": "python",
   "nbconvert_exporter": "python",
   "pygments_lexer": "ipython3",
   "version": "3.9.13"
  },
  "orig_nbformat": 4
 },
 "nbformat": 4,
 "nbformat_minor": 2
}
