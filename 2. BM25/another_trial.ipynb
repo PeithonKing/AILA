{
 "cells": [
  {
   "cell_type": "code",
   "execution_count": 1,
   "metadata": {},
   "outputs": [],
   "source": [
    "from BM25_2 import BM25\n",
    "from newap import *\n",
    "import json, os, time\n",
    "import numpy as np\n",
    "import pandas as pd"
   ]
  },
  {
   "cell_type": "code",
   "execution_count": 2,
   "metadata": {},
   "outputs": [
    {
     "name": "stdout",
     "output_type": "stream",
     "text": [
      "Loading from cache...\n"
     ]
    }
   ],
   "source": [
    "loc = \"../refining_seriously/\"\n",
    "    \n",
    "# IMPORTING THE DATA:\n",
    "#   \"cases.json\" has the query and the doc_id of the relevant documents\n",
    "with open(loc+\"cases.json\") as f:\n",
    "\tprior_cases = json.load(f)\n",
    "# print_json(prior_cases, k=1)\n",
    "\n",
    "#   \"Query_doc.json\" has all the queries (X)\n",
    "with open(loc+\"Query_doc.json\") as f:\n",
    "\tquery = json.load(f)\n",
    "# print_json(query)\n",
    "\n",
    "#   \"answers.json\" has the relevant documents (Y)\n",
    "with open(loc+\"answers.json\") as f:\n",
    "\tanswers = json.load(f)\n",
    "# print_json(answers, 3, 1)\n",
    "\n",
    "model = BM25(prior_cases, query)"
   ]
  },
  {
   "cell_type": "code",
   "execution_count": 6,
   "metadata": {},
   "outputs": [
    {
     "name": "stdout",
     "output_type": "stream",
     "text": [
      "0.42977717513597485\n",
      "MAP took 2.167161226272583\n"
     ]
    }
   ],
   "source": [
    "scores = model.get_scores().tolist()\n",
    "t0 = time.time()\n",
    "print(MAP(scores, answers)*100)\n",
    "print(\"MAP took\", time.time()-t0)"
   ]
  }
 ],
 "metadata": {
  "interpreter": {
   "hash": "95b59b4b0e72d3e94105c3ab4f1a1e6e746e4c2a7c235241251baf92fb36381f"
  },
  "kernelspec": {
   "display_name": "Python 3.9.12 64-bit (windows store)",
   "language": "python",
   "name": "python3"
  },
  "language_info": {
   "codemirror_mode": {
    "name": "ipython",
    "version": 3
   },
   "file_extension": ".py",
   "mimetype": "text/x-python",
   "name": "python",
   "nbconvert_exporter": "python",
   "pygments_lexer": "ipython3",
   "version": "3.9.12"
  },
  "orig_nbformat": 4
 },
 "nbformat": 4,
 "nbformat_minor": 2
}
