{
 "cells": [
  {
   "cell_type": "markdown",
   "metadata": {},
   "source": [
    "# Imports and Custom Functions writen for convenience"
   ]
  },
  {
   "cell_type": "markdown",
   "metadata": {},
   "source": [
    "## Importing Libraries"
   ]
  },
  {
   "cell_type": "code",
   "execution_count": 2,
   "metadata": {},
   "outputs": [],
   "source": [
    "from rank_bm25 import BM25Okapi, BM25Plus, BM25L\n",
    "from newap import average_precision\n",
    "import json\n",
    "import numpy as np\n",
    "import matplotlib.pyplot as plt\n",
    "import time"
   ]
  },
  {
   "cell_type": "markdown",
   "metadata": {},
   "source": [
    "## Custom Functions and Location of data folder"
   ]
  },
  {
   "cell_type": "code",
   "execution_count": 3,
   "metadata": {},
   "outputs": [],
   "source": [
    "loc = \"../refining_seriously/\"\n",
    "def namestr(obj, namespace = globals()):\n",
    "\treturn [name for name in namespace if namespace[name] is obj][0]\n",
    "def print_json(query, n = 3, m = 5, k=6):\n",
    "\tn = 3\n",
    "\tprint(f\"{namestr(query)} =\"+\"{\\n\", end=\"\")  # start of the json\n",
    "\tl = sorted(list(query.keys()),\n",
    "\t\t\tkey=lambda x: int(x[k:]))\n",
    "\tfor QID in l[:n]:\n",
    "\t\tprint('\\t\"'+QID+'\":', query[QID][:m], \"\\b\\b, ......],\")\n",
    "\tfor i in range(2): print(\"\\t...\")\n",
    "\tfor QID in l[-n:]:\n",
    "\t\tprint('\\t\"'+QID+'\":', query[QID][:m], \"\\b\\b, ......],\")\n",
    "\tprint(\"}\")  # end of the json"
   ]
  },
  {
   "cell_type": "markdown",
   "metadata": {},
   "source": [
    "## Importing Data"
   ]
  },
  {
   "cell_type": "code",
   "execution_count": 4,
   "metadata": {},
   "outputs": [
    {
     "name": "stdout",
     "output_type": "stream",
     "text": [
      "prior_cases ={\n",
      "\t\"C1\": ['masud', 'khan', 'v', 'state', 'uttar', ......],\n",
      "\t\"C2\": ['indian', 'oil', 'corpor', 'v', 'nepc', ......],\n",
      "\t\"C3\": ['gurpal', 'singh', 'v', 'state', 'punjab', ......],\n",
      "\t...\n",
      "\t...\n",
      "\t\"C2912\": ['dharangadhara', 'chemic', 'work', 'limit', 'v', ......],\n",
      "\t\"C2913\": ['central', 'bank', 'india', 'v', 'sethumadhavan', ......],\n",
      "\t\"C2914\": ['som', 'raj', 'soma', 'v', 'state', ......],\n",
      "}\n"
     ]
    }
   ],
   "source": [
    "# \"cases.json\" has the query and the doc_id of the relevant documents\n",
    "with open(loc+\"cases.json\") as f:\n",
    "    prior_cases = json.load(f)\n",
    "print_json(prior_cases, k=1)"
   ]
  },
  {
   "cell_type": "code",
   "execution_count": 5,
   "metadata": {},
   "outputs": [
    {
     "name": "stdout",
     "output_type": "stream",
     "text": [
      "query ={\n",
      "\t\"AILA_Q1\": ['appel', 'februari', 'appoint', 'offic', 'grade', ......],\n",
      "\t\"AILA_Q2\": ['appel', 'us', 'examin', 'prime', 'wit', ......],\n",
      "\t\"AILA_Q3\": ['appeal', 'aris', 'judgment', 'learn', 'singl', ......],\n",
      "\t...\n",
      "\t...\n",
      "\t\"AILA_Q48\": ['whether', 'sanction', 'requir', 'initi', 'crimin', ......],\n",
      "\t\"AILA_Q49\": ['appel', 'patwari', 'work', 'villag', 'v1', ......],\n",
      "\t\"AILA_Q50\": ['peculiar', 'featur', 'appeal', 'special', 'leav', ......],\n",
      "}\n"
     ]
    }
   ],
   "source": [
    "# \"Query_doc.json\" has all the queries (X)\n",
    "with open(loc+\"Query_doc.json\") as f:\n",
    "    query = json.load(f)\n",
    "print_json(query)"
   ]
  },
  {
   "cell_type": "code",
   "execution_count": 6,
   "metadata": {},
   "outputs": [
    {
     "name": "stdout",
     "output_type": "stream",
     "text": [
      "answers ={\n",
      "\t\"AILA_Q1\": ['C14', ......],\n",
      "\t\"AILA_Q2\": ['C27', ......],\n",
      "\t\"AILA_Q3\": ['C1', ......],\n",
      "\t...\n",
      "\t...\n",
      "\t\"AILA_Q48\": ['C82', ......],\n",
      "\t\"AILA_Q49\": ['C174', ......],\n",
      "\t\"AILA_Q50\": ['C27', ......],\n",
      "}\n"
     ]
    }
   ],
   "source": [
    "# \"answers.json\" has the relevant documents (Y)\n",
    "with open(loc+\"answers.json\") as f:\n",
    "    answers = json.load(f)\n",
    "print_json(answers, 3, 1)"
   ]
  },
  {
   "cell_type": "markdown",
   "metadata": {},
   "source": [
    "# Getting Data Ready"
   ]
  },
  {
   "cell_type": "code",
   "execution_count": 7,
   "metadata": {},
   "outputs": [],
   "source": [
    "# sorted list of all prior cases, corpus_index = [\"C1\", \"C2\", ..., \"C2914\"]\n",
    "corpus_index = sorted(list(prior_cases.keys()),\n",
    "                          key=lambda x: int(x[1:]))\n",
    "\n",
    "# 2D list containing prior cases in order as in corpus_index\n",
    "tokenized_corpus = [prior_cases[doc_id] for doc_id in corpus_index]\n",
    "\n",
    "# sorted list of all queries, query_index = [\"AILA_Q1\", \"AILA_Q2\", ..., \"AILA_Q59\"]\n",
    "query_index = sorted(list(query.keys()),\n",
    "                     key=lambda x: int(x[6:]))"
   ]
  },
  {
   "cell_type": "code",
   "execution_count": null,
   "metadata": {},
   "outputs": [],
   "source": [
    "## Trial for a single Iteration\n",
    "# tx0 = time.time()\n",
    "# bm25 = BM25Okapi(tokenized_corpus, k1 = 0.5)\n",
    "# print(\"1 -\", time.time()-tx0)\n",
    "# sum = 0\n",
    "# for i, Q in enumerate(query_index):\n",
    "#     tx0 = time.time()\n",
    "#     doc_scores = bm25.get_scores(query[Q])\n",
    "#     sum += average_precision(doc_scores, answers[Q])\n",
    "#     print(\"\\t\", i, \"-\", time.time()-tx0)\n",
    "#     # print(Q)\n",
    "# MeanAP = sum/len(query_index)\n",
    "# MeanAP*100"
   ]
  },
  {
   "cell_type": "markdown",
   "metadata": {},
   "source": [
    "# Getting Scores (BM25Okapi)\n",
    "### Literatue Values:\n",
    " - k1 should not be more than 3 or 4. **(default = 1.2)**\n",
    " - 0 < b < 1 **(default = 0.75)**\n",
    " - epsilon can take larger values **(default = 0.25)**"
   ]
  },
  {
   "cell_type": "markdown",
   "metadata": {},
   "source": [
    "## With Changing b (0, 1, 0.01)"
   ]
  },
  {
   "cell_type": "code",
   "execution_count": 41,
   "metadata": {},
   "outputs": [
    {
     "name": "stdout",
     "output_type": "stream",
     "text": [
      "epsilon = 0.0 -> MeanAP = 0.14326226970166564\n",
      "took 35.42499399185181 seconds\n",
      "average time taken per file = 35.425994873046875 seconds\n",
      "percentage done = 2.5%\n",
      "estimated time remaining = 1381.6138000488281 sec = 23.026896667480468 min\n",
      "total elapsed time = 35.425994873046875 seconds\n",
      "\n",
      "epsilon = 0.025 -> MeanAP = 0.14911048644303995\n",
      "took 35.77334904670715 seconds\n",
      "average time taken per file = 35.600173592567444 seconds\n",
      "percentage done = 5.0%\n",
      "estimated time remaining = 1352.8065965175629 sec = 22.546776608626047 min\n",
      "total elapsed time = 71.20034718513489 seconds\n",
      "\n",
      "epsilon = 0.05 -> MeanAP = 0.1550011325466424\n",
      "took 34.518561601638794 seconds\n",
      "average time taken per file = 35.239636262257896 seconds\n",
      "percentage done = 7.5%\n",
      "estimated time remaining = 1303.866541703542 sec = 21.731109028392368 min\n",
      "total elapsed time = 105.71890878677368 seconds\n",
      "\n",
      "epsilon = 0.07500000000000001 -> MeanAP = 0.16288993117656186\n",
      "took 34.98101830482483 seconds\n",
      "average time taken per file = 35.175231635570526 seconds\n",
      "percentage done = 10.0%\n",
      "estimated time remaining = 1266.308338880539 sec = 21.105138981342314 min\n",
      "total elapsed time = 140.7009265422821 seconds\n",
      "\n",
      "epsilon = 0.1 -> MeanAP = 0.1641361683486189\n",
      "took 34.31227970123291 seconds\n",
      "average time taken per file = 35.002641248703 seconds\n",
      "percentage done = 12.5%\n",
      "estimated time remaining = 1225.092443704605 sec = 20.418207395076752 min\n",
      "total elapsed time = 175.01320624351501 seconds\n",
      "\n",
      "epsilon = 0.125 -> MeanAP = 0.17036512654292976\n",
      "took 33.9771568775177 seconds\n",
      "average time taken per file = 34.83172718683878 seconds\n",
      "percentage done = 15.0%\n",
      "estimated time remaining = 1184.2787243525188 sec = 19.737978739208646 min\n",
      "total elapsed time = 208.99036312103271 seconds\n",
      "\n",
      "epsilon = 0.15000000000000002 -> MeanAP = 0.18080793570603537\n",
      "took 26.21049427986145 seconds\n",
      "average time taken per file = 33.60012248584202 seconds\n",
      "percentage done = 17.5%\n",
      "estimated time remaining = 1108.8040420327868 sec = 18.480067367213113 min\n",
      "total elapsed time = 235.20085740089417 seconds\n",
      "\n",
      "epsilon = 0.17500000000000002 -> MeanAP = 0.18153075448209596\n",
      "took 28.301920175552368 seconds\n",
      "average time taken per file = 32.93784719705582 seconds\n",
      "percentage done = 20.0%\n",
      "estimated time remaining = 1054.0111103057861 sec = 17.56685183842977 min\n",
      "total elapsed time = 263.50277757644653 seconds\n",
      "\n",
      "epsilon = 0.2 -> MeanAP = 0.18155427496509108\n",
      "took 34.63917016983032 seconds\n",
      "average time taken per file = 33.12688308291965 seconds\n",
      "percentage done = 22.5%\n",
      "estimated time remaining = 1026.9333755705093 sec = 17.115556259508487 min\n",
      "total elapsed time = 298.14194774627686 seconds\n",
      "\n",
      "epsilon = 0.225 -> MeanAP = 0.18245188785421054\n",
      "took 35.150983810424805 seconds\n",
      "average time taken per file = 33.329293155670165 seconds\n",
      "percentage done = 25.0%\n",
      "estimated time remaining = 999.878794670105 sec = 16.664646577835082 min\n",
      "total elapsed time = 333.29293155670166 seconds\n",
      "\n",
      "epsilon = 0.25 -> MeanAP = 0.18598870051628727\n",
      "took 35.346564531326294 seconds\n",
      "average time taken per file = 33.512681462547995 seconds\n",
      "percentage done = 27.500000000000004%\n",
      "estimated time remaining = 971.8677624138919 sec = 16.19779604023153 min\n",
      "total elapsed time = 368.63949608802795 seconds\n",
      "\n",
      "epsilon = 0.275 -> MeanAP = 0.18266232791754441\n",
      "took 35.28677010536194 seconds\n",
      "average time taken per file = 33.66052218278249 seconds\n",
      "percentage done = 30.0%\n",
      "estimated time remaining = 942.4946211179098 sec = 15.708243685298497 min\n",
      "total elapsed time = 403.9262661933899 seconds\n",
      "\n",
      "epsilon = 0.30000000000000004 -> MeanAP = 0.19268647470277275\n",
      "took 35.52794861793518 seconds\n",
      "average time taken per file = 33.80417037010193 seconds\n",
      "percentage done = 32.5%\n",
      "estimated time remaining = 912.7125999927521 sec = 15.211876666545868 min\n",
      "total elapsed time = 439.4542148113251 seconds\n",
      "\n",
      "epsilon = 0.325 -> MeanAP = 0.19386834342230663\n",
      "took 33.78490090370178 seconds\n",
      "average time taken per file = 33.802793979644775 seconds\n",
      "percentage done = 35.0%\n",
      "estimated time remaining = 878.8726434707642 sec = 14.647877391179403 min\n",
      "total elapsed time = 473.23911571502686 seconds\n",
      "\n",
      "epsilon = 0.35000000000000003 -> MeanAP = 0.1932714960939126\n",
      "took 35.23225378990173 seconds\n",
      "average time taken per file = 33.89809130032857 seconds\n",
      "percentage done = 37.5%\n",
      "estimated time remaining = 847.4522825082144 sec = 14.124204708470238 min\n",
      "total elapsed time = 508.4713695049286 seconds\n",
      "\n",
      "epsilon = 0.375 -> MeanAP = 0.2041582827809168\n",
      "took 37.49600839614868 seconds\n",
      "average time taken per file = 34.123023718595505 seconds\n",
      "percentage done = 40.0%\n",
      "estimated time remaining = 818.9525692462921 sec = 13.649209487438203 min\n",
      "total elapsed time = 545.9683794975281 seconds\n",
      "\n",
      "epsilon = 0.4 -> MeanAP = 0.20500267308305534\n",
      "took 34.98501801490784 seconds\n",
      "average time taken per file = 34.17372926543741 seconds\n",
      "percentage done = 42.5%\n",
      "estimated time remaining = 785.9957731050604 sec = 13.099929551751005 min\n",
      "total elapsed time = 580.9533975124359 seconds\n",
      "\n",
      "epsilon = 0.42500000000000004 -> MeanAP = 0.20278396284091119\n",
      "took 36.469237327575684 seconds\n",
      "average time taken per file = 34.301257491111755 seconds\n",
      "percentage done = 45.0%\n",
      "estimated time remaining = 754.6276648044586 sec = 12.577127746740977 min\n",
      "total elapsed time = 617.4226348400116 seconds\n",
      "\n",
      "epsilon = 0.45 -> MeanAP = 0.20718954524869834\n",
      "took 39.96092700958252 seconds\n",
      "average time taken per file = 34.599134834189165 seconds\n",
      "percentage done = 47.5%\n",
      "estimated time remaining = 726.5818315179724 sec = 12.109697191966207 min\n",
      "total elapsed time = 657.3835618495941 seconds\n",
      "\n",
      "epsilon = 0.47500000000000003 -> MeanAP = 0.20798948634325787\n",
      "took 35.281020164489746 seconds\n",
      "average time taken per file = 34.63322910070419 seconds\n",
      "percentage done = 50.0%\n",
      "estimated time remaining = 692.6645820140839 sec = 11.54440970023473 min\n",
      "total elapsed time = 692.6645820140839 seconds\n",
      "\n",
      "epsilon = 0.5 -> MeanAP = 0.2071213649393544\n",
      "took 39.18255376815796 seconds\n",
      "average time taken per file = 34.849863608678184 seconds\n",
      "percentage done = 52.5%\n",
      "estimated time remaining = 662.1474085648855 sec = 11.035790142748091 min\n",
      "total elapsed time = 731.8471357822418 seconds\n",
      "\n",
      "epsilon = 0.525 -> MeanAP = 0.20658654915105362\n",
      "took 40.71472096443176 seconds\n",
      "average time taken per file = 35.116493528539486 seconds\n",
      "percentage done = 55.00000000000001%\n",
      "estimated time remaining = 632.0968835137107 sec = 10.534948058561845 min\n",
      "total elapsed time = 772.5628576278687 seconds\n",
      "\n",
      "epsilon = 0.55 -> MeanAP = 0.20674929237330425\n",
      "took 36.70988702774048 seconds\n",
      "average time taken per file = 35.18577150676561 seconds\n",
      "percentage done = 57.49999999999999%\n",
      "estimated time remaining = 598.1581156150154 sec = 9.969301926916923 min\n",
      "total elapsed time = 809.2727446556091 seconds\n",
      "\n",
      "epsilon = 0.5750000000000001 -> MeanAP = 0.2085843308170924\n",
      "took 41.387694120407104 seconds\n",
      "average time taken per file = 35.44418494900068 seconds\n",
      "percentage done = 60.0%\n",
      "estimated time remaining = 567.1069591840109 sec = 9.451782653066847 min\n",
      "total elapsed time = 850.6604387760162 seconds\n",
      "\n",
      "epsilon = 0.6000000000000001 -> MeanAP = 0.2116814798014774\n",
      "took 30.988698482513428 seconds\n",
      "average time taken per file = 35.26596549034119 seconds\n",
      "percentage done = 62.5%\n",
      "estimated time remaining = 528.9894823551178 sec = 8.816491372585297 min\n",
      "total elapsed time = 881.6491372585297 seconds\n",
      "\n",
      "epsilon = 0.625 -> MeanAP = 0.21190404051613215\n",
      "took 40.27454900741577 seconds\n",
      "average time taken per file = 35.458603317920975 seconds\n",
      "percentage done = 65.0%\n",
      "estimated time remaining = 496.4204464508937 sec = 8.273674107514895 min\n",
      "total elapsed time = 921.9236862659454 seconds\n",
      "\n",
      "epsilon = 0.65 -> MeanAP = 0.21041179073953567\n",
      "took 35.17606234550476 seconds\n",
      "average time taken per file = 35.448138837461116 seconds\n",
      "percentage done = 67.5%\n",
      "estimated time remaining = 460.82580488699455 sec = 7.680430081449909 min\n",
      "total elapsed time = 957.0997486114502 seconds\n",
      "\n",
      "epsilon = 0.675 -> MeanAP = 0.221116607052812\n",
      "took 35.11061978340149 seconds\n",
      "average time taken per file = 35.436084585530416 seconds\n",
      "percentage done = 70.0%\n",
      "estimated time remaining = 425.233015026365 sec = 7.087216917106083 min\n",
      "total elapsed time = 992.2103683948517 seconds\n",
      "\n",
      "epsilon = 0.7000000000000001 -> MeanAP = 0.2093890155118687\n",
      "took 41.629579305648804 seconds\n",
      "average time taken per file = 35.649653368982776 seconds\n",
      "percentage done = 72.5%\n",
      "estimated time remaining = 392.14618705881054 sec = 6.5357697843135085 min\n",
      "total elapsed time = 1033.8399477005005 seconds\n",
      "\n",
      "epsilon = 0.7250000000000001 -> MeanAP = 0.22429298768898787\n",
      "took 32.1493763923645 seconds\n",
      "average time taken per file = 35.532977469762166 seconds\n",
      "percentage done = 75.0%\n",
      "estimated time remaining = 355.32977469762164 sec = 5.922162911627027 min\n",
      "total elapsed time = 1065.989324092865 seconds\n",
      "\n",
      "epsilon = 0.75 -> MeanAP = 0.22245275546303414\n",
      "took 26.26943302154541 seconds\n",
      "average time taken per file = 35.23415345530356 seconds\n",
      "percentage done = 77.5%\n",
      "estimated time remaining = 317.10738109773206 sec = 5.285123018295534 min\n",
      "total elapsed time = 1092.2587571144104 seconds\n",
      "\n",
      "epsilon = 0.775 -> MeanAP = 0.21988695180698284\n",
      "took 27.204625368118286 seconds\n",
      "average time taken per file = 34.983261957764626 seconds\n",
      "percentage done = 80.0%\n",
      "estimated time remaining = 279.866095662117 sec = 4.66443492770195 min\n",
      "total elapsed time = 1119.464382648468 seconds\n",
      "\n",
      "epsilon = 0.8 -> MeanAP = 0.21273039885067527\n",
      "took 28.96031427383423 seconds\n",
      "average time taken per file = 34.80074839158492 seconds\n",
      "percentage done = 82.5%\n",
      "estimated time remaining = 243.6052387410944 sec = 4.060087312351573 min\n",
      "total elapsed time = 1148.4246969223022 seconds\n",
      "\n",
      "epsilon = 0.8250000000000001 -> MeanAP = 0.2008925879262768\n",
      "took 25.803767681121826 seconds\n",
      "average time taken per file = 34.53613131186541 seconds\n",
      "percentage done = 85.0%\n",
      "estimated time remaining = 207.21678787119248 sec = 3.4536131311865415 min\n",
      "total elapsed time = 1174.228464603424 seconds\n",
      "\n",
      "epsilon = 0.8500000000000001 -> MeanAP = 0.19793542181906268\n",
      "took 25.622110605239868 seconds\n",
      "average time taken per file = 34.28144500596183 seconds\n",
      "percentage done = 87.5%\n",
      "estimated time remaining = 171.40722502980913 sec = 2.8567870838301523 min\n",
      "total elapsed time = 1199.850575208664 seconds\n",
      "\n",
      "epsilon = 0.875 -> MeanAP = 0.19964537101336696\n",
      "took 28.07495427131653 seconds\n",
      "average time taken per file = 34.109042485555015 seconds\n",
      "percentage done = 90.0%\n",
      "estimated time remaining = 136.43616994222006 sec = 2.2739361657036676 min\n",
      "total elapsed time = 1227.9255294799805 seconds\n",
      "\n",
      "epsilon = 0.9 -> MeanAP = 0.19924598263988952\n",
      "took 36.95173501968384 seconds\n",
      "average time taken per file = 34.185872013504444 seconds\n",
      "percentage done = 92.5%\n",
      "estimated time remaining = 102.55761604051332 sec = 1.709293600675222 min\n",
      "total elapsed time = 1264.8772644996643 seconds\n",
      "\n",
      "epsilon = 0.925 -> MeanAP = 0.1988799490613837\n",
      "took 37.1753134727478 seconds\n",
      "average time taken per file = 34.26454152558979 seconds\n",
      "percentage done = 95.0%\n",
      "estimated time remaining = 68.52908305117958 sec = 1.1421513841863264 min\n",
      "total elapsed time = 1302.052577972412 seconds\n",
      "\n",
      "epsilon = 0.9500000000000001 -> MeanAP = 0.20604036858195965\n",
      "took 30.47089195251465 seconds\n",
      "average time taken per file = 34.16726845961351 seconds\n",
      "percentage done = 97.5%\n",
      "estimated time remaining = 34.16726845961351 sec = 0.5694544743268918 min\n",
      "total elapsed time = 1332.5234699249268 seconds\n",
      "\n",
      "epsilon = 0.9750000000000001 -> MeanAP = 0.20614216380742545\n",
      "took 26.041177988052368 seconds\n",
      "average time taken per file = 33.96411619782448 seconds\n",
      "percentage done = 100.0%\n",
      "estimated time remaining = 0.0 sec = 0.0 min\n",
      "total elapsed time = 1358.5646479129791 seconds\n",
      "\n"
     ]
    }
   ],
   "source": [
    "X = {x:None for x in np.arange(0, 1, 0.025)}\n",
    "t00 = time.time()    ######\n",
    "for i, var in enumerate(X):\n",
    "    i+=1\n",
    "    t0 = time.time()    ######\n",
    "\n",
    "\n",
    "    print(\"epsilon =\", var, end=\" \")\n",
    "    bm25 = BM25Okapi(tokenized_corpus, k1=3.9, b=var, epsilon=0.01)\n",
    "    sum = 0\n",
    "    for Q in query_index:\n",
    "        doc_scores = bm25.get_scores(query[Q])\n",
    "        sum += average_precision(doc_scores, answers[Q])\n",
    "    MeanAP = sum/len(query_index)\n",
    "    X[var] = MeanAP\n",
    "    print(\"-> MeanAP =\", MeanAP)\n",
    "    \n",
    "    \n",
    "    # show results \n",
    "    t1 = time.time() ######\n",
    "    print(f\"took {(t1-t0)} seconds\") ######\n",
    "    print(f\"average time taken per file = {((t1-t00)/i)} seconds\") ######\n",
    "    print(f\"percentage done = {(i/len(X)*100)}%\") ######\n",
    "    print(f\"estimated time remaining = {((t1-t00)*(len(X)-i)/i)} sec = {((t1-t00)*(len(X)-i)/(60*i))} min\") ######\n",
    "    print(f\"total elapsed time = {(t1-t00)} seconds\\n\") ######"
   ]
  },
  {
   "cell_type": "code",
   "execution_count": 42,
   "metadata": {},
   "outputs": [
    {
     "name": "stdout",
     "output_type": "stream",
     "text": [
      "best BM25(b = 0.7250000000000001) = 22.429298768898786%\n"
     ]
    }
   ],
   "source": [
    "a = list(X.keys())\n",
    "m = max(X.values())\n",
    "print(f\"best BM25(b = {a[list(X.values()).index(m)]}) = {m*100}%\")"
   ]
  },
  {
   "cell_type": "code",
   "execution_count": 43,
   "metadata": {},
   "outputs": [
    {
     "data": {
      "text/plain": [
       "Text(0, 0.5, 'MAP')"
      ]
     },
     "execution_count": 43,
     "metadata": {},
     "output_type": "execute_result"
    },
    {
     "data": {
      "image/png": "[encoded data removed]",
      "text/plain": [
       "<Figure size 432x288 with 1 Axes>"
      ]
     },
     "metadata": {
      "needs_background": "light"
     },
     "output_type": "display_data"
    }
   ],
   "source": [
    "plt.plot(X.keys(), X.values())\n",
    "plt.title(\"δMAP/δb\\nbest BM25(b=0.96, k1=1.2, ε=0.25) = 18.21%\")\n",
    "plt.xlabel(\"b\")\n",
    "plt.ylabel(\"MAP\")"
   ]
  },
  {
   "cell_type": "markdown",
   "metadata": {},
   "source": [
    "## With Changing k1 (0.1, 5, 0.1)"
   ]
  },
  {
   "cell_type": "code",
   "execution_count": 44,
   "metadata": {},
   "outputs": [
    {
     "name": "stdout",
     "output_type": "stream",
     "text": [
      "epsilon = 0.1 -> MeanAP = 0.14692899667164477\n",
      "took 28.007737636566162 seconds\n",
      "average time taken per file = 28.007737636566162 seconds\n",
      "percentage done = 10.0%\n",
      "estimated time remaining = 252.06963872909546 sec = 4.201160645484924 min\n",
      "total elapsed time = 28.007737636566162 seconds\n",
      "\n",
      "epsilon = 0.6 -> MeanAP = 0.17732931622112677\n",
      "took 28.74072027206421 seconds\n",
      "average time taken per file = 28.374228954315186 seconds\n",
      "percentage done = 20.0%\n",
      "estimated time remaining = 226.99383163452148 sec = 3.783230527242025 min\n",
      "total elapsed time = 56.74845790863037 seconds\n",
      "\n",
      "epsilon = 1.1 -> MeanAP = 0.1889485133556634\n",
      "took 26.652719259262085 seconds\n",
      "average time taken per file = 27.800392389297485 seconds\n",
      "percentage done = 30.0%\n",
      "estimated time remaining = 194.6027467250824 sec = 3.2433791120847064 min\n",
      "total elapsed time = 83.40117716789246 seconds\n",
      "\n",
      "epsilon = 1.6 -> MeanAP = 0.18576004158990642\n",
      "took 25.963233709335327 seconds\n",
      "average time taken per file = 27.341102719306946 seconds\n",
      "percentage done = 40.0%\n",
      "estimated time remaining = 164.04661631584167 sec = 2.7341102719306947 min\n",
      "total elapsed time = 109.36441087722778 seconds\n",
      "\n",
      "epsilon = 2.1 -> MeanAP = 0.18778554084858218\n",
      "took 25.91392707824707 seconds\n",
      "average time taken per file = 27.05566759109497 seconds\n",
      "percentage done = 50.0%\n",
      "estimated time remaining = 135.27833795547485 sec = 2.2546389659245807 min\n",
      "total elapsed time = 135.27833795547485 seconds\n",
      "\n",
      "epsilon = 2.6 -> MeanAP = 0.19281426835289267\n",
      "took 28.799800634384155 seconds\n",
      "average time taken per file = 27.34635643164317 seconds\n",
      "percentage done = 60.0%\n",
      "estimated time remaining = 109.38542572657268 sec = 1.8230904287762113 min\n",
      "total elapsed time = 164.078138589859 seconds\n",
      "\n",
      "epsilon = 3.1 -> MeanAP = 0.20713689505712754\n",
      "took 27.562162399291992 seconds\n",
      "average time taken per file = 27.377185855593 seconds\n",
      "percentage done = 70.0%\n",
      "estimated time remaining = 82.131557566779 sec = 1.36885929277965 min\n",
      "total elapsed time = 191.640300989151 seconds\n",
      "\n",
      "epsilon = 3.6 -> MeanAP = 0.22109345857960563\n",
      "took 33.027910232543945 seconds\n",
      "average time taken per file = 28.08352640271187 seconds\n",
      "percentage done = 80.0%\n",
      "estimated time remaining = 56.16705280542374 sec = 0.9361175467570623 min\n",
      "total elapsed time = 224.66821122169495 seconds\n",
      "\n",
      "epsilon = 4.1 -> MeanAP = 0.21494824123992565\n",
      "took 34.4399299621582 seconds\n",
      "average time taken per file = 28.789793464872574 seconds\n",
      "percentage done = 90.0%\n",
      "estimated time remaining = 28.789793464872574 sec = 0.47982989108120955 min\n",
      "total elapsed time = 259.10814118385315 seconds\n",
      "\n",
      "epsilon = 4.6 -> MeanAP = 0.21424394139743907\n",
      "took 41.76212191581726 seconds\n",
      "average time taken per file = 30.08702630996704 seconds\n",
      "percentage done = 100.0%\n",
      "estimated time remaining = 0.0 sec = 0.0 min\n",
      "total elapsed time = 300.8702630996704 seconds\n",
      "\n"
     ]
    }
   ],
   "source": [
    "X = {x:None for x in np.arange(0.1, 5, 0.5)}\n",
    "t00 = time.time()    ######\n",
    "for i, var in enumerate(X):\n",
    "    i+=1\n",
    "    t0 = time.time()    ######\n",
    "\n",
    "\n",
    "    print(\"epsilon =\", var, end=\" \")\n",
    "    bm25 = BM25Okapi(tokenized_corpus, k1=var, b=0.725, epsilon=0.01)\n",
    "    sum = 0\n",
    "    for Q in query_index:\n",
    "        doc_scores = bm25.get_scores(query[Q])\n",
    "        sum += average_precision(doc_scores, answers[Q])\n",
    "    MeanAP = sum/len(query_index)\n",
    "    X[var] = MeanAP\n",
    "    print(\"-> MeanAP =\", MeanAP)\n",
    "    \n",
    "    \n",
    "    # show results \n",
    "    t1 = time.time() ######\n",
    "    print(f\"took {(t1-t0)} seconds\") ######\n",
    "    print(f\"average time taken per file = {((t1-t00)/i)} seconds\") ######\n",
    "    print(f\"percentage done = {(i/len(X)*100)}%\") ######\n",
    "    print(f\"estimated time remaining = {((t1-t00)*(len(X)-i)/i)} sec = {((t1-t00)*(len(X)-i)/(60*i))} min\") ######\n",
    "    print(f\"total elapsed time = {(t1-t00)} seconds\\n\") ######"
   ]
  },
  {
   "cell_type": "code",
   "execution_count": 45,
   "metadata": {},
   "outputs": [
    {
     "name": "stdout",
     "output_type": "stream",
     "text": [
      "best BM25(k1 = 3.6) = 22.109345857960562%\n"
     ]
    }
   ],
   "source": [
    "a = list(X.keys())\n",
    "m = max(X.values())\n",
    "print(f\"best BM25(k1 = {a[list(X.values()).index(m)]}) = {m*100}%\")"
   ]
  },
  {
   "cell_type": "code",
   "execution_count": 46,
   "metadata": {},
   "outputs": [
    {
     "data": {
      "text/plain": [
       "Text(0, 0.5, 'MAP')"
      ]
     },
     "execution_count": 46,
     "metadata": {},
     "output_type": "execute_result"
    },
    {
     "data": {
      "image/png": "[encoded data removed]",
      "text/plain": [
       "<Figure size 432x288 with 1 Axes>"
      ]
     },
     "metadata": {
      "needs_background": "light"
     },
     "output_type": "display_data"
    }
   ],
   "source": [
    "plt.plot(X.keys(), X.values())\n",
    "plt.title(f\"δMAP/δk1\\nbest BM25(b=0.75, k1=3.9, ε=0.25) = 18.67%\")\n",
    "plt.xlabel(\"b\")\n",
    "plt.ylabel(\"MAP\")"
   ]
  },
  {
   "cell_type": "markdown",
   "metadata": {},
   "source": [
    "## With Changing epsilon (0.1, 2, 0.1)"
   ]
  },
  {
   "cell_type": "code",
   "execution_count": 38,
   "metadata": {},
   "outputs": [
    {
     "name": "stdout",
     "output_type": "stream",
     "text": [
      "epsilon = 0.0 -> MeanAP = 0.2053936219824716\n",
      "took 29.125900983810425 seconds\n",
      "average time taken per file = 29.125900983810425 seconds\n",
      "percentage done = 10.0%\n",
      "estimated time remaining = 262.1331088542938 sec = 4.3688851475715635 min\n",
      "total elapsed time = 29.125900983810425 seconds\n",
      "\n",
      "epsilon = 0.1 -> MeanAP = 0.1946189779705794\n",
      "took 28.287304878234863 seconds\n",
      "average time taken per file = 28.706602931022644 seconds\n",
      "percentage done = 20.0%\n",
      "estimated time remaining = 229.65282344818115 sec = 3.827547057469686 min\n",
      "total elapsed time = 57.41320586204529 seconds\n",
      "\n",
      "epsilon = 0.2 -> MeanAP = 0.18928497048759294\n",
      "took 32.02809810638428 seconds\n",
      "average time taken per file = 29.81376798947652 seconds\n",
      "percentage done = 30.0%\n",
      "estimated time remaining = 208.69637592633566 sec = 3.478272932105594 min\n",
      "total elapsed time = 89.44130396842957 seconds\n",
      "\n",
      "epsilon = 0.30000000000000004 -> MeanAP = 0.1809059061128426\n",
      "took 35.050408124923706 seconds\n",
      "average time taken per file = 31.122928023338318 seconds\n",
      "percentage done = 40.0%\n",
      "estimated time remaining = 186.7375681400299 sec = 3.112292802333832 min\n",
      "total elapsed time = 124.49171209335327 seconds\n",
      "\n",
      "epsilon = 0.4 -> MeanAP = 0.17322096457198932\n",
      "took 36.95511746406555 seconds\n",
      "average time taken per file = 32.28936591148376 seconds\n",
      "percentage done = 50.0%\n",
      "estimated time remaining = 161.44682955741882 sec = 2.690780492623647 min\n",
      "total elapsed time = 161.44682955741882 seconds\n",
      "\n",
      "epsilon = 0.5 -> MeanAP = 0.1596689603940537\n",
      "took 35.48768067359924 seconds\n",
      "average time taken per file = 32.82241837183634 seconds\n",
      "percentage done = 60.0%\n",
      "estimated time remaining = 131.28967348734537 sec = 2.1881612247890896 min\n",
      "total elapsed time = 196.93451023101807 seconds\n",
      "\n",
      "epsilon = 0.6000000000000001 -> MeanAP = 0.14707364956975139\n",
      "took 38.53952622413635 seconds\n",
      "average time taken per file = 33.63914806502206 seconds\n",
      "percentage done = 70.0%\n",
      "estimated time remaining = 100.91744419506618 sec = 1.681957403251103 min\n",
      "total elapsed time = 235.47403645515442 seconds\n",
      "\n",
      "epsilon = 0.7000000000000001 -> MeanAP = 0.14133783012082263\n",
      "took 38.18949604034424 seconds\n",
      "average time taken per file = 34.20794156193733 seconds\n",
      "percentage done = 80.0%\n",
      "estimated time remaining = 68.41588312387466 sec = 1.1402647187312445 min\n",
      "total elapsed time = 273.66353249549866 seconds\n",
      "\n",
      "epsilon = 0.8 -> MeanAP = 0.13170327869004475\n",
      "took 37.61307430267334 seconds\n",
      "average time taken per file = 34.58628964424133 seconds\n",
      "percentage done = 90.0%\n",
      "estimated time remaining = 34.58628964424133 sec = 0.5764381607373555 min\n",
      "total elapsed time = 311.276606798172 seconds\n",
      "\n",
      "epsilon = 0.9 -> MeanAP = 0.12887725330767885\n",
      "took 34.51669669151306 seconds\n",
      "average time taken per file = 34.579330348968504 seconds\n",
      "percentage done = 100.0%\n",
      "estimated time remaining = 0.0 sec = 0.0 min\n",
      "total elapsed time = 345.79330348968506 seconds\n",
      "\n"
     ]
    }
   ],
   "source": [
    "X = {x:None for x in np.arange(0, 1, 0.1)}\n",
    "t00 = time.time()    ######\n",
    "for i, var in enumerate(X):\n",
    "    i+=1\n",
    "    t0 = time.time()    ######\n",
    "\n",
    "\n",
    "    print(\"epsilon =\", var, end=\" \")\n",
    "    bm25 = BM25Okapi(tokenized_corpus, k1=3.9, b=0.96, epsilon=var)\n",
    "    sum = 0\n",
    "    for Q in query_index:\n",
    "        doc_scores = bm25.get_scores(query[Q])\n",
    "        sum += average_precision(doc_scores, answers[Q])\n",
    "    MeanAP = sum/len(query_index)\n",
    "    X[var] = MeanAP\n",
    "    print(\"-> MeanAP =\", MeanAP)\n",
    "    \n",
    "    \n",
    "    # show results \n",
    "    t1 = time.time() ######\n",
    "    print(f\"took {(t1-t0)} seconds\") ######\n",
    "    print(f\"average time taken per file = {((t1-t00)/i)} seconds\") ######\n",
    "    print(f\"percentage done = {(i/len(X)*100)}%\") ######\n",
    "    print(f\"estimated time remaining = {((t1-t00)*(len(X)-i)/i)} sec = {((t1-t00)*(len(X)-i)/(60*i))} min\") ######\n",
    "    print(f\"total elapsed time = {(t1-t00)} seconds\\n\") ######"
   ]
  },
  {
   "cell_type": "code",
   "execution_count": 39,
   "metadata": {},
   "outputs": [
    {
     "name": "stdout",
     "output_type": "stream",
     "text": [
      "best BM25(epsilon = 0.0) = 20.53936219824716%\n"
     ]
    }
   ],
   "source": [
    "a = list(X.keys())\n",
    "m = max(X.values())\n",
    "highest = round(a[list(X.values()).index(m)], 2)\n",
    "print(f\"best BM25(epsilon = {highest}) = {m*100}%\")"
   ]
  },
  {
   "cell_type": "code",
   "execution_count": 40,
   "metadata": {},
   "outputs": [
    {
     "data": {
      "text/plain": [
       "Text(0, 0.5, 'MAP')"
      ]
     },
     "execution_count": 40,
     "metadata": {},
     "output_type": "execute_result"
    },
    {
     "data": {
      "image/png": "[encoded data removed]",
      "text/plain": [
       "<Figure size 432x288 with 1 Axes>"
      ]
     },
     "metadata": {
      "needs_background": "light"
     },
     "output_type": "display_data"
    }
   ],
   "source": [
    "plt.plot(X.keys(), X.values())\n",
    "plt.title(f\"δMAP/δε\\nbest BM25(b=0.75, k1=3.9, ε={highest}) = {m*100}%\")\n",
    "plt.xlabel(\"b\")\n",
    "plt.ylabel(\"MAP\")"
   ]
  },
  {
   "cell_type": "code",
   "execution_count": 31,
   "metadata": {},
   "outputs": [],
   "source": [
    "X = {a: b for a, b in X.items() if b}"
   ]
  }
 ],
 "metadata": {
  "interpreter": {
   "hash": "be9cdc504d98ab96ad8866acde1c88b8018494c09f03a4368ac294b997c715e8"
  },
  "kernelspec": {
   "display_name": "Python 3.9.10 64-bit (windows store)",
   "language": "python",
   "name": "python3"
  },
  "language_info": {
   "codemirror_mode": {
    "name": "ipython",
    "version": 3
   },
   "file_extension": ".py",
   "mimetype": "text/x-python",
   "name": "python",
   "nbconvert_exporter": "python",
   "pygments_lexer": "ipython3",
   "version": "3.9.12"
  },
  "orig_nbformat": 4
 },
 "nbformat": 4,
 "nbformat_minor": 2
}
