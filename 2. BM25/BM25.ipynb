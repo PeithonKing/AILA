{
 "cells": [
  {
   "cell_type": "markdown",
   "metadata": {},
   "source": [
    "# Imports and Custom Functions writen for convenience"
   ]
  },
  {
   "cell_type": "markdown",
   "metadata": {},
   "source": [
    "## Importing Libraries"
   ]
  },
  {
   "cell_type": "code",
   "execution_count": 1,
   "metadata": {},
   "outputs": [],
   "source": [
    "from rank_bm25 import BM25Okapi, BM25Plus, BM25L\n",
    "from newap import average_precision\n",
    "import json\n",
    "import numpy as np\n",
    "import matplotlib.pyplot as plt\n",
    "import time"
   ]
  },
  {
   "cell_type": "markdown",
   "metadata": {},
   "source": [
    "## Custom Functions and Location of data folder"
   ]
  },
  {
   "cell_type": "code",
   "execution_count": 2,
   "metadata": {},
   "outputs": [],
   "source": [
    "loc = \"../refining_seriously/\"\n",
    "def namestr(obj, namespace = globals()):\n",
    "\treturn [name for name in namespace if namespace[name] is obj][0]\n",
    "def print_json(query, n = 3, m = 5, k=6):\n",
    "\tn = 3\n",
    "\tprint(f\"{namestr(query)} =\"+\"{\\n\", end=\"\")  # start of the json\n",
    "\tl = sorted(list(query.keys()),\n",
    "\t\t\tkey=lambda x: int(x[k:]))\n",
    "\tfor QID in l[:n]:\n",
    "\t\tprint('\\t\"'+QID+'\":', query[QID][:m], \"\\b\\b, ......],\")\n",
    "\tfor i in range(2): print(\"\\t...\")\n",
    "\tfor QID in l[-n:]:\n",
    "\t\tprint('\\t\"'+QID+'\":', query[QID][:m], \"\\b\\b, ......],\")\n",
    "\tprint(\"}\")  # end of the json"
   ]
  },
  {
   "cell_type": "markdown",
   "metadata": {},
   "source": [
    "## Importing Data"
   ]
  },
  {
   "cell_type": "code",
   "execution_count": 3,
   "metadata": {},
   "outputs": [
    {
     "name": "stdout",
     "output_type": "stream",
     "text": [
      "prior_cases ={\n",
      "\t\"C1\": ['of', 'of', 'no', 'of', 'the', ......],\n",
      "\t\"C2\": ['and', 'of', 'a', 'no', 'of', ......],\n",
      "\t\"C3\": ['of', 'and', 'of', 'no', 'of', ......],\n",
      "\t...\n",
      "\t...\n",
      "\t\"C2912\": ['of', 'of', 'a', 'no', 'of', ......],\n",
      "\t\"C2913\": ['of', 'm', 'and', 'of', 'no', ......],\n",
      "\t\"C2914\": ['of', 'of', 'no', 'of', 'the', ......],\n",
      "}\n"
     ]
    }
   ],
   "source": [
    "# \"cases.json\" has the query and the doc_id of the relevant documents\n",
    "with open(loc+\"cases.json\") as f:\n",
    "    prior_cases = json.load(f)\n",
    "print_json(prior_cases, k=1)"
   ]
  },
  {
   "cell_type": "code",
   "execution_count": 4,
   "metadata": {},
   "outputs": [
    {
     "name": "stdout",
     "output_type": "stream",
     "text": [
      "query ={\n",
      "\t\"AILA_Q1\": ['the', 'on', 'wa', 'as', 'an', ......],\n",
      "\t\"AILA_Q2\": ['the', 'befor', 'wa', 'as', 'in', ......],\n",
      "\t\"AILA_Q3\": ['thi', 'from', 'the', 'of', 'the', ......],\n",
      "\t...\n",
      "\t...\n",
      "\t\"AILA_Q48\": ['is', 'to', 'in', 'of', 'is', ......],\n",
      "\t\"AILA_Q49\": ['wa', 'a', 'at', 'in', 'the', ......],\n",
      "\t\"AILA_Q50\": ['a', 'of', 'thi', 'by', 'is', ......],\n",
      "}\n"
     ]
    }
   ],
   "source": [
    "# \"Query_doc.json\" has all the queries (X)\n",
    "with open(loc+\"Query_doc.json\") as f:\n",
    "    query = json.load(f)\n",
    "print_json(query)"
   ]
  },
  {
   "cell_type": "code",
   "execution_count": 5,
   "metadata": {},
   "outputs": [
    {
     "name": "stdout",
     "output_type": "stream",
     "text": [
      "answers ={\n",
      "\t\"AILA_Q1\": ['C14', ......],\n",
      "\t\"AILA_Q2\": ['C27', ......],\n",
      "\t\"AILA_Q3\": ['C1', ......],\n",
      "\t...\n",
      "\t...\n",
      "\t\"AILA_Q48\": ['C82', ......],\n",
      "\t\"AILA_Q49\": ['C174', ......],\n",
      "\t\"AILA_Q50\": ['C27', ......],\n",
      "}\n"
     ]
    }
   ],
   "source": [
    "# \"answers.json\" has the relevant documents (Y)\n",
    "with open(loc+\"answers.json\") as f:\n",
    "    answers = json.load(f)\n",
    "print_json(answers, 3, 1)"
   ]
  },
  {
   "cell_type": "markdown",
   "metadata": {},
   "source": [
    "# Getting BM25 Scores"
   ]
  },
  {
   "cell_type": "code",
   "execution_count": 6,
   "metadata": {},
   "outputs": [],
   "source": [
    "# sorted list of all prior cases, corpus_index = [\"C1\", \"C2\", ..., \"C2914\"]\n",
    "corpus_index = sorted(list(prior_cases.keys()),\n",
    "                          key=lambda x: int(x[1:]))\n",
    "\n",
    "# 2D list containing prior cases in order as in corpus_index\n",
    "tokenized_corpus = [prior_cases[doc_id] for doc_id in corpus_index]\n",
    "\n",
    "# sorted list of all queries, query_index = [\"AILA_Q1\", \"AILA_Q2\", ..., \"AILA_Q59\"]\n",
    "query_index = sorted(list(query.keys()),\n",
    "                     key=lambda x: int(x[6:]))"
   ]
  },
  {
   "cell_type": "code",
   "execution_count": 7,
   "metadata": {},
   "outputs": [
    {
     "name": "stdout",
     "output_type": "stream",
     "text": [
      "1 - 0.7622771263122559\n",
      "\t 0 - 0.6523864269256592\n",
      "\t 1 - 0.3715372085571289\n",
      "\t 2 - 0.20136308670043945\n",
      "\t 3 - 0.4372844696044922\n",
      "\t 4 - 0.41921353340148926\n",
      "\t 5 - 0.3629748821258545\n",
      "\t 6 - 0.22081828117370605\n",
      "\t 7 - 0.42049407958984375\n",
      "\t 8 - 0.5009210109710693\n",
      "\t 9 - 0.293903112411499\n",
      "\t 10 - 0.5774061679840088\n",
      "\t 11 - 0.21657156944274902\n",
      "\t 12 - 0.4351990222930908\n",
      "\t 13 - 0.32662105560302734\n",
      "\t 14 - 0.46430015563964844\n",
      "\t 15 - 0.4405362606048584\n",
      "\t 16 - 0.4480874538421631\n",
      "\t 17 - 0.2822294235229492\n",
      "\t 18 - 0.4857821464538574\n",
      "\t 19 - 0.30076169967651367\n",
      "\t 20 - 0.38554811477661133\n",
      "\t 21 - 0.512845516204834\n",
      "\t 22 - 0.4830200672149658\n",
      "\t 23 - 0.650902271270752\n",
      "\t 24 - 0.3843696117401123\n",
      "\t 25 - 0.7384352684020996\n",
      "\t 26 - 0.3662114143371582\n",
      "\t 27 - 0.22999095916748047\n",
      "\t 28 - 0.5417287349700928\n",
      "\t 29 - 0.47960782051086426\n",
      "\t 30 - 0.39629673957824707\n",
      "\t 31 - 0.2515573501586914\n",
      "\t 32 - 0.42483043670654297\n",
      "\t 33 - 0.5976319313049316\n",
      "\t 34 - 0.6231865882873535\n",
      "\t 35 - 0.4937899112701416\n",
      "\t 36 - 0.38575196266174316\n",
      "\t 37 - 0.2485218048095703\n",
      "\t 38 - 0.4774303436279297\n",
      "\t 39 - 0.2547566890716553\n",
      "\t 40 - 0.4575314521789551\n",
      "\t 41 - 0.20631957054138184\n",
      "\t 42 - 0.30994606018066406\n",
      "\t 43 - 0.31180238723754883\n",
      "\t 44 - 0.2901594638824463\n",
      "\t 45 - 0.5147387981414795\n",
      "\t 46 - 0.49345970153808594\n",
      "\t 47 - 0.27257657051086426\n",
      "\t 48 - 0.22614097595214844\n",
      "\t 49 - 0.43828272819519043\n"
     ]
    },
    {
     "data": {
      "text/plain": [
       "0.48750485018316575"
      ]
     },
     "execution_count": 7,
     "metadata": {},
     "output_type": "execute_result"
    }
   ],
   "source": [
    "tx0 = time.time()\n",
    "bm25 = BM25Okapi(tokenized_corpus, k1 = 0.5)\n",
    "print(\"1 -\", time.time()-tx0)\n",
    "sum = 0\n",
    "for i, Q in enumerate(query_index):\n",
    "    tx0 = time.time()\n",
    "    doc_scores = bm25.get_scores(query[Q])\n",
    "    sum += average_precision(doc_scores, answers[Q])\n",
    "    print(\"\\t\", i, \"-\", time.time()-tx0)\n",
    "    # print(Q)\n",
    "MeanAP = sum/len(query_index)\n",
    "MeanAP*100"
   ]
  },
  {
   "cell_type": "code",
   "execution_count": 8,
   "metadata": {},
   "outputs": [
    {
     "name": "stdout",
     "output_type": "stream",
     "text": [
      "epsilon = 1.0 -> MeanAP = 0.00681079790259733\n",
      "took 20.43354868888855 seconds\n",
      "average time taken per file = 20.43354868888855 seconds\n",
      "percentage done = 0.25%\n",
      "estimated time remaining = 8152.985926866531 sec = 135.88309878110886 min\n",
      "total elapsed time = 20.43354868888855 seconds\n",
      "\n",
      "epsilon = 1.01 -> MeanAP = 0.00726765406767272\n",
      "took 20.060131072998047 seconds\n",
      "average time taken per file = 20.2468398809433 seconds\n",
      "percentage done = 0.5%\n",
      "estimated time remaining = 8058.242272615433 sec = 134.30403787692387 min\n",
      "total elapsed time = 40.4936797618866 seconds\n",
      "\n",
      "epsilon = 1.02 -> MeanAP = 0.007757412373485772\n",
      "took 20.390021562576294 seconds\n",
      "average time taken per file = 20.294901371002197 seconds\n",
      "percentage done = 0.75%\n",
      "estimated time remaining = 8057.075844287872 sec = 134.28459740479786 min\n",
      "total elapsed time = 60.88470411300659 seconds\n",
      "\n",
      "epsilon = 1.03 -> MeanAP = 0.008062774788500697\n",
      "took 20.610591173171997 seconds\n",
      "average time taken per file = 20.37407374382019 seconds\n",
      "percentage done = 1.0%\n",
      "estimated time remaining = 8068.133202552795 sec = 134.46888670921325 min\n",
      "total elapsed time = 81.49629497528076 seconds\n",
      "\n",
      "epsilon = 1.04 -> MeanAP = 0.00871494732958634\n",
      "took 20.324897050857544 seconds\n",
      "average time taken per file = 20.36423840522766 seconds\n",
      "percentage done = 1.25%\n",
      "estimated time remaining = 8043.874170064926 sec = 134.0645695010821 min\n",
      "total elapsed time = 101.8211920261383 seconds\n",
      "\n",
      "epsilon = 1.05 -> MeanAP = 0.008829940297191464\n",
      "took 20.19862651824951 seconds\n",
      "average time taken per file = 20.336636424064636 seconds\n",
      "percentage done = 1.5%\n",
      "estimated time remaining = 8012.634751081467 sec = 133.54391251802446 min\n",
      "total elapsed time = 122.01981854438782 seconds\n",
      "\n",
      "epsilon = 1.06 -> MeanAP = 0.008868375325012197\n",
      "took 20.288960456848145 seconds\n",
      "average time taken per file = 20.329825571605138 seconds\n",
      "percentage done = 1.7500000000000002%\n",
      "estimated time remaining = 7989.621449640819 sec = 133.16035749401365 min\n",
      "total elapsed time = 142.30877900123596 seconds\n",
      "\n",
      "epsilon = 1.07 -> MeanAP = 0.00943006915737308\n",
      "took 20.73419499397278 seconds\n",
      "average time taken per file = 20.380371749401093 seconds\n",
      "percentage done = 2.0%\n",
      "estimated time remaining = 7989.105725765228 sec = 133.15176209608714 min\n",
      "total elapsed time = 163.04297399520874 seconds\n",
      "\n",
      "epsilon = 1.08 -> MeanAP = 0.011556296338155619\n",
      "took 22.360007286071777 seconds\n",
      "average time taken per file = 20.600331253475613 seconds\n",
      "percentage done = 2.25%\n",
      "estimated time remaining = 8054.729520108965 sec = 134.24549200181607 min\n",
      "total elapsed time = 185.40298128128052 seconds\n",
      "\n",
      "epsilon = 1.09 -> MeanAP = 0.007821941322960994\n",
      "took 40.660887002944946 seconds\n",
      "average time taken per file = 22.606386828422547 seconds\n",
      "percentage done = 2.5%\n",
      "estimated time remaining = 8816.490863084793 sec = 146.94151438474654 min\n",
      "total elapsed time = 226.06386828422546 seconds\n",
      "\n",
      "epsilon = 1.1 -> MeanAP = 0.009514611119561435\n",
      "took 25.66806650161743 seconds\n",
      "average time taken per file = 22.884721344167534 seconds\n",
      "percentage done = 2.75%\n",
      "estimated time remaining = 8902.156602881172 sec = 148.36927671468618 min\n",
      "total elapsed time = 251.7319347858429 seconds\n",
      "\n",
      "epsilon = 1.11 -> MeanAP = 0.008594478351786462\n",
      "took 20.23989510536194 seconds\n",
      "average time taken per file = 22.664319157600403 seconds\n",
      "percentage done = 3.0%\n",
      "estimated time remaining = 8793.755833148956 sec = 146.56259721914927 min\n",
      "total elapsed time = 271.97182989120483 seconds\n",
      "\n",
      "epsilon = 1.12 -> MeanAP = 0.007895650753461755\n",
      "took 20.588402271270752 seconds\n",
      "average time taken per file = 22.504633243267353 seconds\n",
      "percentage done = 3.25%\n",
      "estimated time remaining = 8709.293065144466 sec = 145.15488441907442 min\n",
      "total elapsed time = 292.5602321624756 seconds\n",
      "\n",
      "epsilon = 1.1300000000000001 "
     ]
    }
   ],
   "source": [
    "# Yk = {}\n",
    "# for k in range(70, 71, 10):\n",
    "#     print(f\"\\t\\tk = {k}\")\n",
    "# X = np.arange(0.01, 2, 0.2)\n",
    "X = {x:None for x in np.arange(1, 5, 0.01)}\n",
    "t00 = time.time()    ######\n",
    "for i, var in enumerate(X):\n",
    "    i+=1\n",
    "    t0 = time.time()    ######\n",
    "\n",
    "\n",
    "    print(\"epsilon =\", var, end=\" \")\n",
    "    bm25 = BM25Okapi(tokenized_corpus, k1=100, b = var, epsilon=0.095) # defaults are k1=1.2, b=0.75, epsilon=0.25\n",
    "    # confirmed: epsilon to be near 0.09 to 0.1 inclusive so, 0.095 best\n",
    "    # confirmed: k1 100 best\n",
    "    # b = 1.38 best MeanAP = 2.47\n",
    "    sum = 0\n",
    "    for Q in query_index:\n",
    "        doc_scores = bm25.get_scores(query[Q])\n",
    "        sum += average_precision(doc_scores, answers[Q])\n",
    "    MeanAP = sum/len(query_index)\n",
    "    X[var] = MeanAP\n",
    "    print(\"-> MeanAP =\", MeanAP)\n",
    "    \n",
    "    \n",
    "    # show results \n",
    "    t1 = time.time() ######\n",
    "    print(f\"took {(t1-t0)} seconds\") ######\n",
    "    print(f\"average time taken per file = {((t1-t00)/i)} seconds\") ######\n",
    "    print(f\"percentage done = {(i/len(X)*100)}%\") ######\n",
    "    print(f\"estimated time remaining = {((t1-t00)*(len(X)-i)/i)} sec = {((t1-t00)*(len(X)-i)/(60*i))} min\") ######\n",
    "    print(f\"total elapsed time = {(t1-t00)} seconds\\n\") ######\n",
    "    \n",
    "    # Yk[k] = Y\n",
    "    # print(\"\\n\\n\\nNext Lap\")"
   ]
  },
  {
   "cell_type": "code",
   "execution_count": null,
   "metadata": {},
   "outputs": [
    {
     "ename": "TypeError",
     "evalue": "'>' not supported between instances of 'int' and 'dict_values'",
     "output_type": "error",
     "traceback": [
      "\u001b[1;31m---------------------------------------------------------------------------\u001b[0m",
      "\u001b[1;31mTypeError\u001b[0m                                 Traceback (most recent call last)",
      "\u001b[1;32mc:\\Users\\amukh\\Desktop\\inter\\working\\2. BM25\\BM25.ipynb Cell 14'\u001b[0m in \u001b[0;36m<module>\u001b[1;34m\u001b[0m\n\u001b[0;32m      <a href='vscode-notebook-cell:/c%3A/Users/amukh/Desktop/inter/working/2.%20BM25/BM25.ipynb#ch0000013?line=0'>1</a>\u001b[0m a \u001b[39m=\u001b[39m \u001b[39mlist\u001b[39m(X\u001b[39m.\u001b[39mkeys())\n\u001b[1;32m----> <a href='vscode-notebook-cell:/c%3A/Users/amukh/Desktop/inter/working/2.%20BM25/BM25.ipynb#ch0000013?line=1'>2</a>\u001b[0m m \u001b[39m=\u001b[39m \u001b[39mmax\u001b[39;49m(X\u001b[39m.\u001b[39;49mvalues(), \u001b[39m2\u001b[39;49m)\n\u001b[0;32m      <a href='vscode-notebook-cell:/c%3A/Users/amukh/Desktop/inter/working/2.%20BM25/BM25.ipynb#ch0000013?line=2'>3</a>\u001b[0m \u001b[39mprint\u001b[39m(\u001b[39mf\u001b[39m\u001b[39m\"\u001b[39m\u001b[39mf(\u001b[39m\u001b[39m{\u001b[39;00ma[\u001b[39mlist\u001b[39m(X\u001b[39m.\u001b[39mvalues())\u001b[39m.\u001b[39mindex(m)]\u001b[39m}\u001b[39;00m\u001b[39m) = \u001b[39m\u001b[39m{\u001b[39;00mm\u001b[39m*\u001b[39m\u001b[39m100\u001b[39m\u001b[39m}\u001b[39;00m\u001b[39m%\u001b[39m\u001b[39m\"\u001b[39m)\n",
      "\u001b[1;31mTypeError\u001b[0m: '>' not supported between instances of 'int' and 'dict_values'"
     ]
    }
   ],
   "source": [
    "a = list(X.keys())\n",
    "m = max(X.values(), )\n",
    "print(f\"f({a[list(X.values()).index(m)]}) = {m*100}%\")"
   ]
  },
  {
   "cell_type": "code",
   "execution_count": null,
   "metadata": {},
   "outputs": [
    {
     "data": {
      "text/plain": [
       "3.015895237913638"
      ]
     },
     "execution_count": 32,
     "metadata": {},
     "output_type": "execute_result"
    }
   ],
   "source": [
    "max(X.values())*100"
   ]
  },
  {
   "cell_type": "code",
   "execution_count": null,
   "metadata": {},
   "outputs": [
    {
     "data": {
      "text/plain": [
       "1.3800000000000001"
      ]
     },
     "execution_count": 26,
     "metadata": {},
     "output_type": "execute_result"
    }
   ],
   "source": [
    "X[list(X.values()).index(max(X.values()))]"
   ]
  },
  {
   "cell_type": "code",
   "execution_count": null,
   "metadata": {},
   "outputs": [
    {
     "data": {
      "text/plain": [
       "[<matplotlib.lines.Line2D at 0x18bbc4f9790>]"
      ]
     },
     "execution_count": 30,
     "metadata": {},
     "output_type": "execute_result"
    },
    {
     "data": {
      "image/png": "[encoded data removed]",
      "text/plain": [
       "<Figure size 432x288 with 1 Axes>"
      ]
     },
     "metadata": {
      "needs_background": "light"
     },
     "output_type": "display_data"
    }
   ],
   "source": [
    "plt.plot(X.keys(), X.values())"
   ]
  }
 ],
 "metadata": {
  "interpreter": {
   "hash": "be9cdc504d98ab96ad8866acde1c88b8018494c09f03a4368ac294b997c715e8"
  },
  "kernelspec": {
   "display_name": "Python 3.9.10 64-bit (windows store)",
   "language": "python",
   "name": "python3"
  },
  "language_info": {
   "codemirror_mode": {
    "name": "ipython",
    "version": 3
   },
   "file_extension": ".py",
   "mimetype": "text/x-python",
   "name": "python",
   "nbconvert_exporter": "python",
   "pygments_lexer": "ipython3",
   "version": "3.9.11"
  },
  "orig_nbformat": 4
 },
 "nbformat": 4,
 "nbformat_minor": 2
}
