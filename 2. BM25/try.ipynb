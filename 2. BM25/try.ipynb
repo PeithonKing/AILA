{
 "cells": [
  {
   "cell_type": "code",
   "execution_count": 52,
   "metadata": {},
   "outputs": [],
   "source": [
    "from BM25_2 import BM25\n",
    "from newap import *\n",
    "import json, os, time\n",
    "import numpy as np\n",
    "import pandas as pd\n",
    "from pprint import pprint"
   ]
  },
  {
   "cell_type": "code",
   "execution_count": 53,
   "metadata": {},
   "outputs": [
    {
     "name": "stdout",
     "output_type": "stream",
     "text": [
      "{'D1': ['a', 'b', 'c', 'b', 'd'],\n",
      " 'D2': ['b', 'h', 'f', 'b'],\n",
      " 'D3': ['b', 'g', 'h', 'd'],\n",
      " 'D4': ['b', 'd', 'e'],\n",
      " 'D5': ['a', 'b', 'e', 'g'],\n",
      " 'D6': ['a', 'c', 'h', 'c']}\n",
      "\n",
      "{'Q1': ['a', 'c', 'h', 'c']}\n"
     ]
    }
   ],
   "source": [
    "docs = {\n",
    "\t\"D1\": list(\"abcbd\"),\n",
    "\t\"D2\": list(\"befb\"),\n",
    "\t\"D3\": list(\"bghd\"),\n",
    "\t\"D4\": list(\"bde\"),\n",
    "\t\"D5\": list(\"abeg\"),\n",
    "\t\"D6\": list(\"achc\")\n",
    "}\n",
    "pprint(docs)\n",
    "print()\n",
    "query = {\"Q1\": list(\"achc\")}\n",
    "pprint(query)"
   ]
  },
  {
   "cell_type": "code",
   "execution_count": 54,
   "metadata": {},
   "outputs": [
    {
     "name": "stdout",
     "output_type": "stream",
     "text": [
      "Previous file not found...\n",
      "Catching vectorised fis and qfis for faster calculations (takes ~2 mins)\n",
      "Starting docs... done\n",
      "    dl  c  h  a\n",
      "D1   5  1  0  1\n",
      "D2   4  0  1  0\n",
      "D3   4  0  1  0\n",
      "D4   3  0  0  0\n",
      "D5   4  0  0  1\n",
      "D6   4  2  1  1\n",
      "Starting queries... done\n",
      "    a  c  h\n",
      "Q1  1  2  1\n"
     ]
    }
   ],
   "source": [
    "model = BM25(docs, query, load = False)"
   ]
  },
  {
   "cell_type": "code",
   "execution_count": 55,
   "metadata": {},
   "outputs": [
    {
     "data": {
      "text/plain": [
       "[[0.3025451912335479, 0.0, 0.0, 0.0, 0.0, 0.4538177868503218]]"
      ]
     },
     "execution_count": 55,
     "metadata": {},
     "output_type": "execute_result"
    }
   ],
   "source": [
    "# t0 = time.time()\n",
    "model.get_scores(k1 = 1, k2 = 1, b = 1)\n",
    "# print(f\"Time: {round((time.time() - t0)*1000, 2)}ms\")"
   ]
  }
 ],
 "metadata": {
  "interpreter": {
   "hash": "95b59b4b0e72d3e94105c3ab4f1a1e6e746e4c2a7c235241251baf92fb36381f"
  },
  "kernelspec": {
   "display_name": "Python 3.9.12 64-bit (windows store)",
   "language": "python",
   "name": "python3"
  },
  "language_info": {
   "codemirror_mode": {
    "name": "ipython",
    "version": 3
   },
   "file_extension": ".py",
   "mimetype": "text/x-python",
   "name": "python",
   "nbconvert_exporter": "python",
   "pygments_lexer": "ipython3",
   "version": "3.9.13"
  },
  "orig_nbformat": 4
 },
 "nbformat": 4,
 "nbformat_minor": 2
}
