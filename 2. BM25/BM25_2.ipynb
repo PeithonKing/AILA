{
 "cells": [
  {
   "cell_type": "markdown",
   "metadata": {},
   "source": [
    "# Imports and Custom Functions writen for convenience"
   ]
  },
  {
   "cell_type": "markdown",
   "metadata": {},
   "source": [
    "## Importing Libraries"
   ]
  },
  {
   "cell_type": "code",
   "execution_count": 1,
   "metadata": {},
   "outputs": [],
   "source": [
    "from rank_bm25 import BM25Okapi, BM25Plus, BM25L\n",
    "from BM25_2 import BM25\n",
    "from newap import average_precision, MAP\n",
    "import json\n",
    "import numpy as np\n",
    "import pandas as pd\n",
    "import matplotlib.pyplot as plt\n",
    "import time"
   ]
  },
  {
   "cell_type": "markdown",
   "metadata": {},
   "source": [
    "## Custom Functions and Location of data folder"
   ]
  },
  {
   "cell_type": "code",
   "execution_count": 2,
   "metadata": {},
   "outputs": [],
   "source": [
    "loc = \"../refining_seriously/\"\n",
    "def namestr(obj, namespace = globals()):\n",
    "\treturn [name for name in namespace if namespace[name] is obj][0]\n",
    "def print_json(query, n = 3, m = 5, k=6):\n",
    "\tn = 3\n",
    "\tprint(f\"{namestr(query)} = \"+\"{\\n\", end=\"\")  # start of the json\n",
    "\tl = sorted(list(query.keys()),\n",
    "\t\t\tkey=lambda x: int(x[k:]))\n",
    "\tfor QID in l[:n]:\n",
    "\t\tprint('\\t\"'+QID+'\":', query[QID][:m], \"\\b\\b, ......],\")\n",
    "\tfor i in range(2): print(\"\\t...\")\n",
    "\tfor QID in l[-n:]:\n",
    "\t\tprint('\\t\"'+QID+'\":', query[QID][:m], \"\\b\\b, ......],\")\n",
    "\tprint(\"}\")  # end of the json"
   ]
  },
  {
   "cell_type": "markdown",
   "metadata": {},
   "source": [
    "## Importing Data"
   ]
  },
  {
   "cell_type": "code",
   "execution_count": 3,
   "metadata": {},
   "outputs": [
    {
     "name": "stdout",
     "output_type": "stream",
     "text": [
      "prior_cases = {\n",
      "\t\"C1\": ['masud', 'khan', 'v', 'state', 'uttar', ......],\n",
      "\t\"C2\": ['indian', 'oil', 'corpor', 'v', 'nepc', ......],\n",
      "\t\"C3\": ['gurpal', 'singh', 'v', 'state', 'punjab', ......],\n",
      "\t...\n",
      "\t...\n",
      "\t\"C2912\": ['dharangadhara', 'chemic', 'work', 'limit', 'v', ......],\n",
      "\t\"C2913\": ['central', 'bank', 'india', 'v', 'sethumadhavan', ......],\n",
      "\t\"C2914\": ['som', 'raj', 'soma', 'v', 'state', ......],\n",
      "}\n"
     ]
    }
   ],
   "source": [
    "# \"cases.json\" has the query and the doc_id of the relevant documents\n",
    "with open(loc+\"cases.json\") as f:\n",
    "    prior_cases = json.load(f)\n",
    "print_json(prior_cases, k=1)"
   ]
  },
  {
   "cell_type": "code",
   "execution_count": 4,
   "metadata": {},
   "outputs": [
    {
     "name": "stdout",
     "output_type": "stream",
     "text": [
      "query = {\n",
      "\t\"AILA_Q1\": ['appel', 'februari', 'appoint', 'offic', 'grade', ......],\n",
      "\t\"AILA_Q2\": ['appel', 'us', 'examin', 'prime', 'wit', ......],\n",
      "\t\"AILA_Q3\": ['appeal', 'aris', 'judgment', 'learn', 'singl', ......],\n",
      "\t...\n",
      "\t...\n",
      "\t\"AILA_Q48\": ['whether', 'sanction', 'requir', 'initi', 'crimin', ......],\n",
      "\t\"AILA_Q49\": ['appel', 'patwari', 'work', 'villag', 'v1', ......],\n",
      "\t\"AILA_Q50\": ['peculiar', 'featur', 'appeal', 'special', 'leav', ......],\n",
      "}\n"
     ]
    }
   ],
   "source": [
    "# \"Query_doc.json\" has all the queries (X)\n",
    "with open(loc+\"Query_doc.json\") as f:\n",
    "    query = json.load(f)\n",
    "print_json(query)"
   ]
  },
  {
   "cell_type": "code",
   "execution_count": 5,
   "metadata": {},
   "outputs": [
    {
     "name": "stdout",
     "output_type": "stream",
     "text": [
      "answers = {\n",
      "\t\"AILA_Q1\": ['C14', ......],\n",
      "\t\"AILA_Q2\": ['C27', ......],\n",
      "\t\"AILA_Q3\": ['C1', ......],\n",
      "\t...\n",
      "\t...\n",
      "\t\"AILA_Q48\": ['C82', ......],\n",
      "\t\"AILA_Q49\": ['C174', ......],\n",
      "\t\"AILA_Q50\": ['C27', ......],\n",
      "}\n"
     ]
    }
   ],
   "source": [
    "# \"answers.json\" has the relevant documents (Y)\n",
    "with open(loc+\"answers.json\") as f:\n",
    "    answers = json.load(f)\n",
    "print_json(answers, 3, 1)"
   ]
  },
  {
   "cell_type": "markdown",
   "metadata": {},
   "source": [
    "# Main Part"
   ]
  },
  {
   "cell_type": "code",
   "execution_count": 7,
   "metadata": {},
   "outputs": [
    {
     "name": "stdout",
     "output_type": "stream",
     "text": [
      "Loading from cache...\n"
     ]
    }
   ],
   "source": [
    "model = BM25(prior_cases, query)"
   ]
  },
  {
   "cell_type": "code",
   "execution_count": 30,
   "metadata": {},
   "outputs": [
    {
     "name": "stdout",
     "output_type": "stream",
     "text": [
      "k2 = 0.1 -> MeanAP = 0.43323209513224625\n",
      "estimated time remaining = 121.61098337173462 sec = 2.0268497228622437 min\n",
      "k2 = 0.35 -> MeanAP = 0.42992906353170374\n",
      "estimated time remaining = 116.51661992073059 sec = 1.9419436653455098 min\n",
      "k2 = 0.6 -> MeanAP = 0.42813225011314116\n",
      "estimated time remaining = 114.57283473014832 sec = 1.909547245502472 min\n",
      "k2 = 0.8499999999999999 -> MeanAP = 0.4279622737317019\n",
      "estimated time remaining = 112.26533246040344 sec = 1.8710888743400573 min\n",
      "k2 = 1.0999999999999999 -> MeanAP = 0.4294349198015192\n",
      "estimated time remaining = 108.19302535057068 sec = 1.803217089176178 min\n",
      "k2 = 1.3499999999999999 -> MeanAP = 0.42857712888368676\n",
      "estimated time remaining = 105.70817542076111 sec = 1.7618029236793518 min\n",
      "k2 = 1.5999999999999999 -> MeanAP = 0.43254798564166463\n",
      "estimated time remaining = 102.859212909426 sec = 1.7143202151571002 min\n",
      "k2 = 1.8499999999999999 -> MeanAP = 0.433529444255446\n",
      "estimated time remaining = 98.93134117126465 sec = 1.6488556861877441 min\n",
      "k2 = 2.0999999999999996 -> MeanAP = 0.43223782053571264\n",
      "estimated time remaining = 95.66965336269803 sec = 1.5944942227116337 min\n",
      "k2 = 2.3499999999999996 -> MeanAP = 0.43328619778534827\n",
      "estimated time remaining = 91.92682456970215 sec = 1.532113742828369 min\n",
      "k2 = 2.5999999999999996 -> MeanAP = 0.43387608654969106\n",
      "estimated time remaining = 88.65167147463018 sec = 1.4775278579105031 min\n",
      "k2 = 2.8499999999999996 -> MeanAP = 0.4348895958250722\n",
      "estimated time remaining = 85.40167427062988 sec = 1.4233612378438314 min\n",
      "k2 = 3.0999999999999996 -> MeanAP = 0.43425534468036375\n",
      "estimated time remaining = 82.14840619380658 sec = 1.3691401032301096 min\n",
      "k2 = 3.3499999999999996 -> MeanAP = 0.43215117521835344\n",
      "estimated time remaining = 78.84714245796204 sec = 1.314119040966034 min\n",
      "k2 = 3.5999999999999996 -> MeanAP = 0.43419193969115\n",
      "estimated time remaining = 75.60894687970479 sec = 1.2601491146617465 min\n",
      "k2 = 3.8499999999999996 -> MeanAP = 0.4328738500245904\n",
      "estimated time remaining = 72.50038254261017 sec = 1.2083397090435029 min\n",
      "k2 = 4.1 -> MeanAP = 0.4312670187416254\n",
      "estimated time remaining = 69.28114363726448 sec = 1.1546857272877413 min\n",
      "k2 = 4.349999999999999 -> MeanAP = 0.433118688421102\n",
      "estimated time remaining = 66.22002689043681 sec = 1.1036671148406134 min\n",
      "k2 = 4.599999999999999 -> MeanAP = 0.4326424003373286\n",
      "estimated time remaining = 63.049996752487985 sec = 1.0508332792081332 min\n",
      "k2 = 4.849999999999999 -> MeanAP = 0.4335014312844156\n",
      "estimated time remaining = 60.05346131324768 sec = 1.0008910218874614 min\n",
      "k2 = 5.099999999999999 -> MeanAP = 0.43366435504874157\n",
      "estimated time remaining = 56.9010820048196 sec = 0.9483513667469933 min\n",
      "k2 = 5.349999999999999 -> MeanAP = 0.43425519172912186\n",
      "estimated time remaining = 53.957368872382425 sec = 0.8992894812063738 min\n",
      "k2 = 5.599999999999999 -> MeanAP = 0.4334485634101244\n",
      "estimated time remaining = 50.97274156238722 sec = 0.8495456927064536 min\n",
      "k2 = 5.849999999999999 -> MeanAP = 0.4324250881718967\n",
      "estimated time remaining = 48.061567624409996 sec = 0.8010261270734998 min\n",
      "k2 = 6.099999999999999 -> MeanAP = 0.4315711103491004\n",
      "estimated time remaining = 45.05794486999512 sec = 0.750965747833252 min\n",
      "k2 = 6.349999999999999 -> MeanAP = 0.4309813184863643\n",
      "estimated time remaining = 41.99073268817021 sec = 0.6998455448028369 min\n",
      "k2 = 6.599999999999999 -> MeanAP = 0.4305123597417492\n",
      "estimated time remaining = 39.06067834077058 sec = 0.6510113056795097 min\n",
      "k2 = 6.849999999999999 -> MeanAP = 0.4304822285846403\n",
      "estimated time remaining = 36.11196715491159 sec = 0.6018661192485264 min\n",
      "k2 = 7.099999999999999 -> MeanAP = 0.42997107793746714\n",
      "estimated time remaining = 33.13066683144405 sec = 0.5521777805240675 min\n",
      "k2 = 7.349999999999999 -> MeanAP = 0.43065686531245606\n",
      "estimated time remaining = 30.126570383707683 sec = 0.5021095063951281 min\n",
      "k2 = 7.599999999999999 -> MeanAP = 0.43016929107043655\n",
      "estimated time remaining = 27.060364307895785 sec = 0.4510060717982631 min\n",
      "k2 = 7.849999999999999 -> MeanAP = 0.4300543001641956\n",
      "estimated time remaining = 24.068787217140198 sec = 0.4011464536190033 min\n",
      "k2 = 8.1 -> MeanAP = 0.43000983272155335\n",
      "estimated time remaining = 21.054593736475166 sec = 0.3509098956079194 min\n",
      "k2 = 8.349999999999998 -> MeanAP = 0.4299033080871203\n",
      "estimated time remaining = 18.048457945094388 sec = 0.3008076324182398 min\n",
      "k2 = 8.599999999999998 -> MeanAP = 0.43112020932466655\n",
      "estimated time remaining = 15.031688179288592 sec = 0.2505281363214765 min\n",
      "k2 = 8.849999999999998 -> MeanAP = 0.4311633361000789\n",
      "estimated time remaining = 12.023226261138916 sec = 0.20038710435231527 min\n",
      "k2 = 9.099999999999998 -> MeanAP = 0.4311469121005701\n",
      "estimated time remaining = 9.008777193121007 sec = 0.1501462865520168 min\n",
      "k2 = 9.349999999999998 -> MeanAP = 0.431031404714189\n",
      "estimated time remaining = 6.0024457228811166 sec = 0.10004076204801861 min\n",
      "k2 = 9.599999999999998 -> MeanAP = 0.43025438811975314\n",
      "estimated time remaining = 3.0012228794586964 sec = 0.05002038132431161 min\n",
      "k2 = 9.849999999999998 -> MeanAP = 0.43020396597177385\n",
      "estimated time remaining = 0.0 sec = 0.0 min\n"
     ]
    }
   ],
   "source": [
    "X = {x:None for x in np.arange(0.1, 10, 0.25)}\n",
    "t00 = time.time()    ######\n",
    "for i, var in enumerate(X):\n",
    "    i+=1\n",
    "    t0 = time.time()    ######\n",
    "\n",
    "    print(\"k2 =\", var, end=\" \")\n",
    "    \n",
    "    scores = model.get_scores(k2 = var).tolist()  # k1=0.25, k2=1.2, b=0.75\n",
    "    \n",
    "    MeanAP = MAP(scores, answers)\n",
    "    X[var] = MeanAP\n",
    "    print(\"-> MeanAP =\", MeanAP)\n",
    "\n",
    "    # show results \n",
    "    t1 = time.time() ######\n",
    "    # print(f\"took {(t1-t0)} seconds\") ######\n",
    "    # print(f\"average time taken per file = {((t1-t00)/i)} seconds\") ######\n",
    "    # print(f\"percentage done = {(i/len(X)*100)}%\") ######\n",
    "    print(f\"estimated time remaining = {((t1-t00)*(len(X)-i)/i)} sec = {((t1-t00)*(len(X)-i)/(60*i))} min\\n\") ######\n",
    "    # print(f\"total elapsed time = {(t1-t00)} seconds\\n\") ######"
   ]
  },
  {
   "cell_type": "code",
   "execution_count": 31,
   "metadata": {},
   "outputs": [
    {
     "name": "stdout",
     "output_type": "stream",
     "text": [
      "best BM25(b = 2.8499999999999996) = 43.48895958250722%\n"
     ]
    }
   ],
   "source": [
    "a = list(X.keys())\n",
    "m = max(X.values())\n",
    "print(f\"best BM25(b = {a[list(X.values()).index(m)]}) = {m*100}%\")"
   ]
  },
  {
   "cell_type": "code",
   "execution_count": 32,
   "metadata": {},
   "outputs": [
    {
     "data": {
      "text/plain": [
       "Text(0, 0.5, 'MAP')"
      ]
     },
     "execution_count": 32,
     "metadata": {},
     "output_type": "execute_result"
    },
    {
     "data": {
      "image/png": "[encoded data removed]",
      "text/plain": [
       "<Figure size 432x288 with 1 Axes>"
      ]
     },
     "metadata": {
      "needs_background": "light"
     },
     "output_type": "display_data"
    }
   ],
   "source": [
    "plt.plot(list(X.keys())[:], list(X.values())[:])\n",
    "plt.title(\"δMAP/δb\\nbest BM25(b=0.96, k1=1.2, ε=0.25) = 18.21%\")\n",
    "plt.xlabel(\"b\")\n",
    "plt.ylabel(\"MAP\")"
   ]
  }
 ],
 "metadata": {
  "interpreter": {
   "hash": "95b59b4b0e72d3e94105c3ab4f1a1e6e746e4c2a7c235241251baf92fb36381f"
  },
  "kernelspec": {
   "display_name": "Python 3.9.12 64-bit (windows store)",
   "language": "python",
   "name": "python3"
  },
  "language_info": {
   "codemirror_mode": {
    "name": "ipython",
    "version": 3
   },
   "file_extension": ".py",
   "mimetype": "text/x-python",
   "name": "python",
   "nbconvert_exporter": "python",
   "pygments_lexer": "ipython3",
   "version": "3.9.12"
  },
  "orig_nbformat": 4
 },
 "nbformat": 4,
 "nbformat_minor": 2
}
