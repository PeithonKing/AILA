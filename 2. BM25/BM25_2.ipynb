{
 "cells": [
  {
   "cell_type": "markdown",
   "metadata": {},
   "source": [
    "# Imports and Custom Functions writen for convenience"
   ]
  },
  {
   "cell_type": "markdown",
   "metadata": {},
   "source": [
    "## Importing Libraries"
   ]
  },
  {
   "cell_type": "code",
   "execution_count": 2,
   "metadata": {},
   "outputs": [],
   "source": [
    "from BM25_2 import BM25\n",
    "from metrices import *\n",
    "import json\n",
    "import numpy as np\n",
    "import pandas as pd\n",
    "import matplotlib.pyplot as plt\n",
    "import time"
   ]
  },
  {
   "cell_type": "markdown",
   "metadata": {},
   "source": [
    "## Custom Functions and Location of data folder"
   ]
  },
  {
   "cell_type": "code",
   "execution_count": 3,
   "metadata": {},
   "outputs": [],
   "source": [
    "loc = \"../refining_seriously/\"\n",
    "def namestr(obj, namespace = globals()):\n",
    "\treturn [name for name in namespace if namespace[name] is obj][0]\n",
    "def print_json(query, n = 3, m = 5, k=6):\n",
    "\tn = 3\n",
    "\tprint(f\"{namestr(query)} = \"+\"{\\n\", end=\"\")  # start of the json\n",
    "\tl = sorted(list(query.keys()),\n",
    "\t\t\tkey=lambda x: int(x[k:]))\n",
    "\tfor QID in l[:n]:\n",
    "\t\tprint('\\t\"'+QID+'\":', query[QID][:m], \"\\b\\b, ......],\")\n",
    "\tfor i in range(2): print(\"\\t...\")\n",
    "\tfor QID in l[-n:]:\n",
    "\t\tprint('\\t\"'+QID+'\":', query[QID][:m], \"\\b\\b, ......],\")\n",
    "\tprint(\"}\")  # end of the json"
   ]
  },
  {
   "cell_type": "markdown",
   "metadata": {},
   "source": [
    "## Importing Data"
   ]
  },
  {
   "cell_type": "code",
   "execution_count": 4,
   "metadata": {},
   "outputs": [
    {
     "name": "stdout",
     "output_type": "stream",
     "text": [
      "prior_cases = {\n",
      "\t\"C1\": ['masud', 'khan', 'v', 'state', 'uttar', ......],\n",
      "\t\"C2\": ['indian', 'oil', 'corpor', 'v', 'nepc', ......],\n",
      "\t\"C3\": ['gurpal', 'singh', 'v', 'state', 'punjab', ......],\n",
      "\t...\n",
      "\t...\n",
      "\t\"C2912\": ['dharangadhara', 'chemic', 'work', 'limit', 'v', ......],\n",
      "\t\"C2913\": ['central', 'bank', 'india', 'v', 'sethumadhavan', ......],\n",
      "\t\"C2914\": ['som', 'raj', 'soma', 'v', 'state', ......],\n",
      "}\n"
     ]
    }
   ],
   "source": [
    "# \"cases.json\" has the query and the doc_id of the relevant documents\n",
    "with open(loc+\"cases.json\") as f:\n",
    "    prior_cases = json.load(f)\n",
    "print_json(prior_cases, k=1)"
   ]
  },
  {
   "cell_type": "code",
   "execution_count": 5,
   "metadata": {},
   "outputs": [
    {
     "name": "stdout",
     "output_type": "stream",
     "text": [
      "query = {\n",
      "\t\"AILA_Q1\": ['appel', 'februari', 'appoint', 'offic', 'grade', ......],\n",
      "\t\"AILA_Q2\": ['appel', 'us', 'examin', 'prime', 'wit', ......],\n",
      "\t\"AILA_Q3\": ['appeal', 'aris', 'judgment', 'learn', 'singl', ......],\n",
      "\t...\n",
      "\t...\n",
      "\t\"AILA_Q48\": ['whether', 'sanction', 'requir', 'initi', 'crimin', ......],\n",
      "\t\"AILA_Q49\": ['appel', 'patwari', 'work', 'villag', 'v1', ......],\n",
      "\t\"AILA_Q50\": ['peculiar', 'featur', 'appeal', 'special', 'leav', ......],\n",
      "}\n"
     ]
    }
   ],
   "source": [
    "# \"Query_doc.json\" has all the queries (X)\n",
    "with open(loc+\"Query_doc.json\") as f:\n",
    "    query = json.load(f)\n",
    "print_json(query)"
   ]
  },
  {
   "cell_type": "code",
   "execution_count": 6,
   "metadata": {},
   "outputs": [
    {
     "name": "stdout",
     "output_type": "stream",
     "text": [
      "answers = {\n",
      "\t\"AILA_Q1\": ['C14', ......],\n",
      "\t\"AILA_Q2\": ['C27', ......],\n",
      "\t\"AILA_Q3\": ['C1', ......],\n",
      "\t...\n",
      "\t...\n",
      "\t\"AILA_Q48\": ['C82', ......],\n",
      "\t\"AILA_Q49\": ['C174', ......],\n",
      "\t\"AILA_Q50\": ['C27', ......],\n",
      "}\n"
     ]
    }
   ],
   "source": [
    "# \"answers.json\" has the relevant documents (Y)\n",
    "with open(loc+\"answers.json\") as f:\n",
    "    answers = json.load(f)\n",
    "print_json(answers, 3, 1)"
   ]
  },
  {
   "cell_type": "markdown",
   "metadata": {},
   "source": [
    "# Main Part"
   ]
  },
  {
   "cell_type": "code",
   "execution_count": 7,
   "metadata": {},
   "outputs": [
    {
     "name": "stdout",
     "output_type": "stream",
     "text": [
      "Loading from cache...\n"
     ]
    }
   ],
   "source": [
    "model = BM25(prior_cases, query)"
   ]
  },
  {
   "cell_type": "code",
   "execution_count": 8,
   "metadata": {},
   "outputs": [
    {
     "data": {
      "text/plain": [
       "15.123029463779126"
      ]
     },
     "execution_count": 8,
     "metadata": {},
     "output_type": "execute_result"
    }
   ],
   "source": [
    "MAP(model.get_scores(), answers)*100"
   ]
  },
  {
   "cell_type": "code",
   "execution_count": 39,
   "metadata": {},
   "outputs": [
    {
     "data": {
      "text/plain": [
       "17.468313981069432"
      ]
     },
     "execution_count": 39,
     "metadata": {},
     "output_type": "execute_result"
    }
   ],
   "source": [
    "MAP(model.get_scores(k1=1.1, k2=2, b=0.515), answers)*100"
   ]
  },
  {
   "cell_type": "markdown",
   "metadata": {},
   "source": [
    "# Best till now:\n",
    "### k1=1.1, k2=2, b=0.515"
   ]
  },
  {
   "cell_type": "code",
   "execution_count": 36,
   "metadata": {},
   "outputs": [
    {
     "name": "stdout",
     "output_type": "stream",
     "text": [
      "k2 = 0.8 -> MeanAP = 0.17023556699951492\n",
      "estimated time remaining = 37.83267903327942 sec = 0.630544650554657 min\n",
      "\n",
      "k2 = 0.81 -> MeanAP = 0.1705710477995158\n",
      "estimated time remaining = 35.4756293296814 sec = 0.5912604888280233 min\n",
      "\n",
      "k2 = 0.8200000000000001 -> MeanAP = 0.17045702497945558\n",
      "estimated time remaining = 34.67166837056478 sec = 0.577861139509413 min\n",
      "\n",
      "k2 = 0.8300000000000001 -> MeanAP = 0.1705868011846934\n",
      "estimated time remaining = 33.68955588340759 sec = 0.5614925980567932 min\n",
      "\n",
      "k2 = 0.8400000000000001 -> MeanAP = 0.17288325742577032\n",
      "estimated time remaining = 32.776496171951294 sec = 0.5462749361991882 min\n",
      "\n",
      "k2 = 0.8500000000000001 -> MeanAP = 0.17122068770055565\n",
      "estimated time remaining = 31.429723342259724 sec = 0.5238287223709954 min\n",
      "\n",
      "k2 = 0.8600000000000001 -> MeanAP = 0.1711454514525726\n",
      "estimated time remaining = 30.33873806680952 sec = 0.5056456344468253 min\n",
      "\n",
      "k2 = 0.8700000000000001 -> MeanAP = 0.17122136199570556\n",
      "estimated time remaining = 29.41823959350586 sec = 0.49030399322509766 min\n",
      "\n",
      "k2 = 0.8800000000000001 -> MeanAP = 0.17123991926629642\n",
      "estimated time remaining = 28.32581925392151 sec = 0.4720969875653585 min\n",
      "\n",
      "k2 = 0.8900000000000001 -> MeanAP = 0.17120869368932337\n",
      "estimated time remaining = 27.191070556640625 sec = 0.45318450927734377 min\n",
      "\n",
      "k2 = 0.9000000000000001 -> MeanAP = 0.17167225831478838\n",
      "estimated time remaining = 26.094076091592964 sec = 0.43490126819321606 min\n",
      "\n",
      "k2 = 0.9100000000000001 -> MeanAP = 0.17317120532141284\n",
      "estimated time remaining = 25.038575967152912 sec = 0.41730959945254853 min\n",
      "\n",
      "k2 = 0.9200000000000002 -> MeanAP = 0.17317048359001422\n",
      "estimated time remaining = 24.16684055328369 sec = 0.40278067588806155 min\n",
      "\n",
      "k2 = 0.9300000000000002 -> MeanAP = 0.17316110640038918\n",
      "estimated time remaining = 23.22905499594552 sec = 0.387150916599092 min\n",
      "\n",
      "k2 = 0.9400000000000002 -> MeanAP = 0.17316824621309462\n",
      "estimated time remaining = 22.305033206939697 sec = 0.37175055344899494 min\n",
      "\n",
      "k2 = 0.9500000000000002 -> MeanAP = 0.17302189995722522\n",
      "estimated time remaining = 21.361631155014038 sec = 0.35602718591690063 min\n",
      "\n",
      "k2 = 0.9600000000000002 -> MeanAP = 0.17299918406777284\n",
      "estimated time remaining = 20.422854830236997 sec = 0.34038091383728325 min\n",
      "\n",
      "k2 = 0.9700000000000002 -> MeanAP = 0.17292090438878038\n",
      "estimated time remaining = 19.48982114262051 sec = 0.3248303523770085 min\n",
      "\n",
      "k2 = 0.9800000000000002 -> MeanAP = 0.17331470119317763\n",
      "estimated time remaining = 18.577574729919434 sec = 0.30962624549865725 min\n",
      "\n",
      "k2 = 0.9900000000000002 -> MeanAP = 0.17426191340939312\n",
      "estimated time remaining = 17.688348293304443 sec = 0.2948058048884074 min\n",
      "\n",
      "k2 = 1.0000000000000002 -> MeanAP = 0.1742649382620425\n",
      "estimated time remaining = 16.82352087611244 sec = 0.28039201460187396 min\n",
      "\n",
      "k2 = 1.0100000000000002 -> MeanAP = 0.17415116538519868\n",
      "estimated time remaining = 15.941034143621271 sec = 0.26568390239368783 min\n",
      "\n",
      "k2 = 1.0200000000000002 -> MeanAP = 0.17401479133866793\n",
      "estimated time remaining = 15.08458573921867 sec = 0.25140976232031115 min\n",
      "\n",
      "k2 = 1.0300000000000002 -> MeanAP = 0.1737405743571181\n",
      "estimated time remaining = 14.248420556386312 sec = 0.23747367593977187 min\n",
      "\n",
      "k2 = 1.0400000000000003 -> MeanAP = 0.1737221551470434\n",
      "estimated time remaining = 13.387621736526489 sec = 0.22312702894210815 min\n",
      "\n",
      "k2 = 1.0500000000000003 -> MeanAP = 0.17400333246603325\n",
      "estimated time remaining = 12.523417344460121 sec = 0.20872362240766867 min\n",
      "\n",
      "k2 = 1.0600000000000003 -> MeanAP = 0.17386547515049244\n",
      "estimated time remaining = 11.619034873114693 sec = 0.1936505812185782 min\n",
      "\n",
      "k2 = 1.0700000000000003 -> MeanAP = 0.17387171068185675\n",
      "estimated time remaining = 10.720676013401576 sec = 0.17867793355669295 min\n",
      "\n",
      "k2 = 1.0800000000000003 -> MeanAP = 0.17380270124061117\n",
      "estimated time remaining = 9.81768039177204 sec = 0.163628006529534 min\n",
      "\n",
      "k2 = 1.0900000000000003 -> MeanAP = 0.1735790198700408\n",
      "estimated time remaining = 8.906013568242392 sec = 0.14843355947070652 min\n",
      "\n",
      "k2 = 1.1000000000000003 -> MeanAP = 0.17468313981069433\n",
      "estimated time remaining = 8.014966733994022 sec = 0.13358277889990036 min\n",
      "\n",
      "k2 = 1.1100000000000003 -> MeanAP = 0.174470727948169\n",
      "estimated time remaining = 7.117294013500214 sec = 0.11862156689167022 min\n",
      "\n",
      "k2 = 1.1200000000000003 -> MeanAP = 0.17119366033267805\n",
      "estimated time remaining = 6.220293023369529 sec = 0.10367155038949215 min\n",
      "\n",
      "k2 = 1.1300000000000003 -> MeanAP = 0.17133726910481287\n",
      "estimated time remaining = 5.386646453072043 sec = 0.08977744088453406 min\n",
      "\n",
      "k2 = 1.1400000000000003 -> MeanAP = 0.1714189170039196\n",
      "estimated time remaining = 4.548633711678641 sec = 0.07581056186131069 min\n",
      "\n",
      "k2 = 1.1500000000000004 -> MeanAP = 0.17156878830887617\n",
      "estimated time remaining = 3.707283470365736 sec = 0.061788057839428936 min\n",
      "\n",
      "k2 = 1.1600000000000004 -> MeanAP = 0.17162525344589344\n",
      "estimated time remaining = 2.7917537173709355 sec = 0.046529228622848924 min\n",
      "\n",
      "k2 = 1.1700000000000004 -> MeanAP = 0.17157957250812353\n",
      "estimated time remaining = 1.8719324312712018 sec = 0.03119887385452003 min\n",
      "\n",
      "k2 = 1.1800000000000004 -> MeanAP = 0.17153287680649107\n",
      "estimated time remaining = 0.9366869498521854 sec = 0.01561144916420309 min\n",
      "\n",
      "k2 = 1.1900000000000004 -> MeanAP = 0.17170546162997102\n",
      "estimated time remaining = 0.0 sec = 0.0 min\n",
      "\n"
     ]
    }
   ],
   "source": [
    "X = {x:None for x in np.arange(0.8, 1.2, 0.01)}\n",
    "t00 = time.time()    ######\n",
    "for i, var in enumerate(X):\n",
    "    i+=1\n",
    "    t0 = time.time()    ######\n",
    "\n",
    "    print(\"k2 =\", var, end=\" \")\n",
    "\n",
    "    scores = model.get_scores(k1=var, k2=2, b=0.515)  # k1=0.25, k2=1.2, b=0.75\n",
    "\n",
    "    MeanAP = MAP(scores, answers)\n",
    "    X[var] = MeanAP\n",
    "    print(\"-> MeanAP =\", MeanAP)\n",
    "\n",
    "    # show results \n",
    "    t1 = time.time() ######\n",
    "    # print(f\"took {(t1-t0)} seconds\") ######\n",
    "    # print(f\"average time taken per file = {((t1-t00)/i)} seconds\") ######\n",
    "    # print(f\"percentage done = {(i/len(X)*100)}%\") ######\n",
    "    print(f\"estimated time remaining = {((t1-t00)*(len(X)-i)/i)} sec = {((t1-t00)*(len(X)-i)/(60*i))} min\\n\") ######\n",
    "    # print(f\"total elapsed time = {(t1-t00)} seconds\\n\") ######"
   ]
  },
  {
   "cell_type": "code",
   "execution_count": 37,
   "metadata": {},
   "outputs": [
    {
     "name": "stdout",
     "output_type": "stream",
     "text": [
      "best BM25(b = 1.1000000000000003) = 17.468313981069432%\n"
     ]
    }
   ],
   "source": [
    "a = list(X.keys())\n",
    "m = max(X.values())\n",
    "print(f\"best BM25(b = {a[list(X.values()).index(m)]}) = {m*100}%\")"
   ]
  },
  {
   "cell_type": "code",
   "execution_count": 38,
   "metadata": {},
   "outputs": [
    {
     "data": {
      "text/plain": [
       "[<matplotlib.lines.Line2D at 0x20d168c6cd0>]"
      ]
     },
     "execution_count": 38,
     "metadata": {},
     "output_type": "execute_result"
    },
    {
     "data": {
      "image/png": "[encoded data removed]",
      "text/plain": [
       "<Figure size 432x288 with 1 Axes>"
      ]
     },
     "metadata": {
      "needs_background": "light"
     },
     "output_type": "display_data"
    }
   ],
   "source": [
    "plt.plot(list(X.keys())[:], list(X.values())[:])\n",
    "# plt.title(\"δMAP/δb\\nbest BM25(b=0.96, k1=1.2, ε=0.25) = 18.21%\")\n",
    "# plt.xlabel(\"b\")\n",
    "# plt.ylabel(\"MAP\")"
   ]
  }
 ],
 "metadata": {
  "interpreter": {
   "hash": "95b59b4b0e72d3e94105c3ab4f1a1e6e746e4c2a7c235241251baf92fb36381f"
  },
  "kernelspec": {
   "display_name": "Python 3 (ipykernel)",
   "language": "python",
   "name": "python3"
  },
  "language_info": {
   "codemirror_mode": {
    "name": "ipython",
    "version": 3
   },
   "file_extension": ".py",
   "mimetype": "text/x-python",
   "name": "python",
   "nbconvert_exporter": "python",
   "pygments_lexer": "ipython3",
   "version": "3.9.13"
  }
 },
 "nbformat": 4,
 "nbformat_minor": 2
}
