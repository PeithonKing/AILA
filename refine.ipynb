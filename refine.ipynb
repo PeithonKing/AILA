{
 "cells": [
  {
   "cell_type": "code",
   "execution_count": 4,
   "id": "49b59423",
   "metadata": {},
   "outputs": [],
   "source": [
    "import json"
   ]
  },
  {
   "cell_type": "code",
   "execution_count": 5,
   "id": "5bd150f1",
   "metadata": {},
   "outputs": [],
   "source": [
    "file = \"relevance_judgments_priorcases.txt\""
   ]
  },
  {
   "cell_type": "code",
   "execution_count": 6,
   "id": "94bb118a",
   "metadata": {},
   "outputs": [],
   "source": [
    "with open(file) as f:\n",
    "    a = f.read().split(\"\\n\")"
   ]
  },
  {
   "cell_type": "code",
   "execution_count": 7,
   "id": "c9adaee6",
   "metadata": {},
   "outputs": [],
   "source": [
    "data = [c.split() for c in a]"
   ]
  },
  {
   "cell_type": "code",
   "execution_count": 8,
   "id": "7bb61150",
   "metadata": {},
   "outputs": [],
   "source": [
    "d = {}\n",
    "for dat in data:\n",
    "    if dat[0] in d.keys():\n",
    "        if int(dat[3]):\n",
    "            d[dat[0]].append(dat[2])\n",
    "    else:\n",
    "        d[dat[0]] = [dat[2]]"
   ]
  },
  {
   "cell_type": "code",
   "execution_count": 10,
   "id": "24033bbc",
   "metadata": {},
   "outputs": [],
   "source": [
    "with open(\"data.json\", \"w\") as f: json.dump(d, f)"
   ]
  }
 ],
 "metadata": {
  "kernelspec": {
   "display_name": "Python 3 (ipykernel)",
   "language": "python",
   "name": "python3"
  },
  "language_info": {
   "codemirror_mode": {
    "name": "ipython",
    "version": 3
   },
   "file_extension": ".py",
   "mimetype": "text/x-python",
   "name": "python",
   "nbconvert_exporter": "python",
   "pygments_lexer": "ipython3",
   "version": "3.9.10"
  }
 },
 "nbformat": 4,
 "nbformat_minor": 5
}
