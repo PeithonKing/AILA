{
 "cells": [
  {
   "cell_type": "markdown",
   "id": "ad957186",
   "metadata": {},
   "source": [
    "## Imports and \"process()\" function"
   ]
  },
  {
   "cell_type": "code",
   "execution_count": 3,
   "id": "bdd8d730",
   "metadata": {},
   "outputs": [],
   "source": [
    "import nltk\n",
    "from nltk.stem import PorterStemmer\n",
    "from nltk.corpus import stopwords\n",
    "import pandas as pd\n",
    "pd.set_option('max_colwidth', 150)\n",
    "import os\n",
    "import json\n",
    "import time\n",
    "tokenizer = nltk.RegexpTokenizer(r\"\\w+\")\n",
    "ps = PorterStemmer()"
   ]
  },
  {
   "cell_type": "code",
   "execution_count": 4,
   "id": "ca1495da",
   "metadata": {},
   "outputs": [],
   "source": [
    "def process(string,\n",
    "            tokenizer = nltk.RegexpTokenizer(r\"\\w+\"),\n",
    "            ps = PorterStemmer(),\n",
    "            stopwords = stopwords.words('english')):\n",
    "    '''\n",
    "    - A function to process a string and return a list of tokens.\n",
    "    - We tokenize the string, remove stopwords and numbers, and\n",
    "        finally stem the tokens to keep them in a list.\n",
    "    - This function will be used in all cases uniformly so that \n",
    "        we can compare \"APPLES WITH APPLES\".\n",
    "    '''\n",
    "    string = tokenizer.tokenize(string.lower()) # tokenize\n",
    "    tokens = [ps.stem(fl) for fl in string # stem tokens\n",
    "              if not fl.isnumeric() and # remove numbers\n",
    "              fl in stopwords] # remove stopwords\n",
    "    return tokens # takes string as input and returns a list"
   ]
  },
  {
   "cell_type": "markdown",
   "id": "c27eaf42",
   "metadata": {},
   "source": [
    "# Object Casedocs"
   ]
  },
  {
   "cell_type": "code",
   "execution_count": 27,
   "id": "4c28f69d",
   "metadata": {},
   "outputs": [],
   "source": [
    "path = \"../Object_casedocs/\"\n",
    "l = os.listdir(path)"
   ]
  },
  {
   "cell_type": "code",
   "execution_count": null,
   "id": "f8a6753b",
   "metadata": {},
   "outputs": [],
   "source": [
    "# read files, process the read text and add them to a dictionary\n",
    "cases = {}\n",
    "i = 0\n",
    "t00 = time.time()\n",
    "for file in l:\n",
    "    i += 1\n",
    "    t0 = time.time()\n",
    "    with open(path+file) as f:\n",
    "        cases[file[:-4]] = process(f.read())\n",
    "    t1 = time.time()\n",
    "\n",
    "    # show results\n",
    "    print(f\"{file} took {t1-t0} seconds\")\n",
    "    print(f\"average time taken per file = {(t1-t00)/i} seconds\")\n",
    "    print(f\"percentage done = {i/len(l)*100}%\")\n",
    "    print(f\"estimated time remaining = {(t1-t00)*(len(l)-i)/i} seconds\")\n",
    "    print(f\"total elapsed time = {t1-t00} seconds\\n\\n\")\n",
    "\n",
    "# This cell takes an hour to run on my machine"
   ]
  },
  {
   "cell_type": "code",
   "execution_count": null,
   "id": "7435955a",
   "metadata": {},
   "outputs": [],
   "source": [
    "# Saving resultant dictionary to json file\n",
    "with open(\"cases.json\", \"w\") as f:\n",
    "    json.dump(cases, f)"
   ]
  },
  {
   "cell_type": "markdown",
   "id": "f1045343",
   "metadata": {},
   "source": [
    "# Query Doc (Questions)"
   ]
  },
  {
   "cell_type": "code",
   "execution_count": 29,
   "id": "3087362b",
   "metadata": {},
   "outputs": [],
   "source": [
    "with open(\"../Query_doc.txt\") as f:\n",
    "    a = f.readlines()"
   ]
  },
  {
   "cell_type": "code",
   "execution_count": 37,
   "id": "1dc30afe",
   "metadata": {},
   "outputs": [],
   "source": [
    "b = {}\n",
    "for x in a:\n",
    "    n, t = x.split(\"||\")\n",
    "    b[n] = process(t)"
   ]
  },
  {
   "cell_type": "code",
   "execution_count": 42,
   "id": "dce0eae3",
   "metadata": {},
   "outputs": [],
   "source": [
    "with open(\"Query_Doc.json\", \"w\") as f:\n",
    "    json.dump(b, f)"
   ]
  },
  {
   "cell_type": "markdown",
   "id": "02669433",
   "metadata": {},
   "source": [
    "# Answers"
   ]
  },
  {
   "cell_type": "code",
   "execution_count": 1,
   "id": "79701850",
   "metadata": {},
   "outputs": [],
   "source": [
    "file = \"../relevance_judgments_priorcases.txt\"\n",
    "with open(file) as f:\n",
    "    texts = f.readlines()\n",
    "texts = [d.split() for d in texts]\n",
    "# t = set([tex[1] for tex in texts])\n",
    "# t"
   ]
  },
  {
   "cell_type": "code",
   "execution_count": null,
   "id": "a87c60a9",
   "metadata": {},
   "outputs": [],
   "source": [
    "ans = {}\n",
    "for line in texts:\n",
    "    if line[0] not in ans.keys():\n",
    "        ans[line[0]] = []\n",
    "    if int(line[3]):\n",
    "        # print(line)\n",
    "        ans[line[0]].append(line[2])"
   ]
  },
  {
   "cell_type": "code",
   "execution_count": 68,
   "id": "d2b2bfad",
   "metadata": {},
   "outputs": [],
   "source": [
    "with open(\"answers.json\", \"w\") as f:\n",
    "    json.dump(ans, f)"
   ]
  }
 ],
 "metadata": {
  "kernelspec": {
   "display_name": "Python 3 (ipykernel)",
   "language": "python",
   "name": "python3"
  },
  "language_info": {
   "codemirror_mode": {
    "name": "ipython",
    "version": 3
   },
   "file_extension": ".py",
   "mimetype": "text/x-python",
   "name": "python",
   "nbconvert_exporter": "python",
   "pygments_lexer": "ipython3",
   "version": "3.9.10"
  }
 },
 "nbformat": 4,
 "nbformat_minor": 5
}
