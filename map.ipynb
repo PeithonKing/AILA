{
 "cells": [
  {
   "cell_type": "code",
   "execution_count": 42,
   "metadata": {},
   "outputs": [
    {
     "name": "stdout",
     "output_type": "stream",
     "text": [
      "1  -  C8\n",
      "2  -  C17\n",
      "3  -  C101\n",
      "4  -  C6\n",
      "5  -  C5\n",
      "6  -  C89\n"
     ]
    }
   ],
   "source": [
    "res = [[\"C5\", 0.7],\n",
    "       [\"C17\", 0.9],\n",
    "       [\"C6\", 0.8],\n",
    "       [\"C8\", 1.0],\n",
    "       [\"C89\", 0.2],\n",
    "       [\"C101\", 0.81]]\n",
    "\n",
    "result = {\"C5\": 0.7,\n",
    "        \"C17\": 0.9,\n",
    "        \"C6\": 0.8,\n",
    "        \"C8\": 1.0,\n",
    "        \"C89\": 0.2,\n",
    "        \"C101\": 0.81}\n",
    "\n",
    "\n",
    "rel = [\"C5\", \"C6\", \"C7\"]\n",
    "\n",
    "res = [x[0] for x in sorted(res, key=lambda x: x[1], reverse=True)]\n",
    "for index, res_i in enumerate(res):\n",
    "\tprint(index+1, \" - \", res_i)"
   ]
  },
  {
   "cell_type": "code",
   "execution_count": 33,
   "metadata": {},
   "outputs": [],
   "source": [
    "# AP\n",
    "precision = [((i+1)/(res.index(rel[i])+1)) for i in range(len(rel)) if rel[i] in res]\n",
    "ap = sum(precision)/len(rel)"
   ]
  },
  {
   "cell_type": "code",
   "execution_count": 34,
   "metadata": {},
   "outputs": [
    {
     "data": {
      "text/plain": [
       "0.2333333333333333"
      ]
     },
     "execution_count": 34,
     "metadata": {},
     "output_type": "execute_result"
    }
   ],
   "source": [
    "ap"
   ]
  },
  {
   "cell_type": "code",
   "execution_count": 35,
   "metadata": {},
   "outputs": [
    {
     "data": {
      "text/plain": [
       "[0.2, 0.5]"
      ]
     },
     "execution_count": 35,
     "metadata": {},
     "output_type": "execute_result"
    }
   ],
   "source": [
    "precision"
   ]
  },
  {
   "cell_type": "code",
   "execution_count": 43,
   "metadata": {},
   "outputs": [
    {
     "name": "stdout",
     "output_type": "stream",
     "text": [
      "1  -  C8\n",
      "2  -  C17\n",
      "3  -  C101\n",
      "4  -  C6\n",
      "5  -  C5\n",
      "6  -  C89\n"
     ]
    }
   ],
   "source": [
    "result = sorted(result.keys(), key=lambda x: result[x], reverse=True)\n",
    "for index, res_i in enumerate(result):\n",
    "\tprint(index+1, \" - \", res_i)"
   ]
  }
 ],
 "metadata": {
  "interpreter": {
   "hash": "be9cdc504d98ab96ad8866acde1c88b8018494c09f03a4368ac294b997c715e8"
  },
  "kernelspec": {
   "display_name": "Python 3.9.10 64-bit (windows store)",
   "language": "python",
   "name": "python3"
  },
  "language_info": {
   "codemirror_mode": {
    "name": "ipython",
    "version": 3
   },
   "file_extension": ".py",
   "mimetype": "text/x-python",
   "name": "python",
   "nbconvert_exporter": "python",
   "pygments_lexer": "ipython3",
   "version": "3.9.10"
  },
  "orig_nbformat": 4
 },
 "nbformat": 4,
 "nbformat_minor": 2
}
