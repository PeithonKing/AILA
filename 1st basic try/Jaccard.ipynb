{
 "cells": [
  {
   "cell_type": "code",
   "execution_count": 1,
   "metadata": {},
   "outputs": [],
   "source": [
    "from nltk.metrics.scores import *\n",
    "import json\n",
    "from os import listdir as l"
   ]
  },
  {
   "cell_type": "code",
   "execution_count": 2,
   "metadata": {},
   "outputs": [],
   "source": [
    "def intersection_of_two(a, b):\n",
    "    d = {i:min(a.count(i), b.count(i)) for i in set(a).union(set(b))}\n",
    "    r = []\n",
    "    for key, value in d.items():\n",
    "        r += [key]*value\n",
    "    return r\n",
    "\n",
    "def intersection(*a):\n",
    "    a = list(a)\n",
    "    while True:\n",
    "        if len(a)>1:\n",
    "            a.append(intersection_of_two(a.pop(), a.pop()))\n",
    "        else: return sorted(a[0])\n",
    "\n",
    "def union_of_two(a, b):\n",
    "    d = {i:max(a.count(i), b.count(i)) for i in set(a).union(set(b))}\n",
    "    r = []\n",
    "    for key, value in d.items():\n",
    "        r += [key]*value\n",
    "    return r\n",
    "\n",
    "def union(*a):\n",
    "    a = list(a)\n",
    "    while True:\n",
    "        if len(a)>1:\n",
    "            a.append(union_of_two(a.pop(), a.pop()))\n",
    "        else:\n",
    "            return sorted(a[0])\n",
    "\n",
    "def meanAP(a, b):\n",
    "    pre = sum([precision(set(a[i]), set(b[i])) for i in b.keys() if len(b[i])])*2\n",
    "    rec = sum([recall(set(a[i]), set(b[i])) for i in b.keys() if len(b[i])])*2\n",
    "    return 2*pre*rec/(pre+rec)\n",
    "\n",
    "def Jaccard_Coefficient(a, b):\n",
    "\treturn 100*len(intersection(a, b))/len(union(a, b))"
   ]
  },
  {
   "cell_type": "code",
   "execution_count": 3,
   "metadata": {},
   "outputs": [],
   "source": [
    "with open(\"../Query_doc.json\") as f:\n",
    "\tquery = json.load(f)"
   ]
  },
  {
   "cell_type": "code",
   "execution_count": 4,
   "metadata": {},
   "outputs": [],
   "source": [
    "with open(\"cases.json\") as f:\n",
    "\tprior_cases = json.load(f)"
   ]
  },
  {
   "cell_type": "code",
   "execution_count": 5,
   "metadata": {},
   "outputs": [],
   "source": [
    "with open(\"answers.json\") as f:\n",
    "\tanswers = json.load(f)"
   ]
  },
  {
   "cell_type": "code",
   "execution_count": 6,
   "metadata": {},
   "outputs": [
    {
     "data": {
      "text/plain": [
       "dict_keys(['AILA_Q1', 'AILA_Q2', 'AILA_Q3', 'AILA_Q4', 'AILA_Q5', 'AILA_Q6', 'AILA_Q7', 'AILA_Q8', 'AILA_Q9', 'AILA_Q10', 'AILA_Q11', 'AILA_Q12', 'AILA_Q13', 'AILA_Q14', 'AILA_Q15', 'AILA_Q16', 'AILA_Q17', 'AILA_Q18', 'AILA_Q19', 'AILA_Q20', 'AILA_Q21', 'AILA_Q22', 'AILA_Q23', 'AILA_Q24', 'AILA_Q25', 'AILA_Q26', 'AILA_Q27', 'AILA_Q28', 'AILA_Q29', 'AILA_Q30', 'AILA_Q31', 'AILA_Q32', 'AILA_Q33', 'AILA_Q34', 'AILA_Q35', 'AILA_Q36', 'AILA_Q37', 'AILA_Q38', 'AILA_Q39', 'AILA_Q40', 'AILA_Q41', 'AILA_Q42', 'AILA_Q43', 'AILA_Q44', 'AILA_Q45', 'AILA_Q46', 'AILA_Q47', 'AILA_Q48', 'AILA_Q49', 'AILA_Q50'])"
      ]
     },
     "execution_count": 6,
     "metadata": {},
     "output_type": "execute_result"
    }
   ],
   "source": [
    "query.keys()"
   ]
  },
  {
   "cell_type": "code",
   "execution_count": 7,
   "metadata": {},
   "outputs": [
    {
     "data": {
      "text/plain": [
       "dict_keys(['C1', 'C10', 'C100', 'C101', 'C102', 'C103', 'C1033', 'C104', 'C105', 'C106', 'C107', 'C108', 'C109', 'C11', 'C110', 'C111', 'C112', 'C113', 'C114', 'C115', 'C116', 'C117', 'C118', 'C119', 'C12', 'C120', 'C121', 'C122', 'C1225', 'C123', 'C124', 'C125', 'C126', 'C127', 'C128', 'C129', 'C13', 'C130', 'C131', 'C132', 'C1326', 'C133', 'C134', 'C135', 'C136', 'C137', 'C1377', 'C138', 'C139', 'C1399', 'C14', 'C140', 'C1409', 'C141', 'C142', 'C143', 'C144', 'C1441', 'C145', 'C1457', 'C146', 'C147', 'C148', 'C149', 'C15', 'C150', 'C151', 'C152', 'C153', 'C154', 'C155', 'C156', 'C157', 'C158', 'C159', 'C16', 'C160', 'C161', 'C162', 'C163', 'C1631', 'C164', 'C165', 'C166', 'C167', 'C168', 'C169', 'C17', 'C170', 'C1700', 'C171', 'C172', 'C173', 'C1733', 'C174', 'C175', 'C176', 'C177', 'C1770', 'C178', 'C179', 'C18', 'C180', 'C181', 'C182', 'C183', 'C184', 'C185', 'C1855', 'C186', 'C1868', 'C187', 'C188', 'C1893', 'C1897', 'C19', 'C1965', 'C2', 'C20', 'C2046', 'C2099', 'C21', 'C2117', 'C22', 'C2231', 'C23', 'C2304', 'C24', 'C25', 'C2507', 'C2520', 'C2585', 'C26', 'C262', 'C2642', 'C2675', 'C27', 'C2733', 'C2784', 'C2797', 'C28', 'C2800', 'C29', 'C3', 'C31', 'C32', 'C33', 'C34', 'C35', 'C36', 'C364', 'C369', 'C37', 'C38', 'C383', 'C39', 'C4', 'C40', 'C404', 'C41', 'C42', 'C43', 'C438', 'C44', 'C45', 'C46', 'C47', 'C48', 'C49', 'C5', 'C50', 'C52', 'C53', 'C54', 'C55', 'C56', 'C57', 'C58', 'C59', 'C6', 'C60', 'C61', 'C62', 'C63', 'C64', 'C65', 'C66', 'C67', 'C68', 'C69', 'C694', 'C696', 'C7', 'C70', 'C71', 'C713', 'C72', 'C73', 'C74', 'C75', 'C76', 'C77', 'C78', 'C79', 'C8', 'C80', 'C802', 'C81', 'C82', 'C83', 'C84', 'C85', 'C855', 'C86', 'C87', 'C88', 'C881', 'C887', 'C89', 'C9', 'C90', 'C91', 'C92', 'C93', 'C94', 'C95', 'C96', 'C97', 'C973', 'C98', 'C99', 'C993'])"
      ]
     },
     "execution_count": 7,
     "metadata": {},
     "output_type": "execute_result"
    }
   ],
   "source": [
    "prior_cases.keys()"
   ]
  },
  {
   "cell_type": "code",
   "execution_count": 8,
   "metadata": {},
   "outputs": [
    {
     "data": {
      "text/plain": [
       "{'AILA_Q1': ['C168', 'C14', 'C9'],\n",
       " 'AILA_Q2': ['C2046', 'C27', 'C22'],\n",
       " 'AILA_Q3': ['C2642', 'C1'],\n",
       " 'AILA_Q4': ['C1855', 'C182'],\n",
       " 'AILA_Q5': ['C438', 'C54', 'C36', 'C155', 'C144', 'C121'],\n",
       " 'AILA_Q6': ['C2507', 'C152', 'C26', 'C19', 'C99'],\n",
       " 'AILA_Q7': ['C802', 'C130'],\n",
       " 'AILA_Q8': ['C1868', 'C32', 'C125', 'C60'],\n",
       " 'AILA_Q9': ['C2784', 'C42', 'C90'],\n",
       " 'AILA_Q10': ['C881', 'C185', 'C180', 'C86'],\n",
       " 'AILA_Q11': ['C2733', 'C131', 'C132'],\n",
       " 'AILA_Q12': ['C1700', 'C8'],\n",
       " 'AILA_Q13': ['C713', 'C102', 'C120', 'C40'],\n",
       " 'AILA_Q14': ['C364', 'C46'],\n",
       " 'AILA_Q15': ['C1409', 'C185'],\n",
       " 'AILA_Q16': ['C2797', 'C166', 'C50'],\n",
       " 'AILA_Q17': ['C2304', 'C67', 'C23', 'C145'],\n",
       " 'AILA_Q18': ['C151', 'C188'],\n",
       " 'AILA_Q19': ['C2520', 'C63', 'C89', 'C77', 'C142'],\n",
       " 'AILA_Q20': ['C2800', 'C134', 'C168'],\n",
       " 'AILA_Q21': ['C887', 'C48', 'C28', 'C114', 'C113'],\n",
       " 'AILA_Q22': ['C2099', 'C11', 'C118'],\n",
       " 'AILA_Q23': ['C1965', 'C88', 'C10'],\n",
       " 'AILA_Q24': ['C2585', 'C171'],\n",
       " 'AILA_Q25': ['C973', 'C29', 'C15', 'C41', 'C105', 'C17', 'C84'],\n",
       " 'AILA_Q26': ['C1326',\n",
       "  'C116',\n",
       "  'C115',\n",
       "  'C44',\n",
       "  'C183',\n",
       "  'C179',\n",
       "  'C108',\n",
       "  'C133',\n",
       "  'C87'],\n",
       " 'AILA_Q27': ['C1897', 'C91', 'C73', 'C136', 'C175', 'C161'],\n",
       " 'AILA_Q28': ['C1733', 'C71', 'C178'],\n",
       " 'AILA_Q29': ['C1457',\n",
       "  'C66',\n",
       "  'C6',\n",
       "  'C127',\n",
       "  'C159',\n",
       "  'C173',\n",
       "  'C24',\n",
       "  'C63',\n",
       "  'C176',\n",
       "  'C156',\n",
       "  'C62',\n",
       "  'C153',\n",
       "  'C74',\n",
       "  'C163',\n",
       "  'C124',\n",
       "  'C169',\n",
       "  'C68',\n",
       "  'C138',\n",
       "  'C100',\n",
       "  'C34',\n",
       "  'C140',\n",
       "  'C4',\n",
       "  'C39'],\n",
       " 'AILA_Q30': ['C1441',\n",
       "  'C148',\n",
       "  'C80',\n",
       "  'C137',\n",
       "  'C97',\n",
       "  'C123',\n",
       "  'C107',\n",
       "  'C167',\n",
       "  'C83',\n",
       "  'C154',\n",
       "  'C56'],\n",
       " 'AILA_Q31': ['C1033', 'C93', 'C65'],\n",
       " 'AILA_Q32': ['C1399', 'C122', 'C164', 'C94'],\n",
       " 'AILA_Q33': ['C993', 'C186'],\n",
       " 'AILA_Q34': ['C369',\n",
       "  'C72',\n",
       "  'C49',\n",
       "  'C143',\n",
       "  'C69',\n",
       "  'C85',\n",
       "  'C25',\n",
       "  'C126',\n",
       "  'C181',\n",
       "  'C165',\n",
       "  'C33',\n",
       "  'C129',\n",
       "  'C3',\n",
       "  'C13'],\n",
       " 'AILA_Q35': ['C1631', 'C31', 'C184'],\n",
       " 'AILA_Q36': ['C2117', 'C57', 'C112', 'C172', 'C160', 'C37', 'C55'],\n",
       " 'AILA_Q37': ['C383', 'C18', 'C71', 'C178'],\n",
       " 'AILA_Q38': ['C404', 'C149', 'C177', 'C101', 'C110', 'C70'],\n",
       " 'AILA_Q39': ['C54',\n",
       "  'C95',\n",
       "  'C16',\n",
       "  'C53',\n",
       "  'C128',\n",
       "  'C169',\n",
       "  'C20',\n",
       "  'C104',\n",
       "  'C146',\n",
       "  'C43',\n",
       "  'C187',\n",
       "  'C119',\n",
       "  'C12'],\n",
       " 'AILA_Q40': ['C1893', 'C135', 'C111'],\n",
       " 'AILA_Q41': ['C855', 'C98', 'C96', 'C35', 'C52', 'C94'],\n",
       " 'AILA_Q42': ['C694', 'C103', 'C81', 'C150', 'C2'],\n",
       " 'AILA_Q43': ['C1225', 'C157', 'C151', 'C158'],\n",
       " 'AILA_Q44': ['C696', 'C7', 'C117', 'C109', 'C64', 'C45', 'C61'],\n",
       " 'AILA_Q45': ['C262', 'C78', 'C58'],\n",
       " 'AILA_Q46': ['C1770',\n",
       "  'C5',\n",
       "  'C170',\n",
       "  'C59',\n",
       "  'C75',\n",
       "  'C47',\n",
       "  'C106',\n",
       "  'C79',\n",
       "  'C147',\n",
       "  'C139'],\n",
       " 'AILA_Q47': ['C156', 'C171'],\n",
       " 'AILA_Q48': ['C2675', 'C82', 'C162', 'C141', 'C21'],\n",
       " 'AILA_Q49': ['C2231', 'C174', 'C38', 'C76', 'C92'],\n",
       " 'AILA_Q50': ['C1377', 'C27', 'C22']}"
      ]
     },
     "execution_count": 8,
     "metadata": {},
     "output_type": "execute_result"
    }
   ],
   "source": [
    "answers"
   ]
  },
  {
   "cell_type": "code",
   "execution_count": 9,
   "metadata": {},
   "outputs": [],
   "source": [
    "# prediction = {}\n",
    "# for new_case in query.keys():\n",
    "#     predicted_cases = {}\n",
    "#     for prior_case in prior_cases.keys():\n",
    "#         predicted_cases[prior_case] = Jaccard_Coefficient(query[new_case], prior_cases[prior_case])\n",
    "#     prediction[new_case] = predicted_cases\n",
    "#     print(new_case, prediction[new_case])\n",
    "\n",
    "# with open(\"Jaccard_Scores.json\", \"w\") as f:\n",
    "#     json.dump(prediction, f)"
   ]
  },
  {
   "cell_type": "code",
   "execution_count": 10,
   "metadata": {},
   "outputs": [],
   "source": [
    "with open(\"Jaccard_Scores.json\") as f:\n",
    "\tscores = json.load(f)"
   ]
  },
  {
   "cell_type": "code",
   "execution_count": 11,
   "metadata": {},
   "outputs": [],
   "source": [
    "def predict(threshold, scores):\n",
    "    ret = {}\n",
    "    for query in scores.keys(): # \"AILA_Qx\"\n",
    "        a = []\n",
    "        for case in scores[query].keys(): # \"Cx\"\n",
    "            if scores[query][case]>threshold:\n",
    "                a.append(case)\n",
    "        ret[query] = a\n",
    "    return ret\n",
    "\n",
    "prediction = predict(6.5, scores)"
   ]
  },
  {
   "cell_type": "code",
   "execution_count": 12,
   "metadata": {},
   "outputs": [],
   "source": [
    "# # Code for loading predictions\n",
    "# l = [i for i in l() if i.startswith(\"prediction_\")]\n",
    "# if f\"prediction_{threshold}.json\" in l:\n",
    "#     with open(f\"prediction_{threshold}.json\") as f:\n",
    "#         prediction = json.load(f)\n",
    "# else:\n",
    "#     for i in range(len(l)):\n",
    "#         print(i, \"-\", l[i])\n",
    "#     index = int(input(\"Enter the index of the file: \"))\n",
    "#     with open(l[index]) as f:\n",
    "#         prediction = json.load(f)"
   ]
  },
  {
   "cell_type": "code",
   "execution_count": 13,
   "metadata": {},
   "outputs": [
    {
     "name": "stdout",
     "output_type": "stream",
     "text": [
      "['C114', 'C116', 'C118', 'C1225', 'C1399', 'C1441', 'C15', 'C150', 'C158', 'C160', 'C165', 'C1733', 'C176', 'C2304', 'C2585', 'C262', 'C27', 'C29', 'C369', 'C404', 'C44', 'C49', 'C65', 'C67', 'C694', 'C713', 'C76', 'C81', 'C82', 'C9', 'C92', 'C93']\n",
      "['C2304', 'C2585', 'C369', 'C53']\n",
      "['C369']\n",
      "['C112', 'C148', 'C2585', 'C65', 'C92']\n",
      "['C118', 'C1225', 'C1326', 'C138', 'C1441', 'C1700', 'C184', 'C1965', 'C2117', 'C2304', 'C2520', 'C2585', 'C2797', 'C31', 'C369', 'C404', 'C46', 'C53', 'C713', 'C74']\n",
      "[]\n",
      "['C369']\n",
      "['C118', 'C1225', 'C1441', 'C148', 'C2117', 'C2304', 'C2585', 'C2797', 'C31', 'C404', 'C46', 'C713', 'C74']\n",
      "['C107', 'C118', 'C122', 'C1225', 'C1326', 'C1441', 'C148', 'C1965', 'C2117', 'C2304', 'C2797', 'C404', 'C46', 'C713', 'C74', 'C76']\n",
      "['C118', 'C122', 'C1965', 'C2304', 'C31', 'C369', 'C404', 'C713']\n",
      "['C114', 'C116', 'C145', 'C15', 'C158', 'C161', 'C175', 'C2585', 'C262', 'C45', 'C49', 'C67', 'C76', 'C8', 'C85', 'C91']\n",
      "[]\n",
      "['C114', 'C369', 'C76', 'C92']\n",
      "['C118', 'C122', 'C1225', 'C1441', 'C148', 'C1965', 'C2117', 'C2304', 'C2797', 'C31', 'C369', 'C404', 'C46', 'C713']\n",
      "['C118', 'C1965', 'C2117', 'C2304']\n",
      "['C1225', 'C1441', 'C1965', 'C2117', 'C2304', 'C2797', 'C31', 'C369', 'C404', 'C713', 'C802']\n",
      "['C67']\n",
      "[]\n",
      "['C1033', 'C118', 'C122', 'C1225', 'C123', 'C1326', 'C138', 'C1441', 'C147', 'C148', 'C167', 'C1700', 'C176', 'C178', 'C184', 'C1965', 'C2099', 'C2117', 'C2304', 'C2520', 'C2585', 'C2797', 'C31', 'C369', 'C383', 'C404', 'C46', 'C50', 'C53', 'C56', 'C713', 'C74', 'C802', 'C83', 'C97']\n",
      "['C118', 'C1225', 'C1441', 'C148', 'C184', 'C1965', 'C2117', 'C2304', 'C2797', 'C31', 'C369', 'C404', 'C56', 'C713', 'C802']\n",
      "['C112', 'C113', 'C114', 'C118', 'C1399', 'C148', 'C1965', 'C369', 'C65', 'C76', 'C92']\n",
      "['C107', 'C118', 'C122', 'C1225', 'C123', 'C138', 'C1399', 'C1441', 'C146', 'C147', 'C148', 'C152', 'C154', 'C164', 'C167', 'C1700', 'C184', 'C1965', 'C2099', 'C2117', 'C2304', 'C2520', 'C2585', 'C2797', 'C31', 'C36', 'C369', 'C404', 'C46', 'C50', 'C53', 'C56', 'C61', 'C71', 'C713', 'C74', 'C76', 'C802', 'C82', 'C83', 'C97']\n",
      "[]\n",
      "['C1326', 'C1441', 'C1700', 'C184', 'C2099', 'C2117', 'C2304', 'C2797', 'C404', 'C46', 'C53', 'C713']\n",
      "['C112', 'C114', 'C116', 'C118', 'C1399', 'C148', 'C1733', 'C369', 'C41', 'C44', 'C53', 'C76', 'C881']\n",
      "['C110', 'C112', 'C114', 'C116', 'C118', 'C1225', 'C133', 'C1399', 'C15', 'C150', 'C160', 'C1733', 'C179', 'C24', 'C2585', 'C2797', 'C29', 'C369', 'C38', 'C41', 'C44', 'C49', 'C65', 'C76', 'C82', 'C88', 'C881', 'C93']\n",
      "['C369']\n",
      "['C148', 'C2304', 'C31', 'C369', 'C92']\n",
      "['C107', 'C118', 'C1225', 'C123', 'C1441', 'C147', 'C148', 'C167', 'C1700', 'C2117', 'C2304', 'C2520', 'C2585', 'C2797', 'C369', 'C404', 'C46', 'C50', 'C56', 'C713', 'C74', 'C83', 'C97']\n",
      "['C107', 'C118', 'C148', 'C2117', 'C2304', 'C2585', 'C2797', 'C31', 'C369', 'C404', 'C46', 'C56', 'C713', 'C74', 'C97']\n",
      "['C114', 'C116', 'C118', 'C1399', 'C2585', 'C369', 'C65', 'C76', 'C92', 'C93']\n",
      "[]\n",
      "['C118', 'C2304', 'C31', 'C369', 'C713']\n",
      "['C1', 'C114', 'C116', 'C15', 'C150', 'C158', 'C165', 'C2585', 'C29', 'C369', 'C45', 'C46', 'C49', 'C61', 'C65', 'C67', 'C694', 'C76', 'C81', 'C82', 'C85', 'C92']\n",
      "['C1225', 'C123', 'C1326', 'C138', 'C1441', 'C147', 'C164', 'C167', 'C1700', 'C171', 'C178', 'C184', 'C1965', 'C2099', 'C2117', 'C2304', 'C2520', 'C2797', 'C31', 'C404', 'C46', 'C50', 'C56', 'C71', 'C713', 'C74', 'C83', 'C86', 'C97']\n",
      "['C112', 'C114', 'C116', 'C1399', 'C15', 'C2585', 'C369', 'C37', 'C76', 'C92']\n",
      "['C1225', 'C123', 'C1326', 'C1441', 'C1700', 'C184', 'C2099', 'C2117', 'C2304', 'C2797', 'C31', 'C404', 'C46', 'C713', 'C74', 'C97']\n",
      "['C118', 'C1399', 'C369', 'C92']\n",
      "['C107', 'C1441', 'C146', 'C167', 'C168', 'C1700', 'C1965', 'C2117', 'C2304', 'C2585', 'C2797', 'C369', 'C404', 'C46', 'C713', 'C83', 'C97']\n",
      "['C1399', 'C369']\n",
      "['C118', 'C122', 'C1225', 'C123', 'C1326', 'C138', 'C1441', 'C167', 'C1700', 'C184', 'C1965', 'C2099', 'C2117', 'C2304', 'C2797', 'C31', 'C404', 'C46', 'C53', 'C56', 'C713', 'C74', 'C97']\n",
      "[]\n",
      "['C148', 'C2585', 'C92']\n",
      "['C112', 'C114', 'C118', 'C148', 'C2585', 'C369', 'C65', 'C76', 'C85', 'C92']\n",
      "['C148', 'C2304']\n",
      "['C118', 'C1225', 'C1441', 'C147', 'C2117', 'C2304', 'C2797', 'C31', 'C369', 'C404', 'C713', 'C802']\n",
      "['C118', 'C1225', 'C123', 'C1326', 'C138', 'C1441', 'C148', 'C167', 'C1700', 'C1965', 'C2099', 'C2117', 'C2304', 'C2520', 'C2797', 'C31', 'C404', 'C46', 'C56', 'C713', 'C74', 'C97']\n",
      "[]\n",
      "['C118', 'C1399', 'C369', 'C92']\n",
      "['C107', 'C112', 'C118', 'C130', 'C1965', 'C2304', 'C2585', 'C369', 'C53', 'C76', 'C97']\n"
     ]
    }
   ],
   "source": [
    "for i in range(50): print(prediction[list(prediction.keys())[i]])"
   ]
  },
  {
   "cell_type": "code",
   "execution_count": 14,
   "metadata": {},
   "outputs": [
    {
     "data": {
      "text/plain": [
       "6.051246939306523"
      ]
     },
     "execution_count": 14,
     "metadata": {},
     "output_type": "execute_result"
    }
   ],
   "source": [
    "sum([precision(set(answers[i]), set(prediction[i])) for i in prediction.keys() if len(prediction[i])])*2"
   ]
  },
  {
   "cell_type": "code",
   "execution_count": 15,
   "metadata": {},
   "outputs": [
    {
     "data": {
      "text/plain": [
       "11.918869053651662"
      ]
     },
     "execution_count": 15,
     "metadata": {},
     "output_type": "execute_result"
    }
   ],
   "source": [
    "sum([recall(set(answers[i]), set(prediction[i])) for i in prediction.keys() if len(prediction[i])])*2"
   ]
  },
  {
   "cell_type": "code",
   "execution_count": 16,
   "metadata": {},
   "outputs": [
    {
     "data": {
      "text/plain": [
       "8.027106770948786"
      ]
     },
     "execution_count": 16,
     "metadata": {},
     "output_type": "execute_result"
    }
   ],
   "source": [
    "meanAP(answers, prediction)"
   ]
  },
  {
   "cell_type": "code",
   "execution_count": 24,
   "metadata": {},
   "outputs": [
    {
     "data": {
      "text/plain": [
       "7.6125034377390595"
      ]
     },
     "execution_count": 24,
     "metadata": {},
     "output_type": "execute_result"
    }
   ],
   "source": [
    "# finding the best value for threshold by regression\n",
    "alpha = 0.1\n",
    "# prediction = predict(5, scores)\n",
    "\n",
    "def slope(threshold):\n",
    "    u = meanAP(answers, predict(threshold+0.01, scores))\n",
    "    l = meanAP(answers, predict(threshold-0.01, scores))\n",
    "    return (u-l)/(0.02)\n",
    "\n",
    "threshold = 5.1\n",
    "for i in range(100):\n",
    "    # print(threshold, slope(threshold))\n",
    "    threshold += alpha*slope(threshold)\n",
    "\n",
    "threshold"
   ]
  },
  {
   "cell_type": "code",
   "execution_count": 28,
   "metadata": {},
   "outputs": [
    {
     "data": {
      "image/png": "[encoded data removed]",
      "text/plain": [
       "<Figure size 432x288 with 1 Axes>"
      ]
     },
     "metadata": {
      "needs_background": "light"
     },
     "output_type": "display_data"
    }
   ],
   "source": [
    "import matplotlib.pyplot as plt\n",
    "import numpy as np\n",
    "\n",
    "MeanAP = np.vectorize(meanAP)\n",
    "Predict = np.vectorize(predict)\n",
    "\n",
    "X = np.arange(5, 6.5, 0.01)\n",
    "Y = MeanAP(answers, Predict(X, scores))\n",
    "\n",
    "plt.plot(X, Y)\n",
    "plt.show()"
   ]
  },
  {
   "cell_type": "code",
   "execution_count": 23,
   "metadata": {},
   "outputs": [
    {
     "data": {
      "text/plain": [
       "10.88117572719701"
      ]
     },
     "execution_count": 23,
     "metadata": {},
     "output_type": "execute_result"
    }
   ],
   "source": [
    "meanAP(answers, predict(5.8, scores))"
   ]
  }
 ],
 "metadata": {
  "interpreter": {
   "hash": "be9cdc504d98ab96ad8866acde1c88b8018494c09f03a4368ac294b997c715e8"
  },
  "kernelspec": {
   "display_name": "Python 3.9.10 64-bit (windows store)",
   "language": "python",
   "name": "python3"
  },
  "language_info": {
   "codemirror_mode": {
    "name": "ipython",
    "version": 3
   },
   "file_extension": ".py",
   "mimetype": "text/x-python",
   "name": "python",
   "nbconvert_exporter": "python",
   "pygments_lexer": "ipython3",
   "version": "3.9.10"
  },
  "orig_nbformat": 4
 },
 "nbformat": 4,
 "nbformat_minor": 2
}
