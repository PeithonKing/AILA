{
 "cells": [
  {
   "cell_type": "code",
   "execution_count": null,
   "metadata": {},
   "outputs": [],
   "source": [
    "from fuzzywuzzy import fuzz\n",
    "import json\n",
    "# import time\n",
    "# import numpy as np\n",
    "import pandas as pd\n",
    "from tqdm import tqdm"
   ]
  },
  {
   "cell_type": "code",
   "execution_count": null,
   "metadata": {},
   "outputs": [],
   "source": [
    "loc = \"../refining_seriously/\"\n",
    "def namestr(obj, namespace = globals()):\n",
    "    return [name for name in namespace if namespace[name] is obj][0]\n",
    "\n",
    "\n",
    "def print_json(query, n = 3, m = 5, k=6):\n",
    "    n = 3\n",
    "    print(f\"{namestr(query)} = \"+\"{\\n\", end=\"\")  # start of the json\n",
    "    l = sorted(list(query.keys()),\n",
    "            key=lambda x: int(x[k:]))\n",
    "    for QID in l[:n]:\n",
    "        print('\\t\"'+QID+'\":', query[QID][:m], \"\\b\\b, ......],\")\n",
    "    for i in range(2):\n",
    "        print(\"\\t...\")\n",
    "    for QID in l[-n:]:\n",
    "        print('\\t\"'+QID+'\":', query[QID][:m], \"\\b\\b, ......],\")\n",
    "    print(\"}\")  # end of the json"
   ]
  },
  {
   "cell_type": "code",
   "execution_count": null,
   "metadata": {},
   "outputs": [],
   "source": [
    "a = \"a\"*(6)\n",
    "b = \"a\"*(5)\n",
    "fuzz.ratio(a, b)"
   ]
  },
  {
   "cell_type": "code",
   "execution_count": null,
   "metadata": {},
   "outputs": [],
   "source": [
    "with open(loc+\"cases.json\") as f:\n",
    "    docs = json.load(f)\n",
    "with open(loc+\"Query_doc.json\") as f:\n",
    "    queriesR = json.load(f)\n",
    "with open(loc+\"answers.json\") as f:\n",
    "    answers = json.load(f)"
   ]
  },
  {
   "cell_type": "code",
   "execution_count": null,
   "metadata": {},
   "outputs": [],
   "source": [
    "prior_cases = {X: docs[X] for X in list(docs.keys())[:30]}\n",
    "queries = {X: queriesR[X] for X in list(queriesR.keys())}"
   ]
  },
  {
   "cell_type": "code",
   "execution_count": null,
   "metadata": {},
   "outputs": [],
   "source": [
    "X = {}\n",
    "for CaseName, case in tqdm(prior_cases.items()):\n",
    "    for QueryName, query in queries.items():\n",
    "        try: X[CaseName][QueryName] = fuzz.ratio(case, query) \n",
    "        except KeyError:\n",
    "            X[CaseName] = {}\n",
    "            X[CaseName][QueryName] = fuzz.ratio(case, query)"
   ]
  },
  {
   "cell_type": "code",
   "execution_count": null,
   "metadata": {},
   "outputs": [],
   "source": [
    "x = pd.DataFrame(X)"
   ]
  },
  {
   "cell_type": "code",
   "execution_count": null,
   "metadata": {},
   "outputs": [],
   "source": [
    "x.to_csv(\"fuzzy_ratio.csv\")"
   ]
  },
  {
   "cell_type": "code",
   "execution_count": null,
   "metadata": {},
   "outputs": [],
   "source": [
    "fuzz.token_sort_ratio(prior_cases[\"C4\"], query[\"AILA_Q1\"])"
   ]
  },
  {
   "cell_type": "code",
   "execution_count": null,
   "metadata": {},
   "outputs": [],
   "source": [
    "# fuzz.token_sort_ratio(list(\"fuzzy wuzzy was a bear\"), list(\"wuzzy fuzzy was a bear\"))\n",
    "fuzz.token_sort_ratio(\"fuzzy wuzzy was a bear\", \"fuzzy wuzzy was a bear\")"
   ]
  }
 ],
 "metadata": {
  "interpreter": {
   "hash": "95b59b4b0e72d3e94105c3ab4f1a1e6e746e4c2a7c235241251baf92fb36381f"
  },
  "kernelspec": {
   "display_name": "Python 3.9.13 64-bit (windows store)",
   "language": "python",
   "name": "python3"
  },
  "language_info": {
   "codemirror_mode": {
    "name": "ipython",
    "version": 3
   },
   "file_extension": ".py",
   "mimetype": "text/x-python",
   "name": "python",
   "nbconvert_exporter": "python",
   "pygments_lexer": "ipython3",
   "version": "3.9.13"
  },
  "orig_nbformat": 4
 },
 "nbformat": 4,
 "nbformat_minor": 2
}
