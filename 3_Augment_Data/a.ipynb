{
 "cells": [
  {
   "cell_type": "code",
   "execution_count": 1,
   "metadata": {},
   "outputs": [],
   "source": [
    "from tqdm import tqdm\n",
    "from time import sleep"
   ]
  },
  {
   "cell_type": "code",
   "execution_count": 2,
   "metadata": {},
   "outputs": [
    {
     "name": "stderr",
     "output_type": "stream",
     "text": [
      "100%|██████████| 4/4 [00:04<00:00,  1.01s/it]\n"
     ]
    }
   ],
   "source": [
    "text = \"\"\n",
    "for char in tqdm([\"a\", \"b\", \"c\", \"d\"]):\n",
    "    sleep(1)\n",
    "    text = text + char"
   ]
  },
  {
   "cell_type": "code",
   "execution_count": 5,
   "metadata": {},
   "outputs": [
    {
     "name": "stderr",
     "output_type": "stream",
     "text": [
      "100%|██████████| 100/100 [00:01<00:00, 63.01it/s]\n"
     ]
    }
   ],
   "source": [
    "for i in tqdm(range(100)):\n",
    "    sleep(0.01)"
   ]
  },
  {
   "cell_type": "code",
   "execution_count": null,
   "metadata": {},
   "outputs": [],
   "source": [
    "import pandas as pd\n",
    "import translators as ts\n",
    "from multiprocessing import Pool\n",
    "from tqdm import *\n",
    "\n",
    "CSV_PATH = '../input/jigsaw-multilingual-toxic-comment-classification/jigsaw-toxic-comment-train.csv'\n",
    "LANG = 'es'\n",
    "API = 'google'\n",
    "\n",
    "\n",
    "def translator_constructor(api):\n",
    "    if api == 'google':\n",
    "        return ts.google\n",
    "    elif api == 'bing':\n",
    "        return ts.bing\n",
    "    elif api == 'baidu':\n",
    "        return ts.baidu\n",
    "    elif api == 'sogou':\n",
    "        return ts.sogou\n",
    "    elif api == 'youdao':\n",
    "        return ts.youdao\n",
    "    elif api == 'tencent':\n",
    "        return ts.tencent\n",
    "    elif api == 'alibaba':\n",
    "        return ts.alibaba\n",
    "    else:\n",
    "        raise NotImplementedError(f'{api} translator is not realised!')\n",
    "\n",
    "\n",
    "def translate(x):\n",
    "    try:\n",
    "        return [x[0], ts.google(x[1], 'en', LANG), x[2]]\n",
    "    except:\n",
    "        return [x[0], None, x[2]]\n",
    "\n",
    "\n",
    "def imap_unordered_bar(func, args, n_processes: int = 48):\n",
    "    p = Pool(n_processes, maxtasksperchild=100)\n",
    "    res_list = []\n",
    "    with tqdm(total=len(args)) as pbar:\n",
    "        for i, res in tqdm(enumerate(p.imap_unordered(func, args))):\n",
    "            pbar.update()\n",
    "            res_list.append(res)\n",
    "    pbar.close()\n",
    "    p.close()\n",
    "    p.join()\n",
    "    return res_list\n",
    "\n",
    "\n",
    "def main():\n",
    "    df = pd.read_csv(CSV_PATH).sample(100)\n",
    "    tqdm.pandas('Translation progress')\n",
    "    df[['id', 'comment_text', 'toxic']] = imap_unordered_bar(translate, df[['id', 'comment_text', 'toxic']].values)\n",
    "    df.to_csv(f'jigsaw-toxic-comment-train-{API}-{LANG}.csv')\n",
    "\n",
    "\n",
    "if __name__ == '__main__':\n",
    "    main()"
   ]
  }
 ],
 "metadata": {
  "interpreter": {
   "hash": "95b59b4b0e72d3e94105c3ab4f1a1e6e746e4c2a7c235241251baf92fb36381f"
  },
  "kernelspec": {
   "display_name": "Python 3.9.13 64-bit (windows store)",
   "language": "python",
   "name": "python3"
  },
  "language_info": {
   "codemirror_mode": {
    "name": "ipython",
    "version": 3
   },
   "file_extension": ".py",
   "mimetype": "text/x-python",
   "name": "python",
   "nbconvert_exporter": "python",
   "pygments_lexer": "ipython3",
   "version": "3.9.13"
  },
  "orig_nbformat": 4
 },
 "nbformat": 4,
 "nbformat_minor": 2
}
