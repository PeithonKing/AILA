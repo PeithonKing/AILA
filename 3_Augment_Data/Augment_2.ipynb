{
 "cells": [
  {
   "cell_type": "code",
   "execution_count": 24,
   "metadata": {},
   "outputs": [],
   "source": [
    "import translators as ts\n",
    "import json\n",
    "import nltk\n",
    "from nltk.stem import PorterStemmer\n",
    "from nltk.corpus import stopwords\n",
    "from tqdm import tqdm\n",
    "import os\n",
    "import time\n",
    "import pandas as pd\n",
    "tokenizer = nltk.RegexpTokenizer(r\"\\w+\")\n",
    "ps = PorterStemmer()\n",
    "ts.google(\"I love Elephants!\", \"en\", \"bn\")\n",
    "langs = list(ts._google.language_map.keys())\n",
    "bad_langs = ['en', 'ay', 'bm', 'doi', 'dv', 'ee', 'lus', 'mni-Mtei']\n",
    "for x in bad_langs:\n",
    "    langs.remove(x)"
   ]
  },
  {
   "cell_type": "code",
   "execution_count": 3,
   "metadata": {},
   "outputs": [],
   "source": [
    "loc = \"../refining_seriously/\"\n",
    "def namestr(obj, namespace = globals()):\n",
    "    return [name for name in namespace if namespace[name] is obj][0]\n",
    "\n",
    "def print_json(query, n = 3, m = 5, k=6):\n",
    "    n = 3\n",
    "    print(f\"{namestr(query)} = \"+\"{\\n\", end=\"\")  # start of the json\n",
    "    l = sorted(list(query.keys()),\n",
    "            key=lambda x: int(x[k:]))\n",
    "    for QID in l[:n]:\n",
    "        print('\\t\"'+QID+'\":', query[QID][:m], \"\\b\\b, ......],\")\n",
    "    for i in range(2):\n",
    "        print(\"\\t...\")\n",
    "    for QID in l[-n:]:\n",
    "        print('\\t\"'+QID+'\":', query[QID][:m], \"\\b\\b, ......],\")\n",
    "    print(\"}\")  # end of the json\n",
    "\n",
    "def process(string,\n",
    "            tokenizer = nltk.RegexpTokenizer(r\"\\w+\"),\n",
    "            ps = PorterStemmer(),\n",
    "            stopwords = stopwords.words('english')):\n",
    "    '''\n",
    "    - A function to process a string and return a list of tokens.\n",
    "    - We tokenize the string, remove stopwords and numbers, and\n",
    "        finally stem the tokens to keep them in a list.\n",
    "    - This function will be used in all cases uniformly so that \n",
    "        we can compare \"APPLES WITH APPLES\".\n",
    "    '''\n",
    "    string = tokenizer.tokenize(string.lower()) # tokenize\n",
    "    tokens = [ps.stem(fl) for fl in string # stem tokens\n",
    "                if not fl.isnumeric() and # remove numbers\n",
    "                fl not in stopwords] # remove stopwords\n",
    "    return tokens # takes string as input and returns a list\n",
    "\n",
    "def augment(string, toLang, threshold = 5000):\n",
    "    string = string.split(\"\\n\")\n",
    "    text = []\n",
    "\n",
    "    for line in string:\n",
    "        if len(line)>threshold:\n",
    "            text += line.split(\".\")\n",
    "        elif line != \"\":\n",
    "            text.append(line)\n",
    "\n",
    "    ans = []\n",
    "    for tex in tqdm(text):\n",
    "        oth = ts.google(tex, \"en\", to)\n",
    "        eng = ts.google(oth, toLang, \"en\")\n",
    "        ans.append(eng)\n",
    "\n",
    "    return process(\". \".join(ans))"
   ]
  },
  {
   "cell_type": "code",
   "execution_count": 10,
   "metadata": {},
   "outputs": [
    {
     "name": "stdout",
     "output_type": "stream",
     "text": [
      "prior_cases = {\n",
      "\t\"C1\": ['masud', 'khan', 'v', 'state', 'uttar', ......],\n",
      "\t\"C2\": ['indian', 'oil', 'corpor', 'v', 'nepc', ......],\n",
      "\t\"C3\": ['gurpal', 'singh', 'v', 'state', 'punjab', ......],\n",
      "\t...\n",
      "\t...\n",
      "\t\"C2912\": ['dharangadhara', 'chemic', 'work', 'limit', 'v', ......],\n",
      "\t\"C2913\": ['central', 'bank', 'india', 'v', 'sethumadhavan', ......],\n",
      "\t\"C2914\": ['som', 'raj', 'soma', 'v', 'state', ......],\n",
      "}\n"
     ]
    }
   ],
   "source": [
    "with open(loc+\"cases.json\") as f:\n",
    "    prior_cases = json.load(f)\n",
    "with open(loc+\"Query_doc.json\") as f:\n",
    "    query = json.load(f)\n",
    "with open(loc+\"answers.json\") as f:\n",
    "    answers = json.load(f)\n",
    "\n",
    "print_json(prior_cases, k=1)\n",
    "# print_json(query)\n",
    "# print_json(answers, 3, 1)"
   ]
  },
  {
   "cell_type": "code",
   "execution_count": null,
   "metadata": {},
   "outputs": [],
   "source": [
    "prior_cases_au = {}\n",
    "for case in tqdm(prior_cases.keys()):\n",
    "    nEnd = int(case[1:])\n"
   ]
  },
  {
   "cell_type": "code",
   "execution_count": 21,
   "metadata": {},
   "outputs": [
    {
     "name": "stdout",
     "output_type": "stream",
     "text": [
      "['af', 'ak', 'am', 'ar', 'as', 'az', 'be', 'bg', 'bho', 'bn', 'bs', 'ca', 'ceb', 'ckb', 'co', 'cs', 'cy', 'da', 'de', 'el', 'en-US', 'eo', 'es', 'et', 'eu', 'fa', 'fi', 'fr', 'fy', 'ga', 'gd', 'gl', 'gn', 'gom', 'gu', 'ha', 'haw', 'hi', 'hmn', 'hr', 'ht', 'hu', 'hy', 'id', 'ig', 'ilo', 'is', 'it', 'iw', 'ja', 'jw', 'ka', 'kk', 'km', 'kn', 'ko', 'kri', 'ku', 'ky', 'la', 'lb', 'lg', 'ln', 'lo', 'lt', 'lus', 'lv', 'mai', 'mg', 'mi', 'mk', 'ml', 'mn', 'mni-Mtei', 'mr', 'ms', 'mt', 'my', 'ne', 'nl', 'no', 'nso', 'ny', 'om', 'or', 'pa', 'pl', 'ps', 'pt', 'qu', 'ro', 'ru', 'rw', 'sa', 'sd', 'si', 'sk', 'sl', 'sm', 'sn', 'so', 'sq', 'sr', 'st', 'su', 'sv', 'sw', 'ta', 'te', 'tg', 'th', 'ti', 'tk', 'tl', 'tr', 'ts', 'tt', 'ug', 'uk', 'ur', 'uz', 'vi', 'xh', 'yi', 'yo', 'zh-CN', 'zh-TW', 'zu']\n"
     ]
    }
   ],
   "source": [
    "print(langs)"
   ]
  },
  {
   "cell_type": "code",
   "execution_count": 6,
   "metadata": {},
   "outputs": [
    {
     "name": "stderr",
     "output_type": "stream",
     "text": [
      "100%|██████████| 134/134 [06:08<00:00,  2.75s/it]\n"
     ]
    }
   ],
   "source": [
    "bad = []\n",
    "tees = {}\n",
    "for lang in tqdm(langs):\n",
    "    try:\n",
    "        tees[lang] = ts.google(\"I love Elephants!\", \"en\", lang)\n",
    "    except:\n",
    "        bad.append(lang)"
   ]
  },
  {
   "cell_type": "code",
   "execution_count": 9,
   "metadata": {},
   "outputs": [
    {
     "name": "stderr",
     "output_type": "stream",
     "text": [
      "100%|██████████| 134/134 [06:02<00:00,  2.71s/it]\n"
     ]
    }
   ],
   "source": [
    "back = {}\n",
    "for lang in tqdm(langs):\n",
    "    back[lang] = ts.google(tees[lang], lang, \"en\")"
   ]
  },
  {
   "cell_type": "code",
   "execution_count": 23,
   "metadata": {},
   "outputs": [
    {
     "data": {
      "text/plain": [
       "['ay', 'bm', 'doi', 'dv', 'ee', 'lus', 'mni-Mtei']"
      ]
     },
     "execution_count": 23,
     "metadata": {},
     "output_type": "execute_result"
    }
   ],
   "source": [
    "bad = []\n",
    "for x, y in back.items():\n",
    "    if \"elephant\" not in y.lower():\n",
    "        bad.append(x)\n",
    "bad"
   ]
  },
  {
   "cell_type": "code",
   "execution_count": 16,
   "metadata": {},
   "outputs": [
    {
     "data": {
      "text/plain": [
       "{'af': 'I love elephants!',\n",
       " 'ak': 'I’m happy with the elephant!',\n",
       " 'am': 'I love elephants!',\n",
       " 'ar': 'I love elephants!',\n",
       " 'as': 'I love elephants!',\n",
       " 'ay': 'I love the electives!',\n",
       " 'az': 'I love the elephants!',\n",
       " 'be': 'I love elephants!',\n",
       " 'bg': 'I love elephants!',\n",
       " 'bho': 'I love an elephant!',\n",
       " 'bm': 'I have a great thing for me!',\n",
       " 'bn': 'I love elephants!',\n",
       " 'bs': 'I love elephants!',\n",
       " 'ca': 'I love elephants!',\n",
       " 'ceb': 'I love the elephants!',\n",
       " 'ckb': 'I love the elephants!',\n",
       " 'co': 'I love the elephants!',\n",
       " 'cs': 'I love elephants!',\n",
       " 'cy': 'I love elephants!',\n",
       " 'da': 'I love elephants!',\n",
       " 'de': 'I love elephants!',\n",
       " 'doi': 'I love the hand!',\n",
       " 'dv': 'I love male bays!',\n",
       " 'ee': 'I love horses so much!',\n",
       " 'el': 'I love elephants!',\n",
       " 'en': 'I love Elephants!',\n",
       " 'en-US': 'I love Elephants!',\n",
       " 'eo': 'I love elephants!',\n",
       " 'es': 'I love elephants!',\n",
       " 'et': 'I love elephants!',\n",
       " 'eu': 'I love elephants!',\n",
       " 'fa': 'I love elephants!',\n",
       " 'fi': 'I love elephants!',\n",
       " 'fr': 'I love elephants!',\n",
       " 'fy': 'I love elephants!',\n",
       " 'ga': 'I love elephants!',\n",
       " 'gd': 'I like elephants!',\n",
       " 'gl': 'I love elephants!',\n",
       " 'gn': 'I love elephants!',\n",
       " 'gom': 'I have a love of elephants!',\n",
       " 'gu': 'I love the elephants!',\n",
       " 'ha': \"I'd like elephants!\",\n",
       " 'haw': 'I love elephants!',\n",
       " 'hi': 'I love elephants!',\n",
       " 'hmn': 'I love eple elephant!',\n",
       " 'hr': 'I love elephants!',\n",
       " 'ht': 'I love elephants!',\n",
       " 'hu': 'I love elephants!',\n",
       " 'hy': 'I love elephants.',\n",
       " 'id': 'I like elephants!',\n",
       " 'ig': 'I love the elephants!',\n",
       " 'ilo': 'I love the elephants!',\n",
       " 'is': 'I love elephants!',\n",
       " 'it': 'I love elephants!',\n",
       " 'iw': 'I love elephants!',\n",
       " 'ja': 'I love elephants!',\n",
       " 'jw': 'I like the elephant!',\n",
       " 'ka': 'I love elephants!',\n",
       " 'kk': 'I love elephants!',\n",
       " 'km': 'I love the elephant!',\n",
       " 'kn': 'I love elephants!',\n",
       " 'ko': 'I love elephants!',\n",
       " 'kri': 'I like a elephants!',\n",
       " 'ku': 'I love elephants!',\n",
       " 'ky': 'I love elephants!',\n",
       " 'la': 'I love elephants!',\n",
       " 'lb': 'I love elephants!',\n",
       " 'lg': 'I love an elephant!',\n",
       " 'ln': 'I love the elephant!',\n",
       " 'lo': 'I love elephants!',\n",
       " 'lt': 'I love elephants!',\n",
       " 'lus': 'I love the lion!',\n",
       " 'lv': 'I love elephants!',\n",
       " 'mai': 'I have an elephant love!',\n",
       " 'mg': 'I love elephants!',\n",
       " 'mi': 'I love elephants!',\n",
       " 'mk': 'I want elephants!',\n",
       " 'ml': 'I love elephants!',\n",
       " 'mn': 'I love elephants!',\n",
       " 'mni-Mtei': 'I know the Maipali!',\n",
       " 'mr': 'I love elephants!',\n",
       " 'ms': 'I love elephants!',\n",
       " 'mt': 'I love elephants!',\n",
       " 'my': 'I love an elephant!',\n",
       " 'ne': 'I love the elephants!',\n",
       " 'nl': 'I love elephants!',\n",
       " 'no': 'I love elephants!',\n",
       " 'nso': 'I love elephants!',\n",
       " 'ny': 'I like an elephant!',\n",
       " 'om': 'I love Elephant so much!',\n",
       " 'or': 'I love the elephants!',\n",
       " 'pa': 'I love elephants!',\n",
       " 'pl': 'I love elephants!',\n",
       " 'ps': 'I love the elephants!',\n",
       " 'pt': 'I love elephants!',\n",
       " 'qu': 'I love the elephants!',\n",
       " 'ro': 'I love elephants!',\n",
       " 'ru': 'I love elephants!',\n",
       " 'rw': 'I love the elephant!',\n",
       " 'sa': 'I love elephants!',\n",
       " 'sd': 'I like elephants!',\n",
       " 'si': 'I love elephants!',\n",
       " 'sk': 'I love elephants!',\n",
       " 'sl': 'I love elephants!',\n",
       " 'sm': 'I like elephants!',\n",
       " 'sn': 'I love the elephant!',\n",
       " 'so': 'I love elephants!',\n",
       " 'sq': 'I love elephants!',\n",
       " 'sr': 'I love elephants!',\n",
       " 'st': 'I love elephants!',\n",
       " 'su': 'I like elephants!',\n",
       " 'sv': 'I love elephants!',\n",
       " 'sw': 'I like an elephant!',\n",
       " 'ta': 'I love the elephants!',\n",
       " 'te': 'I love elephants!',\n",
       " 'tg': 'I love elephants!',\n",
       " 'th': 'I love elephants!',\n",
       " 'ti': 'I love elephants!',\n",
       " 'tk': 'I love elephants!',\n",
       " 'tl': 'I love elephants!',\n",
       " 'tr': 'I love elephants!',\n",
       " 'ts': 'I love elephants!',\n",
       " 'tt': 'I love elephants!',\n",
       " 'ug': 'I love the elephants!',\n",
       " 'uk': 'I love elephants!',\n",
       " 'ur': 'I like elephants!',\n",
       " 'uz': 'I love elephants!',\n",
       " 'vi': 'I love elephants!',\n",
       " 'xh': 'I love elephants!',\n",
       " 'yi': 'I love elephants!',\n",
       " 'yo': 'I love elephants!',\n",
       " 'zh-CN': 'I love elephants!',\n",
       " 'zh-TW': 'I love elephants!',\n",
       " 'zu': 'I love elephants!'}"
      ]
     },
     "execution_count": 16,
     "metadata": {},
     "output_type": "execute_result"
    }
   ],
   "source": [
    "back"
   ]
  },
  {
   "cell_type": "code",
   "execution_count": 15,
   "metadata": {},
   "outputs": [
    {
     "data": {
      "text/plain": [
       "['ay', 'bm', 'doi', 'dv', 'ee', 'en', 'en-US', 'lus', 'mni-Mtei', 'om']"
      ]
     },
     "execution_count": 15,
     "metadata": {},
     "output_type": "execute_result"
    }
   ],
   "source": [
    "bad"
   ]
  },
  {
   "cell_type": "code",
   "execution_count": 7,
   "metadata": {},
   "outputs": [
    {
     "data": {
      "text/plain": [
       "{'af': 'Ek is lief vir olifante!',\n",
       " 'ak': 'M’ani gye asono ho!',\n",
       " 'am': 'ዝሆኖችን እወዳለሁ!',\n",
       " 'ar': 'أنا أحب الفيلة!',\n",
       " 'as': 'মই হাতী ভাল পাওঁ!',\n",
       " 'ay': '¡Nayaw elefantenakar wal munasta!',\n",
       " 'az': 'Filləri sevirəm!',\n",
       " 'be': 'Я люблю сланоў!',\n",
       " 'bg': 'Обичам слонове!',\n",
       " 'bho': 'हमरा हाथी से प्यार बा!',\n",
       " 'bm': 'Wolo ka di n ye kosɛbɛ!',\n",
       " 'bn': 'আমি হাতি ভালবাসি!',\n",
       " 'bs': 'Volim slonove!',\n",
       " 'ca': \"M'encanten els elefants!\",\n",
       " 'ceb': 'Ganahan ko sa mga elepante!',\n",
       " 'ckb': 'من فیلەکانم خۆشدەوێت!',\n",
       " 'co': \"Amu l'elefanti!\",\n",
       " 'cs': 'Miluji slony!',\n",
       " 'cy': \"Dwi'n caru eliffantod!\",\n",
       " 'da': 'Jeg elsker elefanter!',\n",
       " 'de': 'Ich liebe Elefanten!',\n",
       " 'doi': 'मैं हाथी प्यार करदा हां!',\n",
       " 'dv': 'އަހަރެން ލޯބިވަނީ ފިރިހެން ފިނޮޅުތަކަށް!',\n",
       " 'ee': 'Melɔ̃a sɔwo ŋutɔ!',\n",
       " 'el': 'Λατρεύω τους ελέφαντες!',\n",
       " 'en': 'I love Elephants!',\n",
       " 'en-US': 'I love Elephants!',\n",
       " 'eo': 'Mi amas elefantojn!',\n",
       " 'es': '¡Amo a los elefantes!',\n",
       " 'et': 'Ma armastan elevante!',\n",
       " 'eu': 'Elefanteak maite ditut!',\n",
       " 'fa': 'من عاشق فیل ها هستم!',\n",
       " 'fi': 'Rakastan norsuja!',\n",
       " 'fr': \"J'adore les éléphants!\",\n",
       " 'fy': 'Ik hâld fan oaljefanten!',\n",
       " 'ga': 'Is breá liom eilifintí!',\n",
       " 'gd': 'Is toil leam ailbhein!',\n",
       " 'gl': 'Encántanme os elefantes!',\n",
       " 'gn': '¡Ahayhu umi elefante!',\n",
       " 'gom': 'म्हाका हत्तींचो मोग आसा!',\n",
       " 'gu': 'હું હાથીઓને પ્રેમ કરું છું!',\n",
       " 'ha': 'Ina son giwaye!',\n",
       " 'haw': 'Aloha au i nā elepani!',\n",
       " 'hi': 'मुझे हाथियों से प्यार है!',\n",
       " 'hmn': 'Kuv hlub Ele ntxhw!',\n",
       " 'hr': 'Volim slonove!',\n",
       " 'ht': 'Mwen renmen elefan!',\n",
       " 'hu': 'Szeretem az elefántokat!',\n",
       " 'hy': 'Ես սիրում եմ փղերը:',\n",
       " 'id': 'Saya suka gajah!',\n",
       " 'ig': \"Ahụrụ m enyí n'anya!\",\n",
       " 'ilo': 'Ay-ayatek dagiti elepante!',\n",
       " 'is': 'Ég elska fíla!',\n",
       " 'it': 'Amo gli elefanti!',\n",
       " 'iw': 'אני אוהב פילים!',\n",
       " 'ja': '象が大好き！',\n",
       " 'jw': 'Aku seneng gajah!',\n",
       " 'ka': 'მე მიყვარს სპილოები!',\n",
       " 'kk': 'Мен пілдерді жақсы көремін!',\n",
       " 'km': 'ខ្ញុំស្រឡាញ់ដំរី!',\n",
       " 'kn': 'ನಾನು ಆನೆಗಳನ್ನು ಪ್ರೀತಿಸುತ್ತೇನೆ!',\n",
       " 'ko': '나는 코끼리를 사랑한다!',\n",
       " 'kri': 'A lɛk ɛlifant dɛn!',\n",
       " 'ku': 'Ez ji elemanan hez dikim!',\n",
       " 'ky': 'Мен пилдерди жакшы көрөм!',\n",
       " 'la': 'Amo elephantis!',\n",
       " 'lb': 'Ech hunn Elefanten gär!',\n",
       " 'lg': 'Njagala nnyo enjovu!',\n",
       " 'ln': 'Nalingaka bangando!',\n",
       " 'lo': 'ຂ້ອຍຮັກຊ້າງ!',\n",
       " 'lt': 'Aš myliu dramblius!',\n",
       " 'lus': 'Sakeibaknei hi ka ngaina hle mai!',\n",
       " 'lv': 'Es mīlu ziloņus!',\n",
       " 'mai': 'हमरा हाथी स प्रेम अछि!',\n",
       " 'mg': 'Tiako ny elefanta!',\n",
       " 'mi': 'Aroha ana ahau ki nga elephants!',\n",
       " 'mk': 'Сакам слонови!',\n",
       " 'ml': 'ഞാൻ ആനകളെ സ്നേഹിക്കുന്നു!',\n",
       " 'mn': 'Би заануудад дуртай!',\n",
       " 'mni-Mtei': 'ꯑꯩꯅꯥ ꯑꯦꯂꯤꯐꯦꯟꯇꯁꯤꯡꯕꯨ ꯅꯨꯡꯁꯤꯖꯩ!',\n",
       " 'mr': 'मला हत्ती आवडतात!',\n",
       " 'ms': 'Saya suka gajah!',\n",
       " 'mt': 'Inħobb iljunfanti!',\n",
       " 'my': 'ငါဆင်ကိုချစ်တယ်!',\n",
       " 'ne': 'म हात्तीहरू मन पराउँछु!',\n",
       " 'nl': 'Ik hou van olifanten!',\n",
       " 'no': 'Jeg elsker elefanter!',\n",
       " 'nso': 'Ke rata ditlou!',\n",
       " 'ny': 'Ndimakonda njovu!',\n",
       " 'om': \"Elephants baay'een jaalladha!\",\n",
       " 'or': 'ମୁଁ ହାତୀମାନଙ୍କୁ ଭଲ ପାଏ!',\n",
       " 'pa': 'ਮੈਨੂੰ ਹਾਥੀ ਪਸੰਦ ਹੈ!',\n",
       " 'pl': 'Kocham słonie!',\n",
       " 'ps': 'زه له هاتیو سره مینه لرم!',\n",
       " 'pt': 'Eu amo elefantes!',\n",
       " 'qu': '¡Anchatan munakuni elefantekunata!',\n",
       " 'ro': 'Iubesc elefanții!',\n",
       " 'ru': 'Я люблю слонов!',\n",
       " 'rw': 'Nkunda inzovu!',\n",
       " 'sa': 'अहं गजान् प्रेम करोमि!',\n",
       " 'sd': 'مون کي هاٿي پسند آهي!',\n",
       " 'si': 'මම අලි ඇතුන්ට ආදරෙයි!',\n",
       " 'sk': 'Milujem slony!',\n",
       " 'sl': 'Obožujem slone!',\n",
       " 'sm': 'Ou te fiafia i elefane!',\n",
       " 'sn': 'Ini ndinoda nzou!',\n",
       " 'so': 'Waan jeclahay maroodiyaasha!',\n",
       " 'sq': 'I dua elefantët!',\n",
       " 'sr': 'Волим слонове!',\n",
       " 'st': 'Ke rata litlou!',\n",
       " 'su': 'Abdi resep gajah!',\n",
       " 'sv': 'Jag älskar elefanter!',\n",
       " 'sw': 'Napenda tembo!',\n",
       " 'ta': 'நான் யானைகளை நேசிக்கிறேன்!',\n",
       " 'te': 'నేను ఏనుగులను ప్రేమిస్తున్నాను!',\n",
       " 'tg': 'Ман филҳоро дӯст медорам!',\n",
       " 'th': 'ฉันรักช้าง!',\n",
       " 'ti': 'ወይጦታት ኣዝየ እየ ዝፈቱ!',\n",
       " 'tk': 'Men pilleri gowy görýärin!',\n",
       " 'tl': 'Mahal ko ang mga elepante!',\n",
       " 'tr': 'Filleri seviyorum!',\n",
       " 'ts': 'Ndzi rhanda tindlopfu!',\n",
       " 'tt': 'Мин филләрне яратам!',\n",
       " 'ug': 'مەن پىللارنى ياخشى كۆرىمەن!',\n",
       " 'uk': 'Я люблю слонів!',\n",
       " 'ur': 'مجھے ہاتھی پسند ہیں!',\n",
       " 'uz': \"Fillarni yaxshi ko'raman!\",\n",
       " 'vi': 'Tôi yêu voi!',\n",
       " 'xh': 'Ndiyazithanda iindlovu!',\n",
       " 'yi': 'איך ליבע עלאַפאַנץ!',\n",
       " 'yo': 'Mo nifẹ awọn erin!',\n",
       " 'zh-CN': '我爱大象！',\n",
       " 'zh-TW': '我愛大象！',\n",
       " 'zu': 'Ngiyazithanda izindlovu!'}"
      ]
     },
     "execution_count": 7,
     "metadata": {},
     "output_type": "execute_result"
    }
   ],
   "source": [
    "tees"
   ]
  }
 ],
 "metadata": {
  "interpreter": {
   "hash": "95b59b4b0e72d3e94105c3ab4f1a1e6e746e4c2a7c235241251baf92fb36381f"
  },
  "kernelspec": {
   "display_name": "Python 3.9.13 64-bit (windows store)",
   "language": "python",
   "name": "python3"
  },
  "language_info": {
   "codemirror_mode": {
    "name": "ipython",
    "version": 3
   },
   "file_extension": ".py",
   "mimetype": "text/x-python",
   "name": "python",
   "nbconvert_exporter": "python",
   "pygments_lexer": "ipython3",
   "version": "3.9.13"
  },
  "orig_nbformat": 4
 },
 "nbformat": 4,
 "nbformat_minor": 2
}
